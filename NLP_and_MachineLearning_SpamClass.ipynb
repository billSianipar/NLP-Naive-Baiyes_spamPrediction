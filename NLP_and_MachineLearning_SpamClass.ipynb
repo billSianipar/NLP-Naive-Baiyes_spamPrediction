{
 "cells": [
  {
   "cell_type": "markdown",
   "metadata": {},
   "source": [
    "# Spam prediction using Class Vectorizer and TF-IDF as means for Natural Language Processing (NLP), and Naive-Bayes Machine Learning Classifier Method."
   ]
  },
  {
   "cell_type": "code",
   "execution_count": 1,
   "metadata": {},
   "outputs": [],
   "source": [
    "import numpy as np\n",
    "import pandas as pd\n",
    "import seaborn as sns\n",
    "from matplotlib.ticker import (MultipleLocator, FormatStrFormatter, AutoMinorLocator)\n",
    "import matplotlib.pyplot as plt\n",
    "%matplotlib inline"
   ]
  },
  {
   "cell_type": "code",
   "execution_count": 2,
   "metadata": {},
   "outputs": [],
   "source": [
    "import string\n",
    "from nltk.corpus import stopwords\n",
    "from sklearn.pipeline import Pipeline\n",
    "from sklearn.model_selection import train_test_split, StratifiedKFold\n",
    "from sklearn.preprocessing import StandardScaler\n",
    "from sklearn.feature_extraction.text import CountVectorizer, TfidfTransformer\n",
    "from sklearn.naive_bayes import MultinomialNB\n",
    "from sklearn.metrics import auc, plot_roc_curve, classification_report, roc_curve, roc_auc_score, plot_confusion_matrix\n",
    "from sklearn.ensemble import RandomForestClassifier\n",
    "import xgboost as xgb"
   ]
  },
  {
   "cell_type": "markdown",
   "metadata": {},
   "source": [
    "**The data is downloaded from UCI (University of Calivornia, Irvine) Machine Learning Repository. The data is some YouTube viewers' comments in 2017 of a music video from South Korean pop artist, Psy. The comments can be classified as spam and not spam. Text of the spam comments most likely are not related to the video. Spam comments are mostly the way of users to lead viewers to visit the link of their website.**"
   ]
  },
  {
   "cell_type": "markdown",
   "metadata": {},
   "source": [
    "**Link for the dataset: https://archive.ics.uci.edu/ml/datasets/YouTube+Spam+Collection**"
   ]
  },
  {
   "cell_type": "markdown",
   "metadata": {},
   "source": [
    "### Exploratory Data Analysis"
   ]
  },
  {
   "cell_type": "code",
   "execution_count": 3,
   "metadata": {},
   "outputs": [],
   "source": [
    "psy = pd.read_csv('Youtube01-Psy.csv')"
   ]
  },
  {
   "cell_type": "code",
   "execution_count": 4,
   "metadata": {},
   "outputs": [
    {
     "data": {
      "text/html": [
       "<div>\n",
       "<style scoped>\n",
       "    .dataframe tbody tr th:only-of-type {\n",
       "        vertical-align: middle;\n",
       "    }\n",
       "\n",
       "    .dataframe tbody tr th {\n",
       "        vertical-align: top;\n",
       "    }\n",
       "\n",
       "    .dataframe thead th {\n",
       "        text-align: right;\n",
       "    }\n",
       "</style>\n",
       "<table border=\"1\" class=\"dataframe\">\n",
       "  <thead>\n",
       "    <tr style=\"text-align: right;\">\n",
       "      <th></th>\n",
       "      <th>COMMENT_ID</th>\n",
       "      <th>AUTHOR</th>\n",
       "      <th>DATE</th>\n",
       "      <th>CONTENT</th>\n",
       "      <th>CLASS</th>\n",
       "    </tr>\n",
       "  </thead>\n",
       "  <tbody>\n",
       "    <tr>\n",
       "      <th>0</th>\n",
       "      <td>LZQPQhLyRh80UYxNuaDWhIGQYNQ96IuCg-AYWqNPjpU</td>\n",
       "      <td>Julius NM</td>\n",
       "      <td>2013-11-07T06:20:48</td>\n",
       "      <td>Huh, anyway check out this you[tube] channel: ...</td>\n",
       "      <td>1</td>\n",
       "    </tr>\n",
       "    <tr>\n",
       "      <th>1</th>\n",
       "      <td>LZQPQhLyRh_C2cTtd9MvFRJedxydaVW-2sNg5Diuo4A</td>\n",
       "      <td>adam riyati</td>\n",
       "      <td>2013-11-07T12:37:15</td>\n",
       "      <td>Hey guys check out my new channel and our firs...</td>\n",
       "      <td>1</td>\n",
       "    </tr>\n",
       "    <tr>\n",
       "      <th>2</th>\n",
       "      <td>LZQPQhLyRh9MSZYnf8djyk0gEF9BHDPYrrK-qCczIY8</td>\n",
       "      <td>Evgeny Murashkin</td>\n",
       "      <td>2013-11-08T17:34:21</td>\n",
       "      <td>just for test I have to say murdev.com</td>\n",
       "      <td>1</td>\n",
       "    </tr>\n",
       "    <tr>\n",
       "      <th>3</th>\n",
       "      <td>z13jhp0bxqncu512g22wvzkasxmvvzjaz04</td>\n",
       "      <td>ElNino Melendez</td>\n",
       "      <td>2013-11-09T08:28:43</td>\n",
       "      <td>me shaking my sexy ass on my channel enjoy ^_^ ﻿</td>\n",
       "      <td>1</td>\n",
       "    </tr>\n",
       "    <tr>\n",
       "      <th>4</th>\n",
       "      <td>z13fwbwp1oujthgqj04chlngpvzmtt3r3dw</td>\n",
       "      <td>GsMega</td>\n",
       "      <td>2013-11-10T16:05:38</td>\n",
       "      <td>watch?v=vtaRGgvGtWQ   Check this out .﻿</td>\n",
       "      <td>1</td>\n",
       "    </tr>\n",
       "  </tbody>\n",
       "</table>\n",
       "</div>"
      ],
      "text/plain": [
       "                                    COMMENT_ID            AUTHOR  \\\n",
       "0  LZQPQhLyRh80UYxNuaDWhIGQYNQ96IuCg-AYWqNPjpU         Julius NM   \n",
       "1  LZQPQhLyRh_C2cTtd9MvFRJedxydaVW-2sNg5Diuo4A       adam riyati   \n",
       "2  LZQPQhLyRh9MSZYnf8djyk0gEF9BHDPYrrK-qCczIY8  Evgeny Murashkin   \n",
       "3          z13jhp0bxqncu512g22wvzkasxmvvzjaz04   ElNino Melendez   \n",
       "4          z13fwbwp1oujthgqj04chlngpvzmtt3r3dw            GsMega   \n",
       "\n",
       "                  DATE                                            CONTENT  \\\n",
       "0  2013-11-07T06:20:48  Huh, anyway check out this you[tube] channel: ...   \n",
       "1  2013-11-07T12:37:15  Hey guys check out my new channel and our firs...   \n",
       "2  2013-11-08T17:34:21             just for test I have to say murdev.com   \n",
       "3  2013-11-09T08:28:43   me shaking my sexy ass on my channel enjoy ^_^ ﻿   \n",
       "4  2013-11-10T16:05:38            watch?v=vtaRGgvGtWQ   Check this out .﻿   \n",
       "\n",
       "   CLASS  \n",
       "0      1  \n",
       "1      1  \n",
       "2      1  \n",
       "3      1  \n",
       "4      1  "
      ]
     },
     "execution_count": 4,
     "metadata": {},
     "output_type": "execute_result"
    }
   ],
   "source": [
    "psy.head()"
   ]
  },
  {
   "cell_type": "markdown",
   "metadata": {},
   "source": [
    "**CLASS shows the classification of the comment (['CONTENT']).**\n",
    "\n",
    "**Class 1 = spam.**\n",
    "\n",
    "**Class 0 = not spam.**"
   ]
  },
  {
   "cell_type": "code",
   "execution_count": 5,
   "metadata": {},
   "outputs": [
    {
     "name": "stdout",
     "output_type": "stream",
     "text": [
      "<class 'pandas.core.frame.DataFrame'>\n",
      "RangeIndex: 350 entries, 0 to 349\n",
      "Data columns (total 5 columns):\n",
      " #   Column      Non-Null Count  Dtype \n",
      "---  ------      --------------  ----- \n",
      " 0   COMMENT_ID  350 non-null    object\n",
      " 1   AUTHOR      350 non-null    object\n",
      " 2   DATE        350 non-null    object\n",
      " 3   CONTENT     350 non-null    object\n",
      " 4   CLASS       350 non-null    int64 \n",
      "dtypes: int64(1), object(4)\n",
      "memory usage: 13.8+ KB\n"
     ]
    }
   ],
   "source": [
    "psy.info()"
   ]
  },
  {
   "cell_type": "code",
   "execution_count": 6,
   "metadata": {},
   "outputs": [
    {
     "data": {
      "text/plain": [
       "0                                 Julius NM\n",
       "1                               adam riyati\n",
       "2                          Evgeny Murashkin\n",
       "3                           ElNino Melendez\n",
       "4                                    GsMega\n",
       "                       ...                 \n",
       "345                         Carmen Racasanu\n",
       "346                         diego mogrovejo\n",
       "347    BlueYetiPlayz -Call Of Duty and More\n",
       "348                            Photo Editor\n",
       "349                              Ray Benich\n",
       "Name: AUTHOR, Length: 350, dtype: object"
      ]
     },
     "execution_count": 6,
     "metadata": {},
     "output_type": "execute_result"
    }
   ],
   "source": [
    "psy['AUTHOR']"
   ]
  },
  {
   "cell_type": "markdown",
   "metadata": {},
   "source": [
    "**To check whether the timestamp is related to the comment classification or not, first the DATE column has to be converted to datetime format.**"
   ]
  },
  {
   "cell_type": "code",
   "execution_count": 7,
   "metadata": {},
   "outputs": [],
   "source": [
    "psy['DATE'] = pd.to_datetime(psy['DATE'], format='%Y-%m-%dT%H:%M:%S')"
   ]
  },
  {
   "cell_type": "code",
   "execution_count": 8,
   "metadata": {},
   "outputs": [
    {
     "name": "stdout",
     "output_type": "stream",
     "text": [
      "<class 'pandas.core.frame.DataFrame'>\n",
      "RangeIndex: 350 entries, 0 to 349\n",
      "Data columns (total 5 columns):\n",
      " #   Column      Non-Null Count  Dtype         \n",
      "---  ------      --------------  -----         \n",
      " 0   COMMENT_ID  350 non-null    object        \n",
      " 1   AUTHOR      350 non-null    object        \n",
      " 2   DATE        350 non-null    datetime64[ns]\n",
      " 3   CONTENT     350 non-null    object        \n",
      " 4   CLASS       350 non-null    int64         \n",
      "dtypes: datetime64[ns](1), int64(1), object(3)\n",
      "memory usage: 13.8+ KB\n"
     ]
    }
   ],
   "source": [
    "psy.info()"
   ]
  },
  {
   "cell_type": "markdown",
   "metadata": {},
   "source": [
    "**We can get information about the comment length.**"
   ]
  },
  {
   "cell_type": "code",
   "execution_count": 9,
   "metadata": {},
   "outputs": [
    {
     "data": {
      "text/html": [
       "<div>\n",
       "<style scoped>\n",
       "    .dataframe tbody tr th:only-of-type {\n",
       "        vertical-align: middle;\n",
       "    }\n",
       "\n",
       "    .dataframe tbody tr th {\n",
       "        vertical-align: top;\n",
       "    }\n",
       "\n",
       "    .dataframe thead th {\n",
       "        text-align: right;\n",
       "    }\n",
       "</style>\n",
       "<table border=\"1\" class=\"dataframe\">\n",
       "  <thead>\n",
       "    <tr style=\"text-align: right;\">\n",
       "      <th></th>\n",
       "      <th>COMMENT_ID</th>\n",
       "      <th>AUTHOR</th>\n",
       "      <th>DATE</th>\n",
       "      <th>CONTENT</th>\n",
       "      <th>CLASS</th>\n",
       "      <th>CON_LEN</th>\n",
       "      <th>AUT_LEN</th>\n",
       "    </tr>\n",
       "  </thead>\n",
       "  <tbody>\n",
       "    <tr>\n",
       "      <th>0</th>\n",
       "      <td>LZQPQhLyRh80UYxNuaDWhIGQYNQ96IuCg-AYWqNPjpU</td>\n",
       "      <td>Julius NM</td>\n",
       "      <td>2013-11-07 06:20:48</td>\n",
       "      <td>Huh, anyway check out this you[tube] channel: ...</td>\n",
       "      <td>1</td>\n",
       "      <td>56</td>\n",
       "      <td>9</td>\n",
       "    </tr>\n",
       "    <tr>\n",
       "      <th>1</th>\n",
       "      <td>LZQPQhLyRh_C2cTtd9MvFRJedxydaVW-2sNg5Diuo4A</td>\n",
       "      <td>adam riyati</td>\n",
       "      <td>2013-11-07 12:37:15</td>\n",
       "      <td>Hey guys check out my new channel and our firs...</td>\n",
       "      <td>1</td>\n",
       "      <td>166</td>\n",
       "      <td>11</td>\n",
       "    </tr>\n",
       "    <tr>\n",
       "      <th>2</th>\n",
       "      <td>LZQPQhLyRh9MSZYnf8djyk0gEF9BHDPYrrK-qCczIY8</td>\n",
       "      <td>Evgeny Murashkin</td>\n",
       "      <td>2013-11-08 17:34:21</td>\n",
       "      <td>just for test I have to say murdev.com</td>\n",
       "      <td>1</td>\n",
       "      <td>38</td>\n",
       "      <td>16</td>\n",
       "    </tr>\n",
       "    <tr>\n",
       "      <th>3</th>\n",
       "      <td>z13jhp0bxqncu512g22wvzkasxmvvzjaz04</td>\n",
       "      <td>ElNino Melendez</td>\n",
       "      <td>2013-11-09 08:28:43</td>\n",
       "      <td>me shaking my sexy ass on my channel enjoy ^_^ ﻿</td>\n",
       "      <td>1</td>\n",
       "      <td>48</td>\n",
       "      <td>15</td>\n",
       "    </tr>\n",
       "    <tr>\n",
       "      <th>4</th>\n",
       "      <td>z13fwbwp1oujthgqj04chlngpvzmtt3r3dw</td>\n",
       "      <td>GsMega</td>\n",
       "      <td>2013-11-10 16:05:38</td>\n",
       "      <td>watch?v=vtaRGgvGtWQ   Check this out .﻿</td>\n",
       "      <td>1</td>\n",
       "      <td>39</td>\n",
       "      <td>6</td>\n",
       "    </tr>\n",
       "  </tbody>\n",
       "</table>\n",
       "</div>"
      ],
      "text/plain": [
       "                                    COMMENT_ID            AUTHOR  \\\n",
       "0  LZQPQhLyRh80UYxNuaDWhIGQYNQ96IuCg-AYWqNPjpU         Julius NM   \n",
       "1  LZQPQhLyRh_C2cTtd9MvFRJedxydaVW-2sNg5Diuo4A       adam riyati   \n",
       "2  LZQPQhLyRh9MSZYnf8djyk0gEF9BHDPYrrK-qCczIY8  Evgeny Murashkin   \n",
       "3          z13jhp0bxqncu512g22wvzkasxmvvzjaz04   ElNino Melendez   \n",
       "4          z13fwbwp1oujthgqj04chlngpvzmtt3r3dw            GsMega   \n",
       "\n",
       "                 DATE                                            CONTENT  \\\n",
       "0 2013-11-07 06:20:48  Huh, anyway check out this you[tube] channel: ...   \n",
       "1 2013-11-07 12:37:15  Hey guys check out my new channel and our firs...   \n",
       "2 2013-11-08 17:34:21             just for test I have to say murdev.com   \n",
       "3 2013-11-09 08:28:43   me shaking my sexy ass on my channel enjoy ^_^ ﻿   \n",
       "4 2013-11-10 16:05:38            watch?v=vtaRGgvGtWQ   Check this out .﻿   \n",
       "\n",
       "   CLASS  CON_LEN  AUT_LEN  \n",
       "0      1       56        9  \n",
       "1      1      166       11  \n",
       "2      1       38       16  \n",
       "3      1       48       15  \n",
       "4      1       39        6  "
      ]
     },
     "execution_count": 9,
     "metadata": {},
     "output_type": "execute_result"
    }
   ],
   "source": [
    "psy['CON_LEN'] = psy['CONTENT'].apply(len)\n",
    "\n",
    "# I think there's an indication that greater length of author's characters tend to belong to spammer account.\n",
    "psy['AUT_LEN'] = psy['AUTHOR'].apply(len) \n",
    "\n",
    "psy.head()"
   ]
  },
  {
   "cell_type": "markdown",
   "metadata": {},
   "source": [
    "**Comment with maximum length.**"
   ]
  },
  {
   "cell_type": "code",
   "execution_count": 10,
   "metadata": {},
   "outputs": [
    {
     "data": {
      "text/html": [
       "<div>\n",
       "<style scoped>\n",
       "    .dataframe tbody tr th:only-of-type {\n",
       "        vertical-align: middle;\n",
       "    }\n",
       "\n",
       "    .dataframe tbody tr th {\n",
       "        vertical-align: top;\n",
       "    }\n",
       "\n",
       "    .dataframe thead th {\n",
       "        text-align: right;\n",
       "    }\n",
       "</style>\n",
       "<table border=\"1\" class=\"dataframe\">\n",
       "  <thead>\n",
       "    <tr style=\"text-align: right;\">\n",
       "      <th></th>\n",
       "      <th>COMMENT_ID</th>\n",
       "      <th>AUTHOR</th>\n",
       "      <th>DATE</th>\n",
       "      <th>CONTENT</th>\n",
       "      <th>CLASS</th>\n",
       "      <th>CON_LEN</th>\n",
       "      <th>AUT_LEN</th>\n",
       "    </tr>\n",
       "  </thead>\n",
       "  <tbody>\n",
       "    <tr>\n",
       "      <th>303</th>\n",
       "      <td>z12cehoxozfgg3nok04cjj05xznbgrlpfjo</td>\n",
       "      <td>Elieo Cardiopulmonary</td>\n",
       "      <td>2014-11-08 15:29:52</td>\n",
       "      <td>im sorry for the spam but My name is Jenny. I ...</td>\n",
       "      <td>1</td>\n",
       "      <td>1078</td>\n",
       "      <td>21</td>\n",
       "    </tr>\n",
       "  </tbody>\n",
       "</table>\n",
       "</div>"
      ],
      "text/plain": [
       "                              COMMENT_ID                 AUTHOR  \\\n",
       "303  z12cehoxozfgg3nok04cjj05xznbgrlpfjo  Elieo Cardiopulmonary   \n",
       "\n",
       "                   DATE                                            CONTENT  \\\n",
       "303 2014-11-08 15:29:52  im sorry for the spam but My name is Jenny. I ...   \n",
       "\n",
       "     CLASS  CON_LEN  AUT_LEN  \n",
       "303      1     1078       21  "
      ]
     },
     "execution_count": 10,
     "metadata": {},
     "output_type": "execute_result"
    }
   ],
   "source": [
    "psy[psy['CON_LEN']==max(psy['CON_LEN'])]"
   ]
  },
  {
   "cell_type": "code",
   "execution_count": 11,
   "metadata": {},
   "outputs": [
    {
     "data": {
      "text/plain": [
       "\"im sorry for the spam but My name is Jenny. I go to high school where  everyone dresses fashionable but for me I don't because i need money to buy  cute clothes. I have low self esteem . I live with my dad. my mom passed  away when i was 6 so i don't really have a mother figure. I have 2 brothers  who is older than me. Since they are boys they get the attention while i  just be alone. I really want to wear pretty clothes like the girls in my  school and get a boyfriend. i just can't be my self. im very quite and shy  at school because i don't have the confidence in myself to talk to someone.  i did have one friend name Caroline but she moved away so now im alone. if  you could donate some money to me it would be great. i don't care about  expensive brand ill just shop at walmart because they have pretty clothes.  also i wanna get my nails done at a salon . i see alot of girls have these  french tips. i never had my nail did at a salon before i will really  appreciate if i can and get my hair curled too. http://www.gofundme.com/dressprettyonce thanks omg please.\\ufeff\""
      ]
     },
     "execution_count": 11,
     "metadata": {},
     "output_type": "execute_result"
    }
   ],
   "source": [
    "psy[psy['CON_LEN']==max(psy['CON_LEN'])]['CONTENT'].values[0]"
   ]
  },
  {
   "cell_type": "markdown",
   "metadata": {},
   "source": [
    "**Comment with minimum length.**"
   ]
  },
  {
   "cell_type": "code",
   "execution_count": 12,
   "metadata": {},
   "outputs": [
    {
     "data": {
      "text/html": [
       "<div>\n",
       "<style scoped>\n",
       "    .dataframe tbody tr th:only-of-type {\n",
       "        vertical-align: middle;\n",
       "    }\n",
       "\n",
       "    .dataframe tbody tr th {\n",
       "        vertical-align: top;\n",
       "    }\n",
       "\n",
       "    .dataframe thead th {\n",
       "        text-align: right;\n",
       "    }\n",
       "</style>\n",
       "<table border=\"1\" class=\"dataframe\">\n",
       "  <thead>\n",
       "    <tr style=\"text-align: right;\">\n",
       "      <th></th>\n",
       "      <th>COMMENT_ID</th>\n",
       "      <th>AUTHOR</th>\n",
       "      <th>DATE</th>\n",
       "      <th>CONTENT</th>\n",
       "      <th>CLASS</th>\n",
       "      <th>CON_LEN</th>\n",
       "      <th>AUT_LEN</th>\n",
       "    </tr>\n",
       "  </thead>\n",
       "  <tbody>\n",
       "    <tr>\n",
       "      <th>263</th>\n",
       "      <td>z122ybty1la4dbrz304cgnoh1knkiv0odfg</td>\n",
       "      <td>bruno jovao</td>\n",
       "      <td>2014-11-08 04:51:38</td>\n",
       "      <td>LoL﻿</td>\n",
       "      <td>0</td>\n",
       "      <td>4</td>\n",
       "      <td>11</td>\n",
       "    </tr>\n",
       "  </tbody>\n",
       "</table>\n",
       "</div>"
      ],
      "text/plain": [
       "                              COMMENT_ID       AUTHOR                DATE  \\\n",
       "263  z122ybty1la4dbrz304cgnoh1knkiv0odfg  bruno jovao 2014-11-08 04:51:38   \n",
       "\n",
       "    CONTENT  CLASS  CON_LEN  AUT_LEN  \n",
       "263    LoL﻿      0        4       11  "
      ]
     },
     "execution_count": 12,
     "metadata": {},
     "output_type": "execute_result"
    }
   ],
   "source": [
    "psy[psy['CON_LEN']==min(psy['CON_LEN'])]"
   ]
  },
  {
   "cell_type": "code",
   "execution_count": 13,
   "metadata": {},
   "outputs": [
    {
     "data": {
      "text/plain": [
       "'LoL\\ufeff'"
      ]
     },
     "execution_count": 13,
     "metadata": {},
     "output_type": "execute_result"
    }
   ],
   "source": [
    "psy[psy['CON_LEN']==min(psy['CON_LEN'])]['CONTENT'].values[0]"
   ]
  },
  {
   "cell_type": "markdown",
   "metadata": {},
   "source": [
    "**Comment length data distribution.**"
   ]
  },
  {
   "cell_type": "code",
   "execution_count": 14,
   "metadata": {},
   "outputs": [],
   "source": [
    "plt.rcParams['patch.force_edgecolor']=True\n",
    "plt.rcParams['axes.grid']=True\n",
    "plt.rcParams['grid.alpha']=0.4"
   ]
  },
  {
   "cell_type": "markdown",
   "metadata": {},
   "source": [
    "*We can see the difference of the distribution of spam comment length, and not spam comment length. Spam comment tends to have greater lengths.*"
   ]
  },
  {
   "cell_type": "code",
   "execution_count": 15,
   "metadata": {},
   "outputs": [
    {
     "data": {
      "text/plain": [
       "<matplotlib.legend.Legend at 0x16c60326dc8>"
      ]
     },
     "execution_count": 15,
     "metadata": {},
     "output_type": "execute_result"
    },
    {
     "data": {
      "image/png": "[encoded data removed]",
      "text/plain": [
       "<Figure size 1080x576 with 1 Axes>"
      ]
     },
     "metadata": {
      "needs_background": "light"
     },
     "output_type": "display_data"
    }
   ],
   "source": [
    "fig, ax = plt.subplots(figsize=(15,8))\n",
    "ax.hist(x='CON_LEN', data=psy[psy['CLASS']==1], color='red', alpha=0.4, bins=50, label='Spam')\n",
    "ax.hist(x='CON_LEN', data=psy[psy['CLASS']==0], color='lime', alpha=0.4, bins=50, label='Not Spam')\n",
    "plt.tight_layout()\n",
    "plt.title('Comment Length Data Distribution', fontsize=20)\n",
    "plt.xlabel('Comment Length', fontsize=14)\n",
    "plt.ylabel('Frequency', fontsize=14)\n",
    "plt.legend()"
   ]
  },
  {
   "cell_type": "code",
   "execution_count": 16,
   "metadata": {},
   "outputs": [
    {
     "data": {
      "text/plain": [
       "Text(0.5, 0, 'Comment Length')"
      ]
     },
     "execution_count": 16,
     "metadata": {},
     "output_type": "execute_result"
    },
    {
     "data": {
      "image/png": "[encoded data removed]",
      "text/plain": [
       "<Figure size 1800x144 with 2 Axes>"
      ]
     },
     "metadata": {
      "needs_background": "light"
     },
     "output_type": "display_data"
    }
   ],
   "source": [
    "fig, axs = plt.subplots(ncols=2, nrows=1, figsize=(25,2))\n",
    "sns.boxplot(x='CON_LEN', data=psy[psy['CLASS']==1], color='red', ax=axs[0])\n",
    "sns.boxplot(x='CON_LEN', data=psy[psy['CLASS']==0], color='lime', ax=axs[1])\n",
    "axs[0].set_title('Spam', fontsize=15)\n",
    "axs[1].set_title('Not Spam', fontsize=15)\n",
    "axs[0].set_xlabel('Comment Length', fontsize=12)\n",
    "axs[1].set_xlabel('Comment Length', fontsize=12)"
   ]
  },
  {
   "cell_type": "markdown",
   "metadata": {},
   "source": [
    "**Author length data distribution.**"
   ]
  },
  {
   "cell_type": "markdown",
   "metadata": {},
   "source": [
    "*However, not spam author's characters tend to have greater length than spam author's characters. This might indicate that author's character's length doesn't correlate to a comment classified as spam or not.*"
   ]
  },
  {
   "cell_type": "code",
   "execution_count": 17,
   "metadata": {},
   "outputs": [
    {
     "data": {
      "text/plain": [
       "<matplotlib.legend.Legend at 0x16c609ce408>"
      ]
     },
     "execution_count": 17,
     "metadata": {},
     "output_type": "execute_result"
    },
    {
     "data": {
      "image/png": "[encoded data removed]",
      "text/plain": [
       "<Figure size 1080x576 with 1 Axes>"
      ]
     },
     "metadata": {
      "needs_background": "light"
     },
     "output_type": "display_data"
    }
   ],
   "source": [
    "fig, ax = plt.subplots(figsize=(15,8))\n",
    "ax.hist(x='AUT_LEN', data=psy[psy['CLASS']==1], color='red', alpha=0.4, bins=50, label='Spam')\n",
    "ax.hist(x='AUT_LEN', data=psy[psy['CLASS']==0], color='lime', alpha=0.4, bins=50, label='Not Spam')\n",
    "plt.tight_layout()\n",
    "plt.title('Author Length Data Distribution', fontsize=20)\n",
    "plt.xlabel('Author Length', fontsize=14)\n",
    "plt.ylabel('Frequency', fontsize=14)\n",
    "plt.legend()"
   ]
  },
  {
   "cell_type": "code",
   "execution_count": 18,
   "metadata": {},
   "outputs": [
    {
     "data": {
      "text/plain": [
       "Text(0.5, 0, 'Author Length')"
      ]
     },
     "execution_count": 18,
     "metadata": {},
     "output_type": "execute_result"
    },
    {
     "data": {
      "image/png": "[encoded data removed]",
      "text/plain": [
       "<Figure size 1800x144 with 2 Axes>"
      ]
     },
     "metadata": {
      "needs_background": "light"
     },
     "output_type": "display_data"
    }
   ],
   "source": [
    "fig, axs = plt.subplots(ncols=2, nrows=1, figsize=(25,2))\n",
    "sns.boxplot(x='AUT_LEN', data=psy[psy['CLASS']==1], color='red', ax=axs[0])\n",
    "sns.boxplot(x='AUT_LEN', data=psy[psy['CLASS']==0], color='lime', ax=axs[1])\n",
    "axs[0].set_title('Spam', fontsize=15)\n",
    "axs[1].set_title('Not Spam', fontsize=15)\n",
    "axs[0].set_xlabel('Author Length', fontsize=12)\n",
    "axs[1].set_xlabel('Author Length', fontsize=12)"
   ]
  },
  {
   "cell_type": "markdown",
   "metadata": {},
   "source": [
    "**Classifiy the time as AM or PM.**"
   ]
  },
  {
   "cell_type": "code",
   "execution_count": 19,
   "metadata": {},
   "outputs": [],
   "source": [
    "psy['TIME'] = psy['DATE'].apply(lambda x: x.hour)"
   ]
  },
  {
   "cell_type": "code",
   "execution_count": 20,
   "metadata": {},
   "outputs": [
    {
     "data": {
      "text/html": [
       "<div>\n",
       "<style scoped>\n",
       "    .dataframe tbody tr th:only-of-type {\n",
       "        vertical-align: middle;\n",
       "    }\n",
       "\n",
       "    .dataframe tbody tr th {\n",
       "        vertical-align: top;\n",
       "    }\n",
       "\n",
       "    .dataframe thead th {\n",
       "        text-align: right;\n",
       "    }\n",
       "</style>\n",
       "<table border=\"1\" class=\"dataframe\">\n",
       "  <thead>\n",
       "    <tr style=\"text-align: right;\">\n",
       "      <th></th>\n",
       "      <th>COMMENT_ID</th>\n",
       "      <th>AUTHOR</th>\n",
       "      <th>DATE</th>\n",
       "      <th>CONTENT</th>\n",
       "      <th>CLASS</th>\n",
       "      <th>CON_LEN</th>\n",
       "      <th>AUT_LEN</th>\n",
       "      <th>TIME</th>\n",
       "    </tr>\n",
       "  </thead>\n",
       "  <tbody>\n",
       "    <tr>\n",
       "      <th>0</th>\n",
       "      <td>LZQPQhLyRh80UYxNuaDWhIGQYNQ96IuCg-AYWqNPjpU</td>\n",
       "      <td>Julius NM</td>\n",
       "      <td>2013-11-07 06:20:48</td>\n",
       "      <td>Huh, anyway check out this you[tube] channel: ...</td>\n",
       "      <td>1</td>\n",
       "      <td>56</td>\n",
       "      <td>9</td>\n",
       "      <td>6</td>\n",
       "    </tr>\n",
       "    <tr>\n",
       "      <th>1</th>\n",
       "      <td>LZQPQhLyRh_C2cTtd9MvFRJedxydaVW-2sNg5Diuo4A</td>\n",
       "      <td>adam riyati</td>\n",
       "      <td>2013-11-07 12:37:15</td>\n",
       "      <td>Hey guys check out my new channel and our firs...</td>\n",
       "      <td>1</td>\n",
       "      <td>166</td>\n",
       "      <td>11</td>\n",
       "      <td>12</td>\n",
       "    </tr>\n",
       "    <tr>\n",
       "      <th>2</th>\n",
       "      <td>LZQPQhLyRh9MSZYnf8djyk0gEF9BHDPYrrK-qCczIY8</td>\n",
       "      <td>Evgeny Murashkin</td>\n",
       "      <td>2013-11-08 17:34:21</td>\n",
       "      <td>just for test I have to say murdev.com</td>\n",
       "      <td>1</td>\n",
       "      <td>38</td>\n",
       "      <td>16</td>\n",
       "      <td>17</td>\n",
       "    </tr>\n",
       "    <tr>\n",
       "      <th>3</th>\n",
       "      <td>z13jhp0bxqncu512g22wvzkasxmvvzjaz04</td>\n",
       "      <td>ElNino Melendez</td>\n",
       "      <td>2013-11-09 08:28:43</td>\n",
       "      <td>me shaking my sexy ass on my channel enjoy ^_^ ﻿</td>\n",
       "      <td>1</td>\n",
       "      <td>48</td>\n",
       "      <td>15</td>\n",
       "      <td>8</td>\n",
       "    </tr>\n",
       "    <tr>\n",
       "      <th>4</th>\n",
       "      <td>z13fwbwp1oujthgqj04chlngpvzmtt3r3dw</td>\n",
       "      <td>GsMega</td>\n",
       "      <td>2013-11-10 16:05:38</td>\n",
       "      <td>watch?v=vtaRGgvGtWQ   Check this out .﻿</td>\n",
       "      <td>1</td>\n",
       "      <td>39</td>\n",
       "      <td>6</td>\n",
       "      <td>16</td>\n",
       "    </tr>\n",
       "  </tbody>\n",
       "</table>\n",
       "</div>"
      ],
      "text/plain": [
       "                                    COMMENT_ID            AUTHOR  \\\n",
       "0  LZQPQhLyRh80UYxNuaDWhIGQYNQ96IuCg-AYWqNPjpU         Julius NM   \n",
       "1  LZQPQhLyRh_C2cTtd9MvFRJedxydaVW-2sNg5Diuo4A       adam riyati   \n",
       "2  LZQPQhLyRh9MSZYnf8djyk0gEF9BHDPYrrK-qCczIY8  Evgeny Murashkin   \n",
       "3          z13jhp0bxqncu512g22wvzkasxmvvzjaz04   ElNino Melendez   \n",
       "4          z13fwbwp1oujthgqj04chlngpvzmtt3r3dw            GsMega   \n",
       "\n",
       "                 DATE                                            CONTENT  \\\n",
       "0 2013-11-07 06:20:48  Huh, anyway check out this you[tube] channel: ...   \n",
       "1 2013-11-07 12:37:15  Hey guys check out my new channel and our firs...   \n",
       "2 2013-11-08 17:34:21             just for test I have to say murdev.com   \n",
       "3 2013-11-09 08:28:43   me shaking my sexy ass on my channel enjoy ^_^ ﻿   \n",
       "4 2013-11-10 16:05:38            watch?v=vtaRGgvGtWQ   Check this out .﻿   \n",
       "\n",
       "   CLASS  CON_LEN  AUT_LEN  TIME  \n",
       "0      1       56        9     6  \n",
       "1      1      166       11    12  \n",
       "2      1       38       16    17  \n",
       "3      1       48       15     8  \n",
       "4      1       39        6    16  "
      ]
     },
     "execution_count": 20,
     "metadata": {},
     "output_type": "execute_result"
    }
   ],
   "source": [
    "psy.head()"
   ]
  },
  {
   "cell_type": "code",
   "execution_count": 21,
   "metadata": {},
   "outputs": [],
   "source": [
    "def time(x):\n",
    "    if x > 11:\n",
    "        return 'PM'\n",
    "    else:\n",
    "        return 'AM'"
   ]
  },
  {
   "cell_type": "code",
   "execution_count": 22,
   "metadata": {},
   "outputs": [],
   "source": [
    "psy['TIME'] = psy['TIME'].apply(time)"
   ]
  },
  {
   "cell_type": "code",
   "execution_count": 23,
   "metadata": {},
   "outputs": [
    {
     "data": {
      "text/html": [
       "<div>\n",
       "<style scoped>\n",
       "    .dataframe tbody tr th:only-of-type {\n",
       "        vertical-align: middle;\n",
       "    }\n",
       "\n",
       "    .dataframe tbody tr th {\n",
       "        vertical-align: top;\n",
       "    }\n",
       "\n",
       "    .dataframe thead th {\n",
       "        text-align: right;\n",
       "    }\n",
       "</style>\n",
       "<table border=\"1\" class=\"dataframe\">\n",
       "  <thead>\n",
       "    <tr style=\"text-align: right;\">\n",
       "      <th></th>\n",
       "      <th>COMMENT_ID</th>\n",
       "      <th>AUTHOR</th>\n",
       "      <th>DATE</th>\n",
       "      <th>CONTENT</th>\n",
       "      <th>CLASS</th>\n",
       "      <th>CON_LEN</th>\n",
       "      <th>AUT_LEN</th>\n",
       "      <th>TIME</th>\n",
       "    </tr>\n",
       "  </thead>\n",
       "  <tbody>\n",
       "    <tr>\n",
       "      <th>0</th>\n",
       "      <td>LZQPQhLyRh80UYxNuaDWhIGQYNQ96IuCg-AYWqNPjpU</td>\n",
       "      <td>Julius NM</td>\n",
       "      <td>2013-11-07 06:20:48</td>\n",
       "      <td>Huh, anyway check out this you[tube] channel: ...</td>\n",
       "      <td>1</td>\n",
       "      <td>56</td>\n",
       "      <td>9</td>\n",
       "      <td>AM</td>\n",
       "    </tr>\n",
       "    <tr>\n",
       "      <th>1</th>\n",
       "      <td>LZQPQhLyRh_C2cTtd9MvFRJedxydaVW-2sNg5Diuo4A</td>\n",
       "      <td>adam riyati</td>\n",
       "      <td>2013-11-07 12:37:15</td>\n",
       "      <td>Hey guys check out my new channel and our firs...</td>\n",
       "      <td>1</td>\n",
       "      <td>166</td>\n",
       "      <td>11</td>\n",
       "      <td>PM</td>\n",
       "    </tr>\n",
       "    <tr>\n",
       "      <th>2</th>\n",
       "      <td>LZQPQhLyRh9MSZYnf8djyk0gEF9BHDPYrrK-qCczIY8</td>\n",
       "      <td>Evgeny Murashkin</td>\n",
       "      <td>2013-11-08 17:34:21</td>\n",
       "      <td>just for test I have to say murdev.com</td>\n",
       "      <td>1</td>\n",
       "      <td>38</td>\n",
       "      <td>16</td>\n",
       "      <td>PM</td>\n",
       "    </tr>\n",
       "    <tr>\n",
       "      <th>3</th>\n",
       "      <td>z13jhp0bxqncu512g22wvzkasxmvvzjaz04</td>\n",
       "      <td>ElNino Melendez</td>\n",
       "      <td>2013-11-09 08:28:43</td>\n",
       "      <td>me shaking my sexy ass on my channel enjoy ^_^ ﻿</td>\n",
       "      <td>1</td>\n",
       "      <td>48</td>\n",
       "      <td>15</td>\n",
       "      <td>AM</td>\n",
       "    </tr>\n",
       "    <tr>\n",
       "      <th>4</th>\n",
       "      <td>z13fwbwp1oujthgqj04chlngpvzmtt3r3dw</td>\n",
       "      <td>GsMega</td>\n",
       "      <td>2013-11-10 16:05:38</td>\n",
       "      <td>watch?v=vtaRGgvGtWQ   Check this out .﻿</td>\n",
       "      <td>1</td>\n",
       "      <td>39</td>\n",
       "      <td>6</td>\n",
       "      <td>PM</td>\n",
       "    </tr>\n",
       "  </tbody>\n",
       "</table>\n",
       "</div>"
      ],
      "text/plain": [
       "                                    COMMENT_ID            AUTHOR  \\\n",
       "0  LZQPQhLyRh80UYxNuaDWhIGQYNQ96IuCg-AYWqNPjpU         Julius NM   \n",
       "1  LZQPQhLyRh_C2cTtd9MvFRJedxydaVW-2sNg5Diuo4A       adam riyati   \n",
       "2  LZQPQhLyRh9MSZYnf8djyk0gEF9BHDPYrrK-qCczIY8  Evgeny Murashkin   \n",
       "3          z13jhp0bxqncu512g22wvzkasxmvvzjaz04   ElNino Melendez   \n",
       "4          z13fwbwp1oujthgqj04chlngpvzmtt3r3dw            GsMega   \n",
       "\n",
       "                 DATE                                            CONTENT  \\\n",
       "0 2013-11-07 06:20:48  Huh, anyway check out this you[tube] channel: ...   \n",
       "1 2013-11-07 12:37:15  Hey guys check out my new channel and our firs...   \n",
       "2 2013-11-08 17:34:21             just for test I have to say murdev.com   \n",
       "3 2013-11-09 08:28:43   me shaking my sexy ass on my channel enjoy ^_^ ﻿   \n",
       "4 2013-11-10 16:05:38            watch?v=vtaRGgvGtWQ   Check this out .﻿   \n",
       "\n",
       "   CLASS  CON_LEN  AUT_LEN TIME  \n",
       "0      1       56        9   AM  \n",
       "1      1      166       11   PM  \n",
       "2      1       38       16   PM  \n",
       "3      1       48       15   AM  \n",
       "4      1       39        6   PM  "
      ]
     },
     "execution_count": 23,
     "metadata": {},
     "output_type": "execute_result"
    }
   ],
   "source": [
    "psy.head()"
   ]
  },
  {
   "cell_type": "markdown",
   "metadata": {},
   "source": [
    "**We can add another column for 'spam' or 'not spam' labels.**"
   ]
  },
  {
   "cell_type": "code",
   "execution_count": 24,
   "metadata": {},
   "outputs": [],
   "source": [
    "def spamornot(label):\n",
    "    if label == 1:\n",
    "        return 'spam'\n",
    "    else:\n",
    "        return 'not spam'"
   ]
  },
  {
   "cell_type": "code",
   "execution_count": 25,
   "metadata": {},
   "outputs": [],
   "source": [
    "psy['LABEL'] = psy['CLASS'].apply(spamornot)"
   ]
  },
  {
   "cell_type": "code",
   "execution_count": 26,
   "metadata": {},
   "outputs": [
    {
     "data": {
      "text/html": [
       "<div>\n",
       "<style scoped>\n",
       "    .dataframe tbody tr th:only-of-type {\n",
       "        vertical-align: middle;\n",
       "    }\n",
       "\n",
       "    .dataframe tbody tr th {\n",
       "        vertical-align: top;\n",
       "    }\n",
       "\n",
       "    .dataframe thead th {\n",
       "        text-align: right;\n",
       "    }\n",
       "</style>\n",
       "<table border=\"1\" class=\"dataframe\">\n",
       "  <thead>\n",
       "    <tr style=\"text-align: right;\">\n",
       "      <th></th>\n",
       "      <th>COMMENT_ID</th>\n",
       "      <th>AUTHOR</th>\n",
       "      <th>DATE</th>\n",
       "      <th>CONTENT</th>\n",
       "      <th>CLASS</th>\n",
       "      <th>CON_LEN</th>\n",
       "      <th>AUT_LEN</th>\n",
       "      <th>TIME</th>\n",
       "      <th>LABEL</th>\n",
       "    </tr>\n",
       "  </thead>\n",
       "  <tbody>\n",
       "    <tr>\n",
       "      <th>0</th>\n",
       "      <td>LZQPQhLyRh80UYxNuaDWhIGQYNQ96IuCg-AYWqNPjpU</td>\n",
       "      <td>Julius NM</td>\n",
       "      <td>2013-11-07 06:20:48</td>\n",
       "      <td>Huh, anyway check out this you[tube] channel: ...</td>\n",
       "      <td>1</td>\n",
       "      <td>56</td>\n",
       "      <td>9</td>\n",
       "      <td>AM</td>\n",
       "      <td>spam</td>\n",
       "    </tr>\n",
       "    <tr>\n",
       "      <th>1</th>\n",
       "      <td>LZQPQhLyRh_C2cTtd9MvFRJedxydaVW-2sNg5Diuo4A</td>\n",
       "      <td>adam riyati</td>\n",
       "      <td>2013-11-07 12:37:15</td>\n",
       "      <td>Hey guys check out my new channel and our firs...</td>\n",
       "      <td>1</td>\n",
       "      <td>166</td>\n",
       "      <td>11</td>\n",
       "      <td>PM</td>\n",
       "      <td>spam</td>\n",
       "    </tr>\n",
       "    <tr>\n",
       "      <th>2</th>\n",
       "      <td>LZQPQhLyRh9MSZYnf8djyk0gEF9BHDPYrrK-qCczIY8</td>\n",
       "      <td>Evgeny Murashkin</td>\n",
       "      <td>2013-11-08 17:34:21</td>\n",
       "      <td>just for test I have to say murdev.com</td>\n",
       "      <td>1</td>\n",
       "      <td>38</td>\n",
       "      <td>16</td>\n",
       "      <td>PM</td>\n",
       "      <td>spam</td>\n",
       "    </tr>\n",
       "    <tr>\n",
       "      <th>3</th>\n",
       "      <td>z13jhp0bxqncu512g22wvzkasxmvvzjaz04</td>\n",
       "      <td>ElNino Melendez</td>\n",
       "      <td>2013-11-09 08:28:43</td>\n",
       "      <td>me shaking my sexy ass on my channel enjoy ^_^ ﻿</td>\n",
       "      <td>1</td>\n",
       "      <td>48</td>\n",
       "      <td>15</td>\n",
       "      <td>AM</td>\n",
       "      <td>spam</td>\n",
       "    </tr>\n",
       "    <tr>\n",
       "      <th>4</th>\n",
       "      <td>z13fwbwp1oujthgqj04chlngpvzmtt3r3dw</td>\n",
       "      <td>GsMega</td>\n",
       "      <td>2013-11-10 16:05:38</td>\n",
       "      <td>watch?v=vtaRGgvGtWQ   Check this out .﻿</td>\n",
       "      <td>1</td>\n",
       "      <td>39</td>\n",
       "      <td>6</td>\n",
       "      <td>PM</td>\n",
       "      <td>spam</td>\n",
       "    </tr>\n",
       "  </tbody>\n",
       "</table>\n",
       "</div>"
      ],
      "text/plain": [
       "                                    COMMENT_ID            AUTHOR  \\\n",
       "0  LZQPQhLyRh80UYxNuaDWhIGQYNQ96IuCg-AYWqNPjpU         Julius NM   \n",
       "1  LZQPQhLyRh_C2cTtd9MvFRJedxydaVW-2sNg5Diuo4A       adam riyati   \n",
       "2  LZQPQhLyRh9MSZYnf8djyk0gEF9BHDPYrrK-qCczIY8  Evgeny Murashkin   \n",
       "3          z13jhp0bxqncu512g22wvzkasxmvvzjaz04   ElNino Melendez   \n",
       "4          z13fwbwp1oujthgqj04chlngpvzmtt3r3dw            GsMega   \n",
       "\n",
       "                 DATE                                            CONTENT  \\\n",
       "0 2013-11-07 06:20:48  Huh, anyway check out this you[tube] channel: ...   \n",
       "1 2013-11-07 12:37:15  Hey guys check out my new channel and our firs...   \n",
       "2 2013-11-08 17:34:21             just for test I have to say murdev.com   \n",
       "3 2013-11-09 08:28:43   me shaking my sexy ass on my channel enjoy ^_^ ﻿   \n",
       "4 2013-11-10 16:05:38            watch?v=vtaRGgvGtWQ   Check this out .﻿   \n",
       "\n",
       "   CLASS  CON_LEN  AUT_LEN TIME LABEL  \n",
       "0      1       56        9   AM  spam  \n",
       "1      1      166       11   PM  spam  \n",
       "2      1       38       16   PM  spam  \n",
       "3      1       48       15   AM  spam  \n",
       "4      1       39        6   PM  spam  "
      ]
     },
     "execution_count": 26,
     "metadata": {},
     "output_type": "execute_result"
    }
   ],
   "source": [
    "psy.head()"
   ]
  },
  {
   "cell_type": "markdown",
   "metadata": {},
   "source": [
    "**There is no time trend for each spam and not spam comments. And this dataset contains balanced labels.**"
   ]
  },
  {
   "cell_type": "code",
   "execution_count": 27,
   "metadata": {},
   "outputs": [
    {
     "data": {
      "text/plain": [
       "spam        175\n",
       "not spam    175\n",
       "Name: LABEL, dtype: int64"
      ]
     },
     "execution_count": 27,
     "metadata": {},
     "output_type": "execute_result"
    },
    {
     "data": {
      "image/png": "[encoded data removed]",
      "text/plain": [
       "<Figure size 720x360 with 1 Axes>"
      ]
     },
     "metadata": {
      "needs_background": "light"
     },
     "output_type": "display_data"
    }
   ],
   "source": [
    "plt.figure(figsize=(10,5))\n",
    "splot = sns.countplot(x='LABEL', data=psy, hue='TIME')\n",
    "for p in splot.patches:\n",
    "    splot.annotate(format(p.get_height(), '.0f'), \n",
    "                   (p.get_x() + p.get_width() / 2., p.get_height()), \n",
    "                   ha = 'center', va = 'center', \n",
    "                   xytext = (0, 4.7), \n",
    "                   textcoords = 'offset points')\n",
    "    \n",
    "plt.xlabel(\"TIME\", size=14)\n",
    "plt.ylabel(\"count\", size=14)\n",
    "\n",
    "psy['LABEL'].value_counts()"
   ]
  },
  {
   "cell_type": "markdown",
   "metadata": {},
   "source": [
    "**However comments posted on PM time are more than comments posted on AM time.**"
   ]
  },
  {
   "cell_type": "code",
   "execution_count": 28,
   "metadata": {},
   "outputs": [
    {
     "data": {
      "text/plain": [
       "PM    201\n",
       "AM    149\n",
       "Name: TIME, dtype: int64"
      ]
     },
     "execution_count": 28,
     "metadata": {},
     "output_type": "execute_result"
    }
   ],
   "source": [
    "psy['TIME'].value_counts()"
   ]
  },
  {
   "cell_type": "code",
   "execution_count": 29,
   "metadata": {},
   "outputs": [
    {
     "data": {
      "text/plain": [
       "PM    201\n",
       "AM    149\n",
       "Name: TIME, dtype: int64"
      ]
     },
     "execution_count": 29,
     "metadata": {},
     "output_type": "execute_result"
    },
    {
     "data": {
      "image/png": "[encoded data removed]",
      "text/plain": [
       "<Figure size 720x360 with 1 Axes>"
      ]
     },
     "metadata": {
      "needs_background": "light"
     },
     "output_type": "display_data"
    }
   ],
   "source": [
    "plt.figure(figsize=(10,5))\n",
    "splot = sns.countplot(x='TIME', data=psy, palette='seismic')\n",
    "for p in splot.patches:\n",
    "    splot.annotate(format(p.get_height(), '.0f'), \n",
    "                   (p.get_x() + p.get_width() / 2., p.get_height()), \n",
    "                   ha = 'center', va = 'center', \n",
    "                   xytext = (0, 4.7), \n",
    "                   textcoords = 'offset points')\n",
    "    \n",
    "plt.xlabel(\"TIME\", size=14)\n",
    "plt.ylabel(\"count\", size=14)\n",
    "\n",
    "psy['TIME'].value_counts()"
   ]
  },
  {
   "cell_type": "markdown",
   "metadata": {},
   "source": [
    "*Comments with greater lengths tend to be posted at PM rather than AM time.*"
   ]
  },
  {
   "cell_type": "code",
   "execution_count": 30,
   "metadata": {},
   "outputs": [
    {
     "data": {
      "text/plain": [
       "<matplotlib.legend.Legend at 0x16c603d3b88>"
      ]
     },
     "execution_count": 30,
     "metadata": {},
     "output_type": "execute_result"
    },
    {
     "data": {
      "image/png": "[encoded data removed]",
      "text/plain": [
       "<Figure size 1080x576 with 1 Axes>"
      ]
     },
     "metadata": {
      "needs_background": "light"
     },
     "output_type": "display_data"
    }
   ],
   "source": [
    "fig, ax = plt.subplots(figsize=(15,8))\n",
    "ax.hist(x='CON_LEN', data=psy[psy['TIME']=='AM'], color='red', alpha=0.4, bins=50, label='AM')\n",
    "ax.hist(x='CON_LEN', data=psy[psy['TIME']=='PM'], color='lime', alpha=0.4, bins=50, label='PM')\n",
    "plt.tight_layout()\n",
    "plt.title('Comment Length Data Distribution', fontsize=20)\n",
    "plt.xlabel('Comment Length', fontsize=14)\n",
    "plt.ylabel('Frequency', fontsize=14)\n",
    "plt.legend()"
   ]
  },
  {
   "cell_type": "code",
   "execution_count": 31,
   "metadata": {},
   "outputs": [
    {
     "data": {
      "text/plain": [
       "Text(0.5, 0, 'Comment Length')"
      ]
     },
     "execution_count": 31,
     "metadata": {},
     "output_type": "execute_result"
    },
    {
     "data": {
      "image/png": "[encoded data removed]",
      "text/plain": [
       "<Figure size 1800x144 with 2 Axes>"
      ]
     },
     "metadata": {
      "needs_background": "light"
     },
     "output_type": "display_data"
    }
   ],
   "source": [
    "fig, axs = plt.subplots(ncols=2, nrows=1, figsize=(25,2))\n",
    "sns.boxplot(x='CON_LEN', data=psy[psy['TIME']=='AM'], color='red', ax=axs[0])\n",
    "sns.boxplot(x='CON_LEN', data=psy[psy['TIME']=='PM'], color='lime', ax=axs[1])\n",
    "axs[0].set_title('AM', fontsize=15)\n",
    "axs[1].set_title('PM', fontsize=15)\n",
    "axs[0].set_xlabel('Comment Length', fontsize=12)\n",
    "axs[1].set_xlabel('Comment Length', fontsize=12)"
   ]
  },
  {
   "cell_type": "markdown",
   "metadata": {},
   "source": [
    "### Text processing (tokenizing, vectorization, tf-idf)."
   ]
  },
  {
   "cell_type": "markdown",
   "metadata": {},
   "source": [
    "**import string to remove the punctuation in the comments. And the stopwords function that is imported from nltk.corpus is to remove common words (i.e. our you, you're, how, all, etc.), so later the TF-IDF can get better result of the document's weight.**"
   ]
  },
  {
   "cell_type": "markdown",
   "metadata": {},
   "source": [
    "**The text_process function will be used later in the pipeline method.**"
   ]
  },
  {
   "cell_type": "code",
   "execution_count": 32,
   "metadata": {},
   "outputs": [],
   "source": [
    "def text_process(comment):\n",
    "    nopunc = [char for char in comment if char not in string.punctuation]\n",
    "    nopunc = ''.join(nopunc)\n",
    "    return [word for word in nopunc.split() if word.lower() not in stopwords.words('english')]"
   ]
  },
  {
   "cell_type": "markdown",
   "metadata": {},
   "source": [
    "**Some example of common english words in stopwords.words corpus.**"
   ]
  },
  {
   "cell_type": "code",
   "execution_count": 33,
   "metadata": {},
   "outputs": [
    {
     "data": {
      "text/plain": [
       "['once', 'here', 'there', 'when', 'where', 'why', 'how', 'all', 'any', 'both']"
      ]
     },
     "execution_count": 33,
     "metadata": {},
     "output_type": "execute_result"
    }
   ],
   "source": [
    "stopwords.words('english')[99:109]"
   ]
  },
  {
   "cell_type": "markdown",
   "metadata": {},
   "source": [
    "*Below is example of how text_process function above works. This is the tokenization step.*"
   ]
  },
  {
   "cell_type": "code",
   "execution_count": 34,
   "metadata": {},
   "outputs": [
    {
     "data": {
      "text/plain": [
       "'Huh, anyway check out this you[tube] channel: kobyoshi02'"
      ]
     },
     "execution_count": 34,
     "metadata": {},
     "output_type": "execute_result"
    }
   ],
   "source": [
    "psy['CONTENT'][0]"
   ]
  },
  {
   "cell_type": "code",
   "execution_count": 35,
   "metadata": {},
   "outputs": [
    {
     "data": {
      "text/plain": [
       "['Huh', 'anyway', 'check', 'youtube', 'channel', 'kobyoshi02']"
      ]
     },
     "execution_count": 35,
     "metadata": {},
     "output_type": "execute_result"
    }
   ],
   "source": [
    "text_process(psy['CONTENT'][0])"
   ]
  },
  {
   "cell_type": "markdown",
   "metadata": {},
   "source": [
    "*And below is example of how CountVectorizer works.*"
   ]
  },
  {
   "cell_type": "code",
   "execution_count": 36,
   "metadata": {},
   "outputs": [],
   "source": [
    "bow_transformer = CountVectorizer(analyzer=text_process).fit(psy['CONTENT'])"
   ]
  },
  {
   "cell_type": "code",
   "execution_count": 37,
   "metadata": {},
   "outputs": [
    {
     "name": "stdout",
     "output_type": "stream",
     "text": [
      "{'Huh': 213, 'anyway': 494, 'check': 572, 'youtube': 1434, 'channel': 569, 'kobyoshi02': 957, 'Hey': 210, 'guys': 792, 'new': 1060, 'first': 727, 'vid': 1343, 'US': 414, 'MONKEYS': 282, 'Im': 221, 'monkey': 1039, 'white': 1396, 'shirtplease': 1204, 'leave': 971, 'like': 975, 'comment': 596, 'please': 1117, 'subscribe': 1262, 'test': 1287, 'say': 1185, 'murdevcom': 1050, 'shaking': 1200, 'sexy': 1199, 'ass': 506, 'enjoy': 684, '\\ufeff': 1450, 'watchvvtaRGgvGtWQ': 1382, 'Check': 115, 'website': 1386, 'site': 1219, 'kids': 948, 'stuff': 1255, 'kidsmediausa': 949, 'com': 591, 'Subscribe': 384, 'turned': 1324, 'mute': 1052, 'soon': 1234, 'came': 553, 'wanted': 1373, 'views\\ufeff': 1358, 'Funny': 174, 'VIDEOS\\ufeff': 421, 'u': 1331, 'shouldd': 1211, 'tell': 1286, 'next\\ufeff': 1064, 'me\\ufeff': 1020, 'started': 1247, 'reading': 1154, 'stop': 1251, 'within': 1403, 'one': 1086, 'day': 637, 'youre': 1433, 'entire': 687, 'family': 715, 'die': 648, 'want': 1372, 'stay': 1248, 'alive': 473, 'right': 1172, 'now\\ufeff': 1070, 'httpstwittercomGBphotographyGB\\ufeff': 859, 'comment\\ufeff': 600, 'httpspremiumeasypromosappcomvoteme19924616375350\\ufeff': 856, 'Hello': 209, 'gaming': 754, 'art': 502, 'videos': 1345, 'scientific': 1190, 'experiments': 706, 'tutorials': 1326, 'lyrics': 1001, 'much': 1048, 'weve': 1393, 'hope': 824, 'able': 458, 'cover': 617, 'expectations': 704, 'also': 480, 'got': 778, 'far\\ufeff': 717, 'checking': 574, 'httpwwwebaycomitm171183229277ssPageNameSTRKMESELXITamptrksidp3984m1555l2649': 895, 'httpubuntuonecom40beUutVu2ZKxK4uTgPZ8K\\ufeff': 885, 'EDM': 146, 'apparel': 498, 'company': 602, 'dedicated': 641, 'bringing': 544, 'music': 1051, 'inspired': 928, 'designs': 643, 'clothing': 586, 'perfect': 1104, 'rave': 1150, 'festival': 723, 'NEON': 301, 'crop': 625, 'tops': 1314, 'tank': 1283, 'tshirts': 1321, 'vnecks': 1366, 'accessories': 461, 'follow': 731, 'us': 1341, 'Facebook': 164, 'instagraml': 929, 'free': 737, 'giveaways': 766, 'news': 1062, 'visit': 1361, 'OnCueApparel\\ufeff': 307, 'think': 1298, '100': 5, 'millions': 1023, 'views': 1357, 'come': 592, 'people': 1102, 'D\\ufeff': 144, 'Show': 366, 'AUBURN': 68, 'PRIDE': 317, 'httpwwwteespringcomtigermeathoodie\\ufeff': 907, 'CHECK': 101, 'CHANNEL': 100, 'marketglory': 1011, 'comstrategygameandrijamatf': 604, 'earn': 675, 'real': 1155, 'money': 1036, 'game': 752, '12': 10, 'yr': 1439, 'old': 1078, 'producer': 1134, 'make': 1004, 'chiptunes': 578, '8bit': 62, 'would': 1414, 'wonderful': 1406, 'checked': 573, 'remixes': 1167, 'even': 693, 'gangnamstyle': 756, 'remix': 1166, 'Thanks': 402, 'kyle': 961, 'rap': 1148, 'yeah': 1425, 'dont': 662, 'watch': 1378, 'anymore': 491, '2': 18, 'Billion': 93, 'not\\ufeff': 1069, 'Android': 75, 'games': 753, 'apps': 501, 'everyone': 698, 'newest': 1061, 'song': 1230, 'memories': 1018, 'Martin': 287, 'Luther': 272, 'King': 241, 'Jr\\ufeff': 233, 'Came': 109, 'goodbye\\ufeff': 775, 'sub': 1260, 'reason': 1158, 'dubstep': 670, 'Fireball': 167, 'made': 1003, 'Fruity': 172, 'Loops': 270, 'really': 1156, 'took': 1312, 'time': 1306, 'watchvtelOA6RIO8o\\ufeff': 1381, 'billionComing': 530, 'soon\\ufeff': 1235, 'dafuq': 632, 'Korean': 244, 'big': 527, 'USA': 415, 'mean': 1014, 'support': 1275, 'Koreans': 245, 'Last': 255, 'bomb': 535, 'listen': 982, 'best': 525, 'ever': 695, 'P\\ufeff': 332, 'SUB': 354, '4': 49, 'PLEASE': 312, 'LIKE': 250, 'COMMENT': 105, 'WANT': 430, 'SUCCESFULL': 358, 'YOUTUBE': 446, 'PPLEASE': 315, 'SUBSCRIBE': 355, 'TAKES': 388, '10': 4, 'SECONDS': 343, 'ILL': 217, 'BACK': 81, 'THANKS\\ufeff': 391, 'YT': 450, 'grateful': 782, 'peoples': 1103, 'could': 612, 'clip': 583, 'BF4': 84, 'give': 765, 'advice': 469, 'video': 1344, 'improve': 926, 'ALSO': 66, 'sure': 1276, 'go': 769, 'see': 1193, 'haters': 804, 'Hate': 207, 'WIN\\ufeff': 433, 'projects': 1135, 'Effects': 151, 'Music': 298, 'Foto': 169, 'Web': 436, 'sites': 1220, 'another': 489, 'find': 725, 'buy': 549, 'httpaudiojunglenetuserEugeneKalininportfoliorefEugeneKalinin\\ufeff': 827, 'YouTubecodytolleson': 453, 'awesome': 512, 'Ill': 220, 'back': 515, 'roblox': 1176, 'minecraft': 1030, 'world': 1409, 'warcraft': 1375, 'gta5': 787, 'mario': 1009, 'suscribe': 1277, 'channel\\ufeff': 571, 'Must': 299, 'cZFcxsn0jnQ': 550, 'httpwwwtwitchtvjaroadc': 908, 'stream\\ufeff': 1253, 'raw': 1151, 'talent': 1281, 'straight': 1252, 'hip': 816, 'hop': 823, 'Everyone': 158, 'sound': 1237, 'Dizzy': 139, 'X': 440, 'Got': 196, 'Juice': 234, 'Prod': 328, 'Drugs': 141, 'Model': 293, 'Citizen': 121, 'TELL': 389, 'THINK': 392, 'DONT': 131, 'LAZY': 248, '17': 13, 'Prophetz\\ufeff': 329, '1884034783': 15, 'pls': 1119, 'view': 1352, 'count': 614, 'next': 1063, 'hour': 826, 'httpwwwavaazorgpopetitionYoutubeCorporationFoxBroadcastingCompanyAnularosstrikesnoCanalNostalgiacXPZpgb': 890, '3\\ufeff': 48, 'thumbs': 1304, 'hw': 916, 'got\\ufeff': 781, 'Plz': 326, 'xx\\ufeff': 1422, 'often': 1077, 'help': 810, 'reach': 1152, '2x109': 42, 'avoid': 509, 'watching': 1380, 'Baby\\ufeff': 89, 'get': 758, 'billion': 529, 'hit': 818, 'yet\\ufeff': 1430, 'httpswwwfacebookcompagesBrewCrew2014134470083389909': 867, 'Like': 259, 'facebookpage': 711, 'Chance': 111, 'win': 1399, 'Iphone': 225, '5S\\ufeff': 55, 'GWAR': 185, 'play': 1116, '2015': 26, 'superbowl': 1273, 'httpwwwchangeorgpetitionsthenationalfootballleagueallowgwartoperformthe2015superbowlhalftimeshowshare': 893, 'Pls': 324, 'httpwwwtwitchtvsevadus\\ufeff': 909, 'hi': 814, 'minecraft\\ufeff': 1031, 'httptankionlinecomfriendcd92db3f4': 881, 'great': 783, 'out\\ufeff': 1089, 'ME\\ufeff': 275, 'has\\ufeff': 802, 'chuck': 580, 'norrus': 1067, 'ovbiously': 1090, 'Behold': 90, 'viewed': 1353, 'history': 817, 'ever\\ufeff': 701, 'gonna': 773, 'billion\\ufeff': 531, 'time\\ufeff': 1307, '969210': 64, 'dislikes': 654, 'dislike': 653, 'themselves\\ufeff': 1290, 'psykorean\\ufeff': 1142, 'OMG': 304, 'oldspice': 1081, 'spraytan': 1245, 'party': 1096, 'commercial': 601, 'omgim': 1084, 'sitting': 1221, 'isnt': 931, 'thing': 1295, '1000000': 6, 'every': 696, 'popular': 1122, 'actually': 465, 'gets': 759, 'quite': 1146, 'Billions': 94, '2014': 24, 'plz': 1120, 'fablife': 709, 'welcome': 1388, 'diys': 657, 'challenges': 566, 'thx\\ufeff': 1305, 'Sub': 383, 'httpwwwebaycomitm131338190916ssPageNameSTRKMESELXITamptrksidp3984m1555l2649': 894, 'httpwwwguardaloorgbestoffunnycatsgattipazziedivertenti20135287100000415527985': 902, 'drones': 668, 'Kamal': 239, 'Tayara': 399, 'takes': 1279, 'drone': 667, 'absolutely': 459, 'beautiful\\ufeff': 520, 'httphackfbaccountlivecomref4604617\\ufeff': 831, 'WHATS': 432, 'EVERYONE': 148, 'Trying': 409, 'Showcase': 367, 'Talent': 398, 'World': 438, '3000': 45, 'SUBSCRIBERS': 356, 'PROMISE': 318, 'Dont': 140, 'Suck': 385, 'Please': 322, 'Spread': 373, 'Covers': 126, 'Around': 79, 'amp': 485, 'Share': 363, 'Lucas': 271, 'Trigo': 406, 'Stay': 375, 'Awesome': 80, 'gtgtgtgt': 788, 'httpswwwfacebookcomvideophpv10200253113705769ampsetvb201470069872822amptype3amppermPage1': 871, 'lt\\ufeff': 999, 'Hi': 211, 'thereIm': 1292, 'group': 785, 'leader': 968, 'Angel': 76, 'rookie': 1177, 'pop': 1121, 'four': 736, 'members': 1017, 'Chanicka': 113, 'Julie': 235, 'Stephanie': 376, 'Leah': 257, 'feel': 722, 'feedback': 721, 'criticism': 624, 'know': 955, 'top': 1313, 'notch': 1068, 'singers': 1217, 'constructive': 609, 'appreciate': 500, 'chance': 567, 'auditioning': 508, 'management': 1007, 'plan': 1113, 'JYP': 228, 'BigHit': 92, 'Jellyfish': 231, 'YG': 444, 'SM': 346, 'Thank': 401, 'taking': 1280, 'read': 1153, 'httpwooboxcom33gxrfbrt0u5': 886, 'FREE': 162, 'CS': 108, 'GO\\ufeff': 183, 'Admit': 71, 'number': 1071, 'viewers': 1355, 'coming': 595, 'still': 1250, 'viewing': 1356, 'apparently': 499, 'do\\ufeff': 664, 'PSY': 319, 'GANGNAM': 178, 'STYLE': 352, '강남스타일': 1449, 'MV': 284, 'httpyoutube9bZkp7q19f0\\ufeff': 913, 'Suscribe': 387, 'Channel': 114, 'XD': 441, 'lol\\ufeff': 986, 'Wow': 439, 'Comments': 124, 'section': 1192, 'active': 464, 'bad': 517, 'Also': 73, '5277478': 53, 'comments': 598, '79\\ufeff': 60, 'httpbinboxio1FIRo123\\ufeff': 828, 'Ching': 117, 'ling': 980, 'long': 987, 'ding': 651, 'ring': 1173, 'yaaaaaa': 1424, 'Ganga': 189, 'sty': 1257, 'FUCK': 163, 'YOU\\ufeff': 449, 'httpswwwindiegogocomprojectscleaningthepan2': 872, 'halp': 798, 'project\\ufeff': 1136, 'brother\\ufeff': 546, 'please\\ufeff': 1118, 'anyone': 493, 'use': 1342, 'gift': 762, 'cards': 559, 'Amazon': 74, 'itunes': 933, 'psn': 1140, 'google': 776, 'youll': 1431, 'happy': 799, 'card': 558, 'codes': 589, 'amazing': 482, '50': 52, 'code': 588, 'XXBB5TCZHM39HVZD\\ufeff': 443, 'many': 1008, 'asian': 504, 'things': 1297, 'nonasian': 1066, 'countries': 615, 'jelly': 937, 'try': 1320, 'learn': 969, 'asia': 503, 'looking': 989, 'd\\ufeff': 674, 'Plizz': 323, 'withing': 1404, 'Unique': 417, 'L': 246, 'Angry': 77, 'Minecraft\\ufeff': 291, 'httpwwwgofundmecomlittlebrother\\ufeff': 901, 'Anybody': 78, 'subscribes': 1265, 'subscribers\\ufeff': 1264, 'httpthepiratebaysetorrent6381501TimothySykesCollection\\ufeff': 883, 'half': 797, 'way': 1384, 'decent': 640, 'want\\ufeff': 1374, 'said': 1181, 'deserve': 642, '2billion': 41, 'keep': 945, 'visiting': 1362, 'viewer': 1354, 'itz': 934, 'recaps': 1159, 'diddle\\ufeff': 646, 'Screw': 361, 'Chinese': 116, 'crap': 620, 'understand': 1332, 'saying': 1187, 'speaking': 1239, 'English': 153, 'should\\ufeff': 1212, 'need': 1057, 'moneyEnjoy': 1037, 'httpswwwtsucoemersonzanol\\ufeff': 879, 'visuelgamingzNL': 1365, 'back\\ufeff': 516, 'youtuber': 1436, 'hoppa': 825, 'HOPPA': 200, 'GaNgAm': 186, 'StYlE\\ufeff': 374, 'song\\ufeff': 1233, 'weird': 1387, 'video\\ufeff': 1348, '8': 61, 'million': 1022, 'likes': 977, 'xD': 1420, 'subscribers': 1263, 'xD\\ufeff': 1421, 'EHI': 147, 'GUYS': 184, 'NEW': 302, 'YOUTUBER': 447, 'PLAY': 311, 'MINECRAFT': 278, 'THANKS': 390, 'SUBSCRIBE\\ufeff': 357, 'LEXIS': 249, 'band': 518, 'uploading': 1338, 'songs': 1232, 'covers': 618, 'miss': 1034, 'lot': 992, 'click': 581, 'gt\\ufeff': 789, 'never': 1059, 'love': 993, 'it\\ufeff': 935, 'gofundmecomgrwmps\\ufeff': 771, 'Google': 195, 'page': 1091, 'funny': 749, 'pictures': 1108, 'FunnyTortsPics': 175, 'httpsplusgooglecom112720997191206369631post\\ufeff': 855, '2012bitches\\ufeff': 23, 'Made': 286, 'china\\ufeff': 577, '5': 51, 'milions': 1021, 'comentars': 593, 'bilion': 528, '0': 0, 'zero\\ufeff': 1440, 'Mix': 292, 'MV\\ufeff': 285, 'Holy': 212, 'shit\\ufeff': 1208, '2124821694': 30, 'im': 924, 'person': 1105, 'zombie': 1441, 'apocalypse': 496, 'greetings': 784, 'spoderman': 1242, '2124923004': 31, 'wiews': 1398, 'wow\\ufeff': 1417, 'grow': 786, 'guys\\ufeff': 793, 'Great': 198, 'anyway\\ufeff': 495, 'crazy': 621, 'Uk': 416, 'Korea': 243, 'republic': 1169, 'asia\\ufeff': 505, 'Discover': 138, 'beautiful': 519, 'young': 1432, 'Moroccan': 297, 'httpwwwlinkbuckscomAcN2g\\ufeff': 903, 'getting': 760, 'Gift': 192, 'cardsbut': 560, 'hate': 803, 'spending': 1241, 'cash': 562, 'Try': 408, 'Juno': 236, 'Wallet': 435, 'Nike': 303, 'Gamestop': 188, 'Ebay': 150, 'Etc': 157, 'easy': 679, 'Earn': 149, 'simple': 1215, 'task': 1284, 'videosdownloading': 1346, 'inviting': 930, 'friends': 740, 'joinits': 940, 'signup': 1214, 'Sign': 368, 'today': 1309, 'promo': 1138, 'BD3721315\\ufeff': 83, 'somebody': 1228, 'wake': 1368, '3': 43, 'GOT': 182, 'LOTS': 253, 'MONEY': 281, 'BILLION': 85, 'VIEWS': 423, 'WORLD': 434, 'Justin': 237, 'bieber': 526, 'gay': 757, 'gotta': 779, 'well': 1389, 'worth': 1412, 'clicked': 582, 'everything': 700, 'went': 1390, 'uphill': 1337, 'least': 970, 'JBs': 227, 'shit': 1206, '1\\ufeff': 17, '❤️': 1447, '❤️❤️❤️❤️\\ufeff': 1448, 'Ahhh': 72, 'years': 1427, 'ago\\ufeff': 472, 'Dance': 132, 'dancePsy': 634, 'httpwwwreverbnationcommsmarilynmiles\\ufeff': 904, 'starlitnightsky': 1246, 'epic': 689, 'videos\\ufeff': 1347, 'httpswwwtsucoKodysMan': 877, 'Stupid': 380, 'doesnt': 658, 'visits': 1363, 'thousands': 1302, 'millions\\ufeff': 1024, 'httpwwwgcmforexcompartnersawaspxTaskJoinT2ampAffiliateID9107\\ufeff': 898, 'men': 1019, 'put': 1145, 'allot': 475, 'effort': 681, 'unfortunatly': 1334, 'httpwww10vakinhacombrVaquinhaEaspxe313327': 887, 'vip': 1359, 'gun': 790, 'cross': 626, 'fire': 726, 'al\\ufeff': 481, 'Add': 70, 'herehttpswwwfacebookcomTLouXmusic\\ufeff': 811, 'SINGING': 345, 'COVERS\\ufeff': 107, 'place': 1112, 'promote': 1139, 'channels': 570, 'Get': 191, 'pay': 1099, 'pal': 1093, 'money\\ufeff': 1038, 'pivot': 1110, 'animations': 488, 'Follow': 168, 'twitter': 1328, 'IG': 216, 'killuminati94\\ufeff': 951, 'Oppa': 309, 'Yeah': 451, 'Best': 91, 'Song\\ufeff': 372, 'httpwwwsunfrogshirtscomSunglassWorldhtml24398\\ufeff': 905, 'httpswwwfacebookcomteeLaLaLa\\ufeff': 869, 'httpwwwtwitchtvzxlightsoutxz\\ufeff': 911, 'reminds': 1165, 'httpssoundcloudcompopaegiswrennalmondeyes\\ufeff': 858, 'Go': 193, 'httpwwwswagbuckscompregisterrb13017194\\ufeff': 906, 'Search': 362, 'Chubbz': 119, 'Dinero': 136, 'Ready': 338, 'Twitter': 411, 'mscalifornia95\\ufeff': 1047, '😫😓😏😪😔😖😌😭😎😚😘😙😗😋😝😜😛😍😒😞😷😶😵😳😲😱😟😰😩😨😧😦😥😤😣😮😴😢😡😠😬😕😑😐😯😉😈😇😆😅😄😃😂😁😀😊☺': 1458, 'single': 1218, 'types': 1330, 'face': 710, 'earth\\ufeff': 677, '▬▬▬▬▬▬▬▬▬▬ஜ۩۞۩ஜ▬▬▬▬▬▬▬▬': 1444, 'ＤＡＭＮ': 1452, 'ＴＨＩＳ': 1455, 'ＣＯＭＭＥＮＴ': 1451, 'ＩＳ': 1454, 'ＦＡＮＣY': 1453, '▬▬▬▬▬▬▬▬▬▬ஜ۩۞۩ஜ▬▬▬▬▬▬▬▬\\ufeff': 1445, 'SONG': 349, 'STATIC': 350, 'YOULL': 445, 'LOVE': 254, 'IT\\ufeff': 219, 'Incmediaorg': 222, 'truth': 1319, 'meets': 1016, 'you\\ufeff': 1438, 'look': 988, 'pe': 1100, 'lets': 974, 'found': 735, 'BILLION\\ufeff': 86, 'Song': 371, 'name\\ufeff': 1056, 'httpwwwbubblewscomnews9277547peaceandbrotherhood\\ufeff': 892, 'hey': 813, 'wouldnt': 1415, 'mind': 1028, 'chacking': 564, 'il': 921, 'giver': 767, 'vids': 1351, 'like\\ufeff': 978, 'httpwwwamazoncoukgpofferlistingB00ECVF93Gsr82qid1415297812refolptabrefurbishedieUTF8ampconditionrefurbishedampqid1415297812ampsr82': 889, 'watched': 1379, 'YouTube': 452, 'Psy’s': 331, '“Gangnam': 1443, 'Style”': 382, '21': 29, 'httpflipagramcomfLUkA1QMrhF\\ufeff': 829, 'Christmas': 118, 'httpwwwgofundmecomgvr7xg\\ufeff': 900, 'Plus': 325, 'nice': 1065, 'httpswwwchangeorgpfacebooktwitteryoutubedonotcensorjulienblanc': 861, 'httpssoundcloudcomjackalandjameswrapupthenight\\ufeff': 857, 'httpswwwsurveymonkeycomsCVHMKLT\\ufeff': 875, 'wont': 1407, 'disappointed\\ufeff': 652, 'viral': 1360, 'TRUE\\ufeff': 394, 'vidios\\ufeff': 1350, 'OPPA': 305, 'STYLE\\ufeff': 353, '1700000000': 14, 'spam': 1238, 'bots': 538, 'cmon': 587, 'BS\\ufeff': 88, 'lt3\\ufeff': 998, 'awesomeness': 513, 'lol': 985, 'aaaaaaa': 457, 'lada😂\\ufeff': 963, 'world\\ufeff': 1411, 'holy': 822, 'Dear': 133, 'loving': 995, 'day\\ufeff': 638, 'httpwwwermailpldolaczV3VeYGIN': 896, 'CLICK': 103, 'httpwwwermailpldolaczV3VeYGIN\\ufeff': 897, 'tried': 1317, 'social': 1226, 'network': 1058, 'TSU': 395, 'special': 1240, 'thingYou': 1296, 'share': 1201, 'posts': 1127, 'fb': 719, 'toll': 1310, 'paid': 1092, 'registr': 1162, 'httpswwwtsucoWORLDWIDELIFE\\ufeff': 878, 'Guy': 199, 'yellow': 1429, 'suit': 1270, 'kinda': 953, 'looks': 990, 'Jaesuk': 230, 'People': 320, 'FByou': 160, 'register': 1161, 'difference': 649, 'sharing': 1203, 'commenting': 597, 'liking': 979, 'onedont': 1087, 'waste': 1377, 'Register': 339, 'everyday': 697, 'httpswwwtsucoslema13': 880, 'Wellcome': 437, 'theres': 1294, 'MULTIPLE': 283, 'ACCOUNTS1111\\ufeff': 65, 'WAT': 431, 'DA': 127, 'VIEWED': 422, 'VIDEO': 420, 'YOUTUBE\\ufeff': 448, '27': 37, '7': 58, 'this\\ufeff': 1300, 'plZ': 1111, 'httpwwwtwitchtvtareko100': 910, 'twitch': 1327, 'enter': 685, 'keyword': 947, '5800': 54, 'winning': 1402, 'expensive': 705, 'csgo': 628, 'sell': 1198, 'steam': 1249, 'market\\ufeff': 1012, '2126492636': 32, 'httpswwwtsucoAseris': 876, 'Fantastic\\ufeff': 165, 'population': 1123, '2126521750': 33, '23': 36, 'min': 1027, 'SUPER': 359, 'P': 310, 'E': 145, 'C': 98, 'V': 419, 'earth': 676, 'friend': 739, 'book': 536, 'repass': 1168, 'httpwww4sharedcomwebpreviewpdfCjFofTxeba\\ufeff': 888, 'Still': 378, 'liked': 976, 'YouTube\\ufeff': 454, 'later': 966, 'kind': 952, 'Youtube': 456, 'going': 772, 'making': 1005, 'Launchpad': 256, 'Videos': 427, 'subs': 1261, 'spot': 1244, 'easily': 678, 'care': 561, 'bother': 537, 'LolI': 267, 'dunno': 672, 'joke': 941, 'whatever': 1394, 'Views': 428, 'Piece': 321, 'Shit': 364, 'R': 334, 'U': 412, 'K': 238, 'N': 300, 'G': 176, 'GANGMAN': 177, 'STY': 351, 'DDDDDDDROP': 129, 'BASS\\ufeff': 82, 'Views\\ufeff': 429, 'RAPPERSONGWRITER': 335, 'PLEASEalso': 313, 'thanks': 1288, 'think\\ufeff': 1299, '2924': 39, 'whole': 1397, 'dick': 644, 'stuck': 1254, 'elevator': 682, 'excuse': 703, 'prehistoric': 1131, 'songhas': 1231, 'been\\ufeff': 521, 'smart': 1224, 'Headbutt': 208, 'face\\ufeff': 712, 'DISLIKE': 130, 'knows': 956, 'REAL': 336, 'ex': 702, 'Enimen': 154, 'Loool': 269, 'understands': 1333, 'pray': 1129, 'Little': 264, 'Psy': 330, '♡\\ufeff': 1446, 'months': 1041, 'left': 972, 'Tumor': 410, 'head': 806, 'MISS': 280, 'Instagram': 223, 'chriscz': 579, 'relevant': 1163, 'LOL': 251, 'old\\ufeff': 1082, 'sayThis': 1186, 'Change': 112, 'Completely': 125, 'good': 774, 'job': 938, 'girls': 764, '002': 1, 'camera': 554, 'man': 1006, 'glasses\\ufeff': 768, 'wrong\\ufeff': 1418, 'fucking': 746, 'singer': 1216, 'koean': 958, 'chainise': 565, 'ana': 486, 'sucks': 1268, 'dick\\ufeff': 645, '205': 28, 'Hahahahah': 205, 'December': 134, 'Dumb': 142, '11': 8, 'equals': 690, '111': 9, 'smartie': 1225, 'pants\\ufeff': 1094, 'Say': 360, 'Old': 306, 'Theres': 404, 'Point': 327, 'Listening': 263, 'Stfu': 377, 'Enjoy': 155, 'Mom': 294, 'Listen': 262, 'Right\\ufeff': 342, 'Thing': 405, '2009': 21, 'america\\ufeff': 483, 'mine\\ufeff': 1032, 'jap': 936, 'piece': 1109, 'worthless': 1413, 'fish': 728, 'dumb': 671, 'untanlted': 1335, 'gook': 777, 'fucken': 745, 'sad': 1180, 'fucked': 744, 'up\\ufeff': 1339, 'remember': 1164, 'obsessed': 1073, 'Gangnam': 190, 'Style': 381, '😗\\ufeff': 1456, 'Remove': 341, 'wank\\ufeff': 1370, 'hard': 800, 'iThat': 918, 'little': 983, 'child': 576, 'Actor': 69, 'HWANG': 201, 'MINOO': 279, 'dancing': 636, 'suffering': 1269, 'brain': 542, 'tumor': 1323, '6': 57, 'month': 1040, 'Hard': 206, 'believe': 524, 'Keep': 240, 'praying': 1130, 'future': 750, 'superstar': 1274, 'StrongLittlePsY': 379, 'Fighting': 166, 'SHARE': 344, 'PRAYING': 316, 'httpygunitedcom20141108littlepsyfromthehasbraintumor6monthslefttolive': 912, 'fuck': 743, 'keeps': 946, 'updated': 1336, 'minutes': 1033, 'ago': 471, 'MANY': 273, 'MEMORIES\\ufeff': 274, '5million': 56, '279898': 38, 'Users': 418, 'fake': 714, 'account': 462, 'hacked': 795, 'youtube\\ufeff': 1437, '2000000000': 20, '7000000000': 59, 'saw': 1184, 'yeat': 1428, 'words': 1408, 'hole': 821, 'cool': 611, 'again\\ufeff': 470, 'voyage': 1367, 'Tell': 400, 'loved': 994, '😢\\ufeff': 1457, 'Video': 426, 'style': 1258, 'problem': 1133, 'phenomena': 1106, 'behind': 522, 'random': 1147, 'korean': 960, 'girl': 763, 'slut': 1223, 'bitch': 533, 'Hyuna': 215, '33\\ufeff': 47, 'Kollektivet': 242, 'slappin': 1222, 'penis': 1101, 'credit': 623, 'receive\\ufeff': 1160, 'fun': 747, 'Cmon': 122, 'post': 1125, 'reviews': 1170, 'flute': 729, 'Thanks\\ufeff': 403, 'dealing': 639, 'theories': 1291, 'couldve': 613, 'gotten': 780, 'hits': 819, '1': 3, 'mabey': 1002, 'korea': 959, 'realy': 1157, 'access': 460, 'Internet': 224, 'including': 927, 'numbers': 1072, 'rising': 1175, '2017': 27, 'populatoin': 1124, 'connected': 608, 'Hackers': 202, 'may': 1013, 'rised': 1174, 'featured': 720, 'dance': 633, 'multiple': 1049, 'mp3s': 1046, 'seen': 1195, 'concerts': 605, 'eve': 692, 'event': 694, '2012': 22, 'seeing': 1194, 'adding': 467, 'complaining': 603, 'heck': 809, '2b': 40, 'hits\\ufeff': 820, 'chanel\\ufeff': 568, 'QUEEN': 333, 'MICHAEL': 276, 'JACKSON': 226, 'omg\\ufeff': 1085, 'LoL\\ufeff': 265, 'pause': 1098, '139': 11, 'last': 965, 'millisecond': 1026, 'chick': 575, 'laugh': 967, 'Takes': 397, 'tries\\ufeff': 1318, '9': 63, 'year': 1426, 'olds': 1080, 'guy\\ufeff': 794, 'ANNOYING\\ufeff': 67, 'httpswwwfacebookcompagesMathsterWP1495323920744243refhl\\ufeff': 868, 'millioon': 1025, 'dislikesssssssssssssssssssssssssssssssss\\ufeff': 656, 'Brain': 97, 'live': 984, 'lucks\\ufeff': 1000, 'kidz': 950, 'Billon': 95, 'MILLONGet': 277, 'facts': 713, 'posting': 1126, 'comments\\ufeff': 599, 'stupid': 1256, 'humanity': 915, 'is\\ufeff': 932, 'Come': 123, 'called': 552, 'odowd': 1074, 'crowd': 627, 'movie': 1045, 'part': 1095, 'translate': 1316, 'saying\\ufeff': 1188, 'second': 1191, 'comes': 594, 'baby': 514, 'SMH': 347, 'COME': 104, 'TO\\ufeff': 393, 'join': 939, 'tsū': 1322, 'publishing': 1144, 'platform': 1115, 'content': 610, 'httptsucoMarkusMairhofer\\ufeff': 884, '2127315950': 34, '2014\\ufeff': 25, 'youtubedaaaaaaaaaaannng': 1435, 'almost': 477, 'dominate': 659, 'entirechina\\ufeff': 688, '2127322484': 35, 'gangnam': 755, 'style\\ufeff': 1259, 'Lol': 266, 'officialpsy': 1075, 'dislikesEPIC': 655, 'FAILready': 159, 'fanboys\\ufeff': 716, 'knew': 954, 'funnier': 748, 'bit': 532, 'end': 683, 'spoken': 1243, 'rapidly\\ufeff': 1149, 'Enough': 156, 'two': 1329, 'planet': 1114, 'Youre': 455, 'joking': 942, 'anymore\\ufeff': 492, 'summon': 1271, 'Freddy': 170, 'Mercurys': 288, 'ghost': 761, 'whipe': 1395, 'One': 308, 'Direction': 137, 'Miley': 290, 'Cirus\\ufeff': 120, 'round': 1178, 'public': 1143, 'pouring': 1128, 'bucket': 547, 'ice': 919, 'water': 1383, 'running': 1179, 'away': 510, 'acting': 463, 'wasnt': 1376, 'see\\ufeff': 1196, 'shares\\ufeff': 1202, 'name': 1055, 'Dylan': 143, 'IRL': 218, 'football': 733, '1030': 7, 'subscribe\\ufeff': 1266, '300': 44, 'tomorrow': 1311, 'Hunger': 214, 'Games': 187, 'follower': 732, 'httpswwwfacebookcomlists161620527267482\\ufeff': 865, 'wow': 1416, 'justin': 943, 'beibs': 523, 'capitalized': 556, 'tazz': 1285, 'self': 1197, 'friend\\ufeff': 741, 'college': 590, 'bottom': 539, 'heart': 808, 'httpswwwindiegogocomprojectsiwanttogotocollege19x9082175\\ufeff': 873, 'httpswwwfacebookcomSchoolGeniusNITSphotosmsceJw9kVkOxDAMQm808h5z4sNjqPtHqBEuM69AQUp1IhfPHgk5zLLsVdQv0ZUf0MBLnUJufTH4YoKfRxYts2zvrrp6qGtw67yL551hf7vlcZzRG8vGCTlPSD9ONGeWhj8GIbuS3lzMvYIQ2TwSfzz9WHn7JUSvHufpglQRZczl05fNPhaGeVb3x8yDmC6XjTcjnMhovfXWCjZyvWObihrnGx2ocjnG2PG1EvHXzyjDo3hRY6f57sPrnD2xVBzszZ8bpsa390875584405933391725794320912type1amptheater': 863, 'Sucscribe': 386, 'VaahidMustafic': 425, 'httphackfbaccountlivecomref4436607': 830, 'psy': 1141, 'offıcal': 1076, 'httpswwwfacebookcomnicushorbboy': 866, 'add': 466, 'mee': 1015, 'lt3': 997, 'sorry': 1236, 'Jenny': 232, 'high': 815, 'school': 1189, 'dresses': 665, 'fashionable': 718, 'cute': 630, 'clothes': 585, 'low': 996, 'esteem': 691, 'dad': 631, 'mom': 1035, 'passed': 1097, 'mother': 1043, 'figure': 724, 'brothers': 545, 'older': 1079, 'Since': 369, 'boys': 541, 'attention': 507, 'alone': 478, 'wear': 1385, 'pretty': 1132, 'boyfriend': 540, 'cant': 555, 'shy': 1213, 'confidence': 606, 'talk': 1282, 'someone': 1229, 'Caroline': 110, 'moved': 1044, 'donate': 660, 'brand': 543, 'ill': 922, 'shop': 1210, 'walmart': 1369, 'wanna': 1371, 'nails': 1054, 'done': 661, 'salon': 1182, 'alot': 479, 'french': 738, 'tips': 1308, 'nail': 1053, 'hair': 796, 'curled': 629, 'httpwwwgofundmecomdressprettyonce': 899, 'omg': 1083, 'throw': 1303, 'GOAL': 180, '3000000': 46, 'Lets': 258, 'fly': 730, 'burned': 548, 'alive\\ufeff': 474, 'CHHANEL': 102, 'GOING': 181, 'POSTING': 314, 'DAILY\\ufeff': 128, 'hav': 805, 'idea': 920, 'hes': 812, 'language\\ufeff': 964, 'vidios': 1349, 'wonder': 1405, 'illuminati': 923, 'confirmed': 607, 'mine': 1029, 'craft': 619, 'shoot': 1209, '20': 19, 'subs\\ufeff': 1267, 'count\\ufeff': 616, 'Fuego': 173, 'LA': 247, 'Remix': 340, 'hyperurlcok6a5xt\\ufeff': 917, 'wwwmarketglorycomstrategygamelordviperas\\ufeff': 1419, 'shitty': 1207, 'Government': 197, 'didnt': 647, 'block': 534, 'thered': 1293, 'close': 584, 'RECORD': 337, 'XD\\ufeff': 442, 'drunk': 669, 'x\\ufeff': 1423, 'Limit': 260, 'sun': 1272, 'exposure': 707, 'driving': 666, 'Eliminate': 152, 'hassle': 801, 'swing': 1278, 'car': 557, 'visor': 1364, 'windshield': 1401, 'window': 1400, 'httpswwwkickstartercomprojects733634264visortwin\\ufeff': 874, 'Hahah': 204, 'juyk': 944, 'allways': 476, '157': 12, 'LOL\\ufeff': 252, 'httphackfbaccountlivecomref5242575\\ufeff': 832, 'guy': 791, 'dances': 635, '0058': 2, 'anybody': 490, 'httpswwwfacebookcomFUDAIRYQUEENpnrefstory\\ufeff': 862, 'Haha': 203, 'salt': 1183, 'westerners': 1392, 'goes': 770, 'FOLLOW': 161, 'COMPANY': 106, 'TWITTER': 396, 'httpstwittercomTheWaxedHatCo\\ufeff': 860, 'imagine': 925, 'adsense': 468, 'ur': 1340, 'morgage\\ufeff': 1042, 'let': 973, 'forget': 734, 'thanks\\ufeff': 1289, 'train': 1315, 'outfit': 1088, 'huge': 914, 'turnoff': 1325, 'lacked': 962, 'eyebrows': 708, 'Look': 268, 'difficult': 650, 'httpimage2youru480511340524': 852, 'httpimage2youru480511340523': 851, 'httpimage2youru480511340522': 850, 'httpimage2youru480511340521': 849, 'httpimage2youru480511340520': 848, 'httpimage2youru480511340519': 847, 'httpimage2youru480511340518': 846, 'httpimage2youru480511340517': 845, 'httpimage2youru480511340504': 844, 'httpimage2youru480511340503': 843, 'httpimage2youru480511340502': 842, 'httpimage2youru480511340500': 841, 'httpimage2youru480511340499': 840, 'httpimage2youru480511340494': 839, 'httpimage2youru480511340493': 838, 'httpimage2youru480511340492': 837, 'httpimage2youru480511340491': 836, 'httpimage2youru480511340490': 835, 'httpimage2youru480511340489': 834, 'httpimage2youru480511340488\\ufeff': 833, 'promise': 1137, 'entertaining': 686, 'Shotgun': 365, 'MontagesNinja': 296, 'Defuse': 135, 'Montages': 295, 'Trolling': 407, 'certain': 563, 'amount': 484, 'httpswwwfacebookcomtofikmiedzynBphotosa1496273723978022107374182814962418639812081498561870415874type1amptheater': 870, 'httpswwwfacebookcomeecconposts733949243353321commentid734237113324534ampoffset0amptotalcomments74': 864, 'frigea': 742, 'marius': 1010, 'gabriel': 751, 'httpwwwbingcomexplorerewardsPUBLREFERAFRIENDampCREARAWamprrid0f9fa8aa243a5c2fc349ede05ea397ca': 891, 'Bing': 96, 'rewards': 1171, 'CANT': 99, 'GET': 179, 'UR': 413, 'VIRUS': 424, 'BLUE\\ufeff': 87, 'shirts': 1205, '4th': 50, 'sold': 1227, 'worldwide': 1410, 'httpteespringcomtreechristmas\\ufeff': 882, 'Free': 171, '1m': 16, 'crdits': 622, 'link': 981, 'download': 663, 'app': 497, '·': 1442, 'Link': 261, 'httpsmfreemyappscomshareurl5af506e1\\ufeff': 853, 'Michael': 289, 'Jackson': 229, 'SMH\\ufeff': 348, 'Something': 370, 'everyones': 699, 'lool': 991, 'hear': 807, 'call': 551, 'duty': 673, 'aways': 511, 'Goal100': 194, 'android': 487, 'photo': 1107, 'editor': 680, 'httpsplaygooglecomstoreappsdetailsidcombutalabsphotoeditor\\ufeff': 854, 'thought': 1301, 'were\\ufeff': 1391}\n"
     ]
    }
   ],
   "source": [
    "print(bow_transformer.vocabulary_)"
   ]
  },
  {
   "cell_type": "code",
   "execution_count": 38,
   "metadata": {},
   "outputs": [
    {
     "data": {
      "text/plain": [
       "1459"
      ]
     },
     "execution_count": 38,
     "metadata": {},
     "output_type": "execute_result"
    }
   ],
   "source": [
    "len(bow_transformer.vocabulary_)"
   ]
  },
  {
   "cell_type": "code",
   "execution_count": 39,
   "metadata": {},
   "outputs": [
    {
     "data": {
      "text/plain": [
       "'Huh, anyway check out this you[tube] channel: kobyoshi02'"
      ]
     },
     "execution_count": 39,
     "metadata": {},
     "output_type": "execute_result"
    }
   ],
   "source": [
    "psy['CONTENT'][0]"
   ]
  },
  {
   "cell_type": "code",
   "execution_count": 40,
   "metadata": {},
   "outputs": [
    {
     "data": {
      "text/plain": [
       "0    Huh, anyway check out this you[tube] channel: ...\n",
       "Name: CONTENT, dtype: object"
      ]
     },
     "execution_count": 40,
     "metadata": {},
     "output_type": "execute_result"
    }
   ],
   "source": [
    "psy['CONTENT'][0:1]"
   ]
  },
  {
   "cell_type": "code",
   "execution_count": 41,
   "metadata": {},
   "outputs": [
    {
     "name": "stdout",
     "output_type": "stream",
     "text": [
      "  (0, 213)\t1\n",
      "  (0, 494)\t1\n",
      "  (0, 569)\t1\n",
      "  (0, 572)\t1\n",
      "  (0, 957)\t1\n",
      "  (0, 1434)\t1\n"
     ]
    }
   ],
   "source": [
    "example = bow_transformer.transform(psy['CONTENT'][0:1])\n",
    "print(example)\n",
    "# If we state psy['CONTENT'][0] error message will appear. It expects iterable over raw text documents, instead\n",
    "# of string object."
   ]
  },
  {
   "cell_type": "markdown",
   "metadata": {},
   "source": [
    "*This cell below shows how to get Bag of Words (bow) of entire CONTENT.*"
   ]
  },
  {
   "cell_type": "code",
   "execution_count": 42,
   "metadata": {},
   "outputs": [],
   "source": [
    "content_bow = bow_transformer.transform(psy['CONTENT'])"
   ]
  },
  {
   "cell_type": "code",
   "execution_count": 43,
   "metadata": {},
   "outputs": [
    {
     "name": "stdout",
     "output_type": "stream",
     "text": [
      "Shape of Sparse Matrix:  (350, 1459)\n",
      "\n",
      "Amount of Non-Zero occurences:  2671\n"
     ]
    }
   ],
   "source": [
    "print('Shape of Sparse Matrix: ', content_bow.shape)\n",
    "print()\n",
    "print('Amount of Non-Zero occurences: ', content_bow.nnz)"
   ]
  },
  {
   "cell_type": "code",
   "execution_count": 44,
   "metadata": {},
   "outputs": [
    {
     "name": "stdout",
     "output_type": "stream",
     "text": [
      "sparsity: 1\n"
     ]
    }
   ],
   "source": [
    "sparsity = (100.0 * content_bow.nnz / (content_bow.shape[0] * content_bow.shape[1]))\n",
    "print('sparsity: {}'.format(round(sparsity)))"
   ]
  },
  {
   "cell_type": "markdown",
   "metadata": {},
   "source": [
    "*These cells below will show example of how TF-IDF works.*"
   ]
  },
  {
   "cell_type": "code",
   "execution_count": 45,
   "metadata": {},
   "outputs": [],
   "source": [
    "tfidf_transformer = TfidfTransformer().fit(content_bow)"
   ]
  },
  {
   "cell_type": "code",
   "execution_count": 46,
   "metadata": {},
   "outputs": [
    {
     "name": "stdout",
     "output_type": "stream",
     "text": [
      "  (0, 1434)\t0.3516436276659161\n",
      "  (0, 957)\t0.4956285772184817\n",
      "  (0, 572)\t0.25489293848539957\n",
      "  (0, 569)\t0.27282464948274626\n",
      "  (0, 494)\t0.4956285772184817\n",
      "  (0, 213)\t0.4956285772184817\n"
     ]
    }
   ],
   "source": [
    "# The (0, 1434) is the word vector. While 0.35164.. is the measure of the word's importance in document (particular-\n",
    "# comment), and in the corpus (all of the comments) as well.\n",
    "tfidf_example = tfidf_transformer.transform(example)\n",
    "print(tfidf_example)"
   ]
  },
  {
   "cell_type": "code",
   "execution_count": 47,
   "metadata": {},
   "outputs": [
    {
     "data": {
      "text/plain": [
       "['Huh', 'anyway', 'check', 'youtube', 'channel', 'kobyoshi02']"
      ]
     },
     "execution_count": 47,
     "metadata": {},
     "output_type": "execute_result"
    }
   ],
   "source": [
    "text_process(psy['CONTENT'][0:1].values[0])"
   ]
  },
  {
   "cell_type": "markdown",
   "metadata": {},
   "source": [
    "*Below is the IDF (inverse document frequency) of the word \"anyway\", and \"channel\". IDF shows importance level of the word in the entire contents (all comments). While TF (term Frequency) is the importance level of the word in a document (or in a comment).*"
   ]
  },
  {
   "cell_type": "code",
   "execution_count": 48,
   "metadata": {},
   "outputs": [
    {
     "name": "stdout",
     "output_type": "stream",
     "text": [
      "6.167639042905921\n",
      "3.3950503206661393\n"
     ]
    }
   ],
   "source": [
    "print(tfidf_transformer.idf_[bow_transformer.vocabulary_['anyway']])\n",
    "print(tfidf_transformer.idf_[bow_transformer.vocabulary_['channel']])"
   ]
  },
  {
   "cell_type": "markdown",
   "metadata": {},
   "source": [
    "*TF-IDF.transform on all the comments.*"
   ]
  },
  {
   "cell_type": "code",
   "execution_count": 49,
   "metadata": {},
   "outputs": [],
   "source": [
    "content_tfidf = tfidf_transformer.transform(content_bow)"
   ]
  },
  {
   "cell_type": "code",
   "execution_count": 50,
   "metadata": {},
   "outputs": [
    {
     "name": "stdout",
     "output_type": "stream",
     "text": [
      "  (0, 1434)\t0.3516436276659161\n",
      "  (0, 957)\t0.4956285772184817\n",
      "  (0, 572)\t0.25489293848539957\n",
      "  (0, 569)\t0.27282464948274626\n",
      "  (0, 494)\t0.4956285772184817\n",
      "  (0, 213)\t0.4956285772184817\n",
      "  (1, 1396)\t0.29520071219022825\n",
      "  (1, 1343)\t0.29520071219022825\n",
      "  (1, 1262)\t0.17626602622033774\n",
      "  (1, 1204)\t0.29520071219022825\n",
      "  (1, 1117)\t0.19277107076609976\n",
      "  (1, 1060)\t0.20561094666461335\n",
      "  (1, 1039)\t0.29520071219022825\n",
      "  (1, 975)\t0.16720836693110738\n",
      "  (1, 971)\t0.2757940011539378\n",
      "  (1, 792)\t0.20561094666461335\n",
      "  (1, 727)\t0.2352399203973389\n",
      "  (1, 596)\t0.22884872890116148\n",
      "  (1, 572)\t0.1518164618259711\n",
      "  (1, 569)\t0.1624967456120948\n",
      "  (1, 414)\t0.2620247205456949\n",
      "  (1, 282)\t0.29520071219022825\n",
      "  (1, 221)\t0.20206392875280557\n",
      "  (1, 210)\t0.20206392875280557\n",
      "  (2, 1287)\t0.5899894581810486\n",
      "  :\t:\n",
      "  (347, 765)\t0.3258606160169376\n",
      "  (347, 673)\t0.3827189778421996\n",
      "  (347, 551)\t0.3827189778421996\n",
      "  (347, 511)\t0.3827189778421996\n",
      "  (347, 194)\t0.3827189778421996\n",
      "  (348, 1288)\t0.30351006598094615\n",
      "  (348, 1117)\t0.24115258601677989\n",
      "  (348, 1107)\t0.3692899295301716\n",
      "  (348, 854)\t0.3692899295301716\n",
      "  (348, 814)\t0.34501253908002305\n",
      "  (348, 792)\t0.2572150027723421\n",
      "  (348, 680)\t0.3692899295301716\n",
      "  (348, 663)\t0.34501253908002305\n",
      "  (348, 487)\t0.3692899295301716\n",
      "  (349, 1391)\t0.2808385172605871\n",
      "  (349, 1353)\t0.2237949561663492\n",
      "  (349, 1301)\t0.2808385172605871\n",
      "  (349, 1256)\t0.262375987438422\n",
      "  (349, 1193)\t0.1956075002848421\n",
      "  (349, 1156)\t0.23081408424051775\n",
      "  (349, 797)\t0.24927661406268287\n",
      "  (349, 727)\t0.4475899123326984\n",
      "  (349, 611)\t0.262375987438422\n",
      "  (349, 553)\t0.2177147108647786\n",
      "  (349, 529)\t0.5030708335341276\n"
     ]
    }
   ],
   "source": [
    "print(content_tfidf)"
   ]
  },
  {
   "cell_type": "markdown",
   "metadata": {},
   "source": [
    "*We can transform the matrix into array form, if later we would want to put the tf-idf into the dataframe.*"
   ]
  },
  {
   "cell_type": "code",
   "execution_count": 51,
   "metadata": {},
   "outputs": [
    {
     "data": {
      "text/plain": [
       "array([[0., 0., 0., ..., 0., 0., 0.],\n",
       "       [0., 0., 0., ..., 0., 0., 0.],\n",
       "       [0., 0., 0., ..., 0., 0., 0.],\n",
       "       ...,\n",
       "       [0., 0., 0., ..., 0., 0., 0.],\n",
       "       [0., 0., 0., ..., 0., 0., 0.],\n",
       "       [0., 0., 0., ..., 0., 0., 0.]])"
      ]
     },
     "execution_count": 51,
     "metadata": {},
     "output_type": "execute_result"
    }
   ],
   "source": [
    "tfidf_arr = content_tfidf.toarray()\n",
    "tfidf_arr"
   ]
  },
  {
   "cell_type": "code",
   "execution_count": 52,
   "metadata": {},
   "outputs": [
    {
     "data": {
      "text/plain": [
       "array([0.        , 0.05720282, 0.07691616, 0.07894442, 0.08671103,\n",
       "       0.09196289, 0.10078373, 0.11904538, 0.12249699, 0.12353424,\n",
       "       0.12632722, 0.12765594, 0.13936254, 0.14136526, 0.14811941,\n",
       "       0.14863277, 0.15598012, 0.15664249, 0.1613331 , 0.16469348,\n",
       "       0.16717997, 0.17183406, 0.17239547, 0.17690497, 0.17964832,\n",
       "       0.18105591, 0.18438285, 0.18829017, 0.19747017, 0.21294862,\n",
       "       0.21446301, 0.21609856, 0.21629488, 0.21707026, 0.21734154,\n",
       "       0.22333263, 0.23608396, 0.23994047, 0.241776  , 0.25422496,\n",
       "       0.25516172, 0.25732061, 0.27277771, 0.27587635, 0.2943457 ,\n",
       "       0.2958024 , 0.29607026, 0.31342468, 0.31892575, 0.33038659,\n",
       "       0.33656135, 0.36439374, 0.38325106, 0.3993282 , 0.41648664,\n",
       "       0.44053062, 0.58932586])"
      ]
     },
     "execution_count": 52,
     "metadata": {},
     "output_type": "execute_result"
    }
   ],
   "source": [
    "temp = pd.DataFrame(data=tfidf_arr).iloc[:,1450:1451]\n",
    "np.unique(temp)"
   ]
  },
  {
   "cell_type": "code",
   "execution_count": 53,
   "metadata": {},
   "outputs": [
    {
     "data": {
      "text/plain": [
       "array([0.        , 0.37796447])"
      ]
     },
     "execution_count": 53,
     "metadata": {},
     "output_type": "execute_result"
    }
   ],
   "source": [
    "temp2 = pd.DataFrame(data=tfidf_arr).iloc[:,1451:1452]\n",
    "np.unique(temp2)"
   ]
  },
  {
   "cell_type": "code",
   "execution_count": 54,
   "metadata": {},
   "outputs": [
    {
     "data": {
      "text/html": [
       "<div>\n",
       "<style scoped>\n",
       "    .dataframe tbody tr th:only-of-type {\n",
       "        vertical-align: middle;\n",
       "    }\n",
       "\n",
       "    .dataframe tbody tr th {\n",
       "        vertical-align: top;\n",
       "    }\n",
       "\n",
       "    .dataframe thead th {\n",
       "        text-align: right;\n",
       "    }\n",
       "</style>\n",
       "<table border=\"1\" class=\"dataframe\">\n",
       "  <thead>\n",
       "    <tr style=\"text-align: right;\">\n",
       "      <th></th>\n",
       "      <th>0</th>\n",
       "      <th>1</th>\n",
       "      <th>2</th>\n",
       "      <th>3</th>\n",
       "      <th>4</th>\n",
       "      <th>5</th>\n",
       "      <th>6</th>\n",
       "      <th>7</th>\n",
       "      <th>8</th>\n",
       "      <th>9</th>\n",
       "      <th>...</th>\n",
       "      <th>1449</th>\n",
       "      <th>1450</th>\n",
       "      <th>1451</th>\n",
       "      <th>1452</th>\n",
       "      <th>1453</th>\n",
       "      <th>1454</th>\n",
       "      <th>1455</th>\n",
       "      <th>1456</th>\n",
       "      <th>1457</th>\n",
       "      <th>1458</th>\n",
       "    </tr>\n",
       "  </thead>\n",
       "  <tbody>\n",
       "    <tr>\n",
       "      <th>0</th>\n",
       "      <td>0.0</td>\n",
       "      <td>0.0</td>\n",
       "      <td>0.0</td>\n",
       "      <td>0.0</td>\n",
       "      <td>0.0</td>\n",
       "      <td>0.0</td>\n",
       "      <td>0.0</td>\n",
       "      <td>0.0</td>\n",
       "      <td>0.0</td>\n",
       "      <td>0.0</td>\n",
       "      <td>...</td>\n",
       "      <td>0.0</td>\n",
       "      <td>0.000000</td>\n",
       "      <td>0.0</td>\n",
       "      <td>0.0</td>\n",
       "      <td>0.0</td>\n",
       "      <td>0.0</td>\n",
       "      <td>0.0</td>\n",
       "      <td>0.0</td>\n",
       "      <td>0.0</td>\n",
       "      <td>0.0</td>\n",
       "    </tr>\n",
       "    <tr>\n",
       "      <th>1</th>\n",
       "      <td>0.0</td>\n",
       "      <td>0.0</td>\n",
       "      <td>0.0</td>\n",
       "      <td>0.0</td>\n",
       "      <td>0.0</td>\n",
       "      <td>0.0</td>\n",
       "      <td>0.0</td>\n",
       "      <td>0.0</td>\n",
       "      <td>0.0</td>\n",
       "      <td>0.0</td>\n",
       "      <td>...</td>\n",
       "      <td>0.0</td>\n",
       "      <td>0.000000</td>\n",
       "      <td>0.0</td>\n",
       "      <td>0.0</td>\n",
       "      <td>0.0</td>\n",
       "      <td>0.0</td>\n",
       "      <td>0.0</td>\n",
       "      <td>0.0</td>\n",
       "      <td>0.0</td>\n",
       "      <td>0.0</td>\n",
       "    </tr>\n",
       "    <tr>\n",
       "      <th>2</th>\n",
       "      <td>0.0</td>\n",
       "      <td>0.0</td>\n",
       "      <td>0.0</td>\n",
       "      <td>0.0</td>\n",
       "      <td>0.0</td>\n",
       "      <td>0.0</td>\n",
       "      <td>0.0</td>\n",
       "      <td>0.0</td>\n",
       "      <td>0.0</td>\n",
       "      <td>0.0</td>\n",
       "      <td>...</td>\n",
       "      <td>0.0</td>\n",
       "      <td>0.000000</td>\n",
       "      <td>0.0</td>\n",
       "      <td>0.0</td>\n",
       "      <td>0.0</td>\n",
       "      <td>0.0</td>\n",
       "      <td>0.0</td>\n",
       "      <td>0.0</td>\n",
       "      <td>0.0</td>\n",
       "      <td>0.0</td>\n",
       "    </tr>\n",
       "    <tr>\n",
       "      <th>3</th>\n",
       "      <td>0.0</td>\n",
       "      <td>0.0</td>\n",
       "      <td>0.0</td>\n",
       "      <td>0.0</td>\n",
       "      <td>0.0</td>\n",
       "      <td>0.0</td>\n",
       "      <td>0.0</td>\n",
       "      <td>0.0</td>\n",
       "      <td>0.0</td>\n",
       "      <td>0.0</td>\n",
       "      <td>...</td>\n",
       "      <td>0.0</td>\n",
       "      <td>0.217070</td>\n",
       "      <td>0.0</td>\n",
       "      <td>0.0</td>\n",
       "      <td>0.0</td>\n",
       "      <td>0.0</td>\n",
       "      <td>0.0</td>\n",
       "      <td>0.0</td>\n",
       "      <td>0.0</td>\n",
       "      <td>0.0</td>\n",
       "    </tr>\n",
       "    <tr>\n",
       "      <th>4</th>\n",
       "      <td>0.0</td>\n",
       "      <td>0.0</td>\n",
       "      <td>0.0</td>\n",
       "      <td>0.0</td>\n",
       "      <td>0.0</td>\n",
       "      <td>0.0</td>\n",
       "      <td>0.0</td>\n",
       "      <td>0.0</td>\n",
       "      <td>0.0</td>\n",
       "      <td>0.0</td>\n",
       "      <td>...</td>\n",
       "      <td>0.0</td>\n",
       "      <td>0.336561</td>\n",
       "      <td>0.0</td>\n",
       "      <td>0.0</td>\n",
       "      <td>0.0</td>\n",
       "      <td>0.0</td>\n",
       "      <td>0.0</td>\n",
       "      <td>0.0</td>\n",
       "      <td>0.0</td>\n",
       "      <td>0.0</td>\n",
       "    </tr>\n",
       "  </tbody>\n",
       "</table>\n",
       "<p>5 rows × 1459 columns</p>\n",
       "</div>"
      ],
      "text/plain": [
       "   0     1     2     3     4     5     6     7     8     9     ...  1449  \\\n",
       "0   0.0   0.0   0.0   0.0   0.0   0.0   0.0   0.0   0.0   0.0  ...   0.0   \n",
       "1   0.0   0.0   0.0   0.0   0.0   0.0   0.0   0.0   0.0   0.0  ...   0.0   \n",
       "2   0.0   0.0   0.0   0.0   0.0   0.0   0.0   0.0   0.0   0.0  ...   0.0   \n",
       "3   0.0   0.0   0.0   0.0   0.0   0.0   0.0   0.0   0.0   0.0  ...   0.0   \n",
       "4   0.0   0.0   0.0   0.0   0.0   0.0   0.0   0.0   0.0   0.0  ...   0.0   \n",
       "\n",
       "       1450  1451  1452  1453  1454  1455  1456  1457  1458  \n",
       "0  0.000000   0.0   0.0   0.0   0.0   0.0   0.0   0.0   0.0  \n",
       "1  0.000000   0.0   0.0   0.0   0.0   0.0   0.0   0.0   0.0  \n",
       "2  0.000000   0.0   0.0   0.0   0.0   0.0   0.0   0.0   0.0  \n",
       "3  0.217070   0.0   0.0   0.0   0.0   0.0   0.0   0.0   0.0  \n",
       "4  0.336561   0.0   0.0   0.0   0.0   0.0   0.0   0.0   0.0  \n",
       "\n",
       "[5 rows x 1459 columns]"
      ]
     },
     "execution_count": 54,
     "metadata": {},
     "output_type": "execute_result"
    }
   ],
   "source": [
    "tfidf_df = pd.DataFrame(data=tfidf_arr)\n",
    "tfidf_df.head()"
   ]
  },
  {
   "cell_type": "markdown",
   "metadata": {},
   "source": [
    "*We can try to make a simple prediction of the output of an existing comment.*"
   ]
  },
  {
   "cell_type": "code",
   "execution_count": 55,
   "metadata": {},
   "outputs": [],
   "source": [
    "spam_detect_model = MultinomialNB().fit(content_tfidf, psy['CLASS'])"
   ]
  },
  {
   "cell_type": "markdown",
   "metadata": {},
   "source": [
    "*This is the document which outcome we would like to try to predict.*"
   ]
  },
  {
   "cell_type": "code",
   "execution_count": 56,
   "metadata": {},
   "outputs": [
    {
     "data": {
      "text/plain": [
       "['Huh', 'anyway', 'check', 'youtube', 'channel', 'kobyoshi02']"
      ]
     },
     "execution_count": 56,
     "metadata": {},
     "output_type": "execute_result"
    }
   ],
   "source": [
    "text_process(psy['CONTENT'][0])"
   ]
  },
  {
   "cell_type": "code",
   "execution_count": 57,
   "metadata": {},
   "outputs": [],
   "source": [
    "coba = bow_transformer.transform(psy['CONTENT'][0:1])\n",
    "tfidf_coba = tfidf_transformer.transform(coba)"
   ]
  },
  {
   "cell_type": "code",
   "execution_count": 58,
   "metadata": {},
   "outputs": [
    {
     "name": "stdout",
     "output_type": "stream",
     "text": [
      "predicted: 1\n",
      "expected: 1\n"
     ]
    }
   ],
   "source": [
    "print('predicted:', spam_detect_model.predict(tfidf_coba)[0])\n",
    "print('expected:', psy['CLASS'][0])"
   ]
  },
  {
   "cell_type": "code",
   "execution_count": 59,
   "metadata": {},
   "outputs": [
    {
     "data": {
      "text/plain": [
       "array([1], dtype=int64)"
      ]
     },
     "execution_count": 59,
     "metadata": {},
     "output_type": "execute_result"
    }
   ],
   "source": [
    "spam_detect_model.predict(tfidf_coba)"
   ]
  },
  {
   "cell_type": "markdown",
   "metadata": {},
   "source": [
    "## Building predictive model using machine learning."
   ]
  },
  {
   "cell_type": "markdown",
   "metadata": {},
   "source": [
    "**Split data into train and test data.**"
   ]
  },
  {
   "cell_type": "code",
   "execution_count": 60,
   "metadata": {},
   "outputs": [],
   "source": [
    "X = psy['CONTENT']\n",
    "y = psy['CLASS']"
   ]
  },
  {
   "cell_type": "code",
   "execution_count": 61,
   "metadata": {},
   "outputs": [],
   "source": [
    "X_train, X_test, y_train, y_test = train_test_split(X.values, y.values, test_size=0.2, random_state=421)"
   ]
  },
  {
   "cell_type": "markdown",
   "metadata": {},
   "source": [
    "**Using pipeline method to create a package of methods that needed for building the model (except the data split which has been done above).**"
   ]
  },
  {
   "cell_type": "markdown",
   "metadata": {},
   "source": [
    "**'bow' represents the CountVectorizer method, and it takes text_process function as the analyzer argument. It removes the punctuation, and common words from the document (comment). And then the CountVectorizer transforms the document from string to a vector.**\n",
    "\n",
    "**'tfidf' represents the TF-IDF method. It determines the weigh of the document, based off of the document vector.**\n",
    "\n",
    "**'classifier' represents the Naive-Bayes(NB) machine learning method. The NB type used here is the MultinomialNB.**"
   ]
  },
  {
   "cell_type": "code",
   "execution_count": 62,
   "metadata": {},
   "outputs": [],
   "source": [
    "pipe = Pipeline([\n",
    "    ('bow', CountVectorizer(analyzer=text_process)),\n",
    "    ('tfidf', TfidfTransformer()),\n",
    "    ('classifier', MultinomialNB())\n",
    "])"
   ]
  },
  {
   "cell_type": "markdown",
   "metadata": {},
   "source": [
    "**The fit method will apply three of the methods above on the training dataset.**"
   ]
  },
  {
   "cell_type": "code",
   "execution_count": 63,
   "metadata": {},
   "outputs": [
    {
     "data": {
      "text/plain": [
       "Pipeline(steps=[('bow',\n",
       "                 CountVectorizer(analyzer=<function text_process at 0x0000016C60C8A558>)),\n",
       "                ('tfidf', TfidfTransformer()),\n",
       "                ('classifier', MultinomialNB())])"
      ]
     },
     "execution_count": 63,
     "metadata": {},
     "output_type": "execute_result"
    }
   ],
   "source": [
    "pipe.fit(X_train, y_train)"
   ]
  },
  {
   "cell_type": "markdown",
   "metadata": {},
   "source": [
    "**Create predictions object as the prediction based off of the test dataset.**"
   ]
  },
  {
   "cell_type": "code",
   "execution_count": 64,
   "metadata": {},
   "outputs": [],
   "source": [
    "predictions = pipe.predict(X_test)"
   ]
  },
  {
   "cell_type": "code",
   "execution_count": 65,
   "metadata": {},
   "outputs": [
    {
     "name": "stdout",
     "output_type": "stream",
     "text": [
      "              precision    recall  f1-score   support\n",
      "\n",
      "           0       0.94      0.86      0.90        37\n",
      "           1       0.86      0.94      0.90        33\n",
      "\n",
      "    accuracy                           0.90        70\n",
      "   macro avg       0.90      0.90      0.90        70\n",
      "weighted avg       0.90      0.90      0.90        70\n",
      "\n"
     ]
    }
   ],
   "source": [
    "print(classification_report(y_test, predictions))"
   ]
  },
  {
   "cell_type": "code",
   "execution_count": 66,
   "metadata": {},
   "outputs": [
    {
     "data": {
      "image/png": "[encoded data removed]",
      "text/plain": [
       "<Figure size 432x288 with 2 Axes>"
      ]
     },
     "metadata": {
      "needs_background": "light"
     },
     "output_type": "display_data"
    }
   ],
   "source": [
    "plt.rcParams['axes.grid']=False\n",
    "plot_confusion_matrix(pipe,\n",
    "                      X_test,\n",
    "                      y_test,\n",
    "                      values_format='d',\n",
    "                      display_labels=['Not Spam', 'Spam']) # 0: Not Spam, 1: Spam\n",
    "plt.rcParams['axes.grid']=True"
   ]
  },
  {
   "cell_type": "markdown",
   "metadata": {},
   "source": [
    "**By looking at the ROC_AUC below, the model doesn't seem to over-fit. However, there could be other way that can be done to have a better predictive model.**"
   ]
  },
  {
   "cell_type": "code",
   "execution_count": 67,
   "metadata": {},
   "outputs": [
    {
     "name": "stdout",
     "output_type": "stream",
     "text": [
      "No Skill: ROC AUC = 0.500\n",
      "Multinomial NB: ROC AUC = 0.977\n",
      "\n"
     ]
    },
    {
     "data": {
      "text/plain": [
       "<matplotlib.legend.Legend at 0x16c62125e48>"
      ]
     },
     "execution_count": 67,
     "metadata": {},
     "output_type": "execute_result"
    },
    {
     "data": {
      "image/png": "[encoded data removed]",
      "text/plain": [
       "<Figure size 1080x576 with 1 Axes>"
      ]
     },
     "metadata": {
      "needs_background": "light"
     },
     "output_type": "display_data"
    }
   ],
   "source": [
    "plt.rcParams['axes.grid']=True\n",
    "\n",
    "pipe_probs = pipe.predict_proba(X_test)\n",
    "pipe_probs = pipe_probs[:,1]\n",
    "ns_probs = [0 for _ in range(len(y_test))]\n",
    "ns_auc = roc_auc_score(y_test, ns_probs)\n",
    "pipe_auc = roc_auc_score(y_test, pipe_probs)\n",
    "print('No Skill: ROC AUC = %.3f' % (ns_auc))\n",
    "print('Multinomial NB: ROC AUC = %.3f' % (pipe_auc))\n",
    "print()\n",
    "ns_fpr, ns_tpr, _ = roc_curve(y_test, ns_probs)\n",
    "pipe_fpr, pipe_tpr, _ = roc_curve(y_test, pipe_probs)\n",
    "# plot the roc curve for the model\n",
    "plt.figure(figsize=(15,8))\n",
    "plt.plot(ns_fpr, ns_tpr, linestyle='--', label='No Skill')\n",
    "plt.plot(pipe_fpr, pipe_tpr, marker='.', label='Multinomial NB')\n",
    "# axis labels\n",
    "plt.xlabel('False Positive Rate')\n",
    "plt.ylabel('True Positive Rate')\n",
    "# show the legend\n",
    "plt.legend()"
   ]
  },
  {
   "cell_type": "code",
   "execution_count": 68,
   "metadata": {},
   "outputs": [
    {
     "data": {
      "image/png": "[encoded data removed]",
      "text/plain": [
       "<Figure size 1080x576 with 1 Axes>"
      ]
     },
     "metadata": {
      "needs_background": "light"
     },
     "output_type": "display_data"
    }
   ],
   "source": [
    "cv = StratifiedKFold(n_splits=6)\n",
    "\n",
    "tprs = []\n",
    "aucs = []\n",
    "mean_fpr = np.linspace(0, 1, 100)\n",
    "\n",
    "fig, ax = plt.subplots(figsize=(15,8))\n",
    "for i, (train, test) in enumerate(cv.split(X_train, y_train)):\n",
    "    pipe.fit(X_train[train], y_train[train])\n",
    "    viz = plot_roc_curve(pipe, X_train[test], y_train[test],\n",
    "                         name='ROC fold {}'.format(i),\n",
    "                         alpha=0.3, lw=1, ax=ax)\n",
    "    interp_tpr = np.interp(mean_fpr, viz.fpr, viz.tpr)\n",
    "    interp_tpr[0] = 0.0\n",
    "    tprs.append(interp_tpr)\n",
    "    aucs.append(viz.roc_auc)\n",
    "\n",
    "ax.plot([0, 1], [0, 1], linestyle='--', lw=2, color='r',\n",
    "        label='Chance', alpha=.8)\n",
    "\n",
    "mean_tpr = np.mean(tprs, axis=0)\n",
    "mean_tpr[-1] = 1.0\n",
    "mean_auc = auc(mean_fpr, mean_tpr)\n",
    "std_auc = np.std(aucs)\n",
    "ax.plot(mean_fpr, mean_tpr, color='b',\n",
    "        label=r'Mean ROC (AUC = %0.2f $\\pm$ %0.2f)' % (mean_auc, std_auc),\n",
    "        lw=2, alpha=.8)\n",
    "\n",
    "std_tpr = np.std(tprs, axis=0)\n",
    "tprs_upper = np.minimum(mean_tpr + std_tpr, 1)\n",
    "tprs_lower = np.maximum(mean_tpr - std_tpr, 0)\n",
    "ax.fill_between(mean_fpr, tprs_lower, tprs_upper, color='grey', alpha=.2,\n",
    "                label=r'$\\pm$ 1 std. dev.')\n",
    "\n",
    "ax.set(xlim=[-0.05, 1.05], ylim=[-0.05, 1.05],\n",
    "       title=\"Receiver operating characteristic\")\n",
    "ax.legend(loc=\"lower right\")\n",
    "plt.show()"
   ]
  },
  {
   "cell_type": "markdown",
   "metadata": {},
   "source": [
    "**We will use decision-tree based machine learning algorithms such as RandomForestClassifier or XGBoostClassifier to create a predictive model. But this time, we will put other variables too such as LENGTH, and TIME into the algorithm.**"
   ]
  },
  {
   "cell_type": "markdown",
   "metadata": {},
   "source": [
    "*We have created dataframe that contains array form of tf-idf. Now we'll concatinate that dataframe with psy dataframe.*"
   ]
  },
  {
   "cell_type": "code",
   "execution_count": 69,
   "metadata": {},
   "outputs": [],
   "source": [
    "psy2 = psy.copy()"
   ]
  },
  {
   "cell_type": "code",
   "execution_count": 70,
   "metadata": {},
   "outputs": [
    {
     "data": {
      "text/html": [
       "<div>\n",
       "<style scoped>\n",
       "    .dataframe tbody tr th:only-of-type {\n",
       "        vertical-align: middle;\n",
       "    }\n",
       "\n",
       "    .dataframe tbody tr th {\n",
       "        vertical-align: top;\n",
       "    }\n",
       "\n",
       "    .dataframe thead th {\n",
       "        text-align: right;\n",
       "    }\n",
       "</style>\n",
       "<table border=\"1\" class=\"dataframe\">\n",
       "  <thead>\n",
       "    <tr style=\"text-align: right;\">\n",
       "      <th></th>\n",
       "      <th>COMMENT_ID</th>\n",
       "      <th>AUTHOR</th>\n",
       "      <th>DATE</th>\n",
       "      <th>CONTENT</th>\n",
       "      <th>CLASS</th>\n",
       "      <th>CON_LEN</th>\n",
       "      <th>AUT_LEN</th>\n",
       "      <th>TIME</th>\n",
       "      <th>LABEL</th>\n",
       "      <th>0</th>\n",
       "      <th>...</th>\n",
       "      <th>1449</th>\n",
       "      <th>1450</th>\n",
       "      <th>1451</th>\n",
       "      <th>1452</th>\n",
       "      <th>1453</th>\n",
       "      <th>1454</th>\n",
       "      <th>1455</th>\n",
       "      <th>1456</th>\n",
       "      <th>1457</th>\n",
       "      <th>1458</th>\n",
       "    </tr>\n",
       "  </thead>\n",
       "  <tbody>\n",
       "    <tr>\n",
       "      <th>0</th>\n",
       "      <td>LZQPQhLyRh80UYxNuaDWhIGQYNQ96IuCg-AYWqNPjpU</td>\n",
       "      <td>Julius NM</td>\n",
       "      <td>2013-11-07 06:20:48</td>\n",
       "      <td>Huh, anyway check out this you[tube] channel: ...</td>\n",
       "      <td>1</td>\n",
       "      <td>56</td>\n",
       "      <td>9</td>\n",
       "      <td>AM</td>\n",
       "      <td>spam</td>\n",
       "      <td>0.0</td>\n",
       "      <td>...</td>\n",
       "      <td>0.0</td>\n",
       "      <td>0.000000</td>\n",
       "      <td>0.0</td>\n",
       "      <td>0.0</td>\n",
       "      <td>0.0</td>\n",
       "      <td>0.0</td>\n",
       "      <td>0.0</td>\n",
       "      <td>0.0</td>\n",
       "      <td>0.0</td>\n",
       "      <td>0.0</td>\n",
       "    </tr>\n",
       "    <tr>\n",
       "      <th>1</th>\n",
       "      <td>LZQPQhLyRh_C2cTtd9MvFRJedxydaVW-2sNg5Diuo4A</td>\n",
       "      <td>adam riyati</td>\n",
       "      <td>2013-11-07 12:37:15</td>\n",
       "      <td>Hey guys check out my new channel and our firs...</td>\n",
       "      <td>1</td>\n",
       "      <td>166</td>\n",
       "      <td>11</td>\n",
       "      <td>PM</td>\n",
       "      <td>spam</td>\n",
       "      <td>0.0</td>\n",
       "      <td>...</td>\n",
       "      <td>0.0</td>\n",
       "      <td>0.000000</td>\n",
       "      <td>0.0</td>\n",
       "      <td>0.0</td>\n",
       "      <td>0.0</td>\n",
       "      <td>0.0</td>\n",
       "      <td>0.0</td>\n",
       "      <td>0.0</td>\n",
       "      <td>0.0</td>\n",
       "      <td>0.0</td>\n",
       "    </tr>\n",
       "    <tr>\n",
       "      <th>2</th>\n",
       "      <td>LZQPQhLyRh9MSZYnf8djyk0gEF9BHDPYrrK-qCczIY8</td>\n",
       "      <td>Evgeny Murashkin</td>\n",
       "      <td>2013-11-08 17:34:21</td>\n",
       "      <td>just for test I have to say murdev.com</td>\n",
       "      <td>1</td>\n",
       "      <td>38</td>\n",
       "      <td>16</td>\n",
       "      <td>PM</td>\n",
       "      <td>spam</td>\n",
       "      <td>0.0</td>\n",
       "      <td>...</td>\n",
       "      <td>0.0</td>\n",
       "      <td>0.000000</td>\n",
       "      <td>0.0</td>\n",
       "      <td>0.0</td>\n",
       "      <td>0.0</td>\n",
       "      <td>0.0</td>\n",
       "      <td>0.0</td>\n",
       "      <td>0.0</td>\n",
       "      <td>0.0</td>\n",
       "      <td>0.0</td>\n",
       "    </tr>\n",
       "    <tr>\n",
       "      <th>3</th>\n",
       "      <td>z13jhp0bxqncu512g22wvzkasxmvvzjaz04</td>\n",
       "      <td>ElNino Melendez</td>\n",
       "      <td>2013-11-09 08:28:43</td>\n",
       "      <td>me shaking my sexy ass on my channel enjoy ^_^ ﻿</td>\n",
       "      <td>1</td>\n",
       "      <td>48</td>\n",
       "      <td>15</td>\n",
       "      <td>AM</td>\n",
       "      <td>spam</td>\n",
       "      <td>0.0</td>\n",
       "      <td>...</td>\n",
       "      <td>0.0</td>\n",
       "      <td>0.217070</td>\n",
       "      <td>0.0</td>\n",
       "      <td>0.0</td>\n",
       "      <td>0.0</td>\n",
       "      <td>0.0</td>\n",
       "      <td>0.0</td>\n",
       "      <td>0.0</td>\n",
       "      <td>0.0</td>\n",
       "      <td>0.0</td>\n",
       "    </tr>\n",
       "    <tr>\n",
       "      <th>4</th>\n",
       "      <td>z13fwbwp1oujthgqj04chlngpvzmtt3r3dw</td>\n",
       "      <td>GsMega</td>\n",
       "      <td>2013-11-10 16:05:38</td>\n",
       "      <td>watch?v=vtaRGgvGtWQ   Check this out .﻿</td>\n",
       "      <td>1</td>\n",
       "      <td>39</td>\n",
       "      <td>6</td>\n",
       "      <td>PM</td>\n",
       "      <td>spam</td>\n",
       "      <td>0.0</td>\n",
       "      <td>...</td>\n",
       "      <td>0.0</td>\n",
       "      <td>0.336561</td>\n",
       "      <td>0.0</td>\n",
       "      <td>0.0</td>\n",
       "      <td>0.0</td>\n",
       "      <td>0.0</td>\n",
       "      <td>0.0</td>\n",
       "      <td>0.0</td>\n",
       "      <td>0.0</td>\n",
       "      <td>0.0</td>\n",
       "    </tr>\n",
       "    <tr>\n",
       "      <th>...</th>\n",
       "      <td>...</td>\n",
       "      <td>...</td>\n",
       "      <td>...</td>\n",
       "      <td>...</td>\n",
       "      <td>...</td>\n",
       "      <td>...</td>\n",
       "      <td>...</td>\n",
       "      <td>...</td>\n",
       "      <td>...</td>\n",
       "      <td>...</td>\n",
       "      <td>...</td>\n",
       "      <td>...</td>\n",
       "      <td>...</td>\n",
       "      <td>...</td>\n",
       "      <td>...</td>\n",
       "      <td>...</td>\n",
       "      <td>...</td>\n",
       "      <td>...</td>\n",
       "      <td>...</td>\n",
       "      <td>...</td>\n",
       "      <td>...</td>\n",
       "    </tr>\n",
       "    <tr>\n",
       "      <th>345</th>\n",
       "      <td>z13th1q4yzihf1bll23qxzpjeujterydj</td>\n",
       "      <td>Carmen Racasanu</td>\n",
       "      <td>2014-11-14 13:27:52</td>\n",
       "      <td>How can this have 2 billion views when there's...</td>\n",
       "      <td>0</td>\n",
       "      <td>74</td>\n",
       "      <td>15</td>\n",
       "      <td>PM</td>\n",
       "      <td>not spam</td>\n",
       "      <td>0.0</td>\n",
       "      <td>...</td>\n",
       "      <td>0.0</td>\n",
       "      <td>0.000000</td>\n",
       "      <td>0.0</td>\n",
       "      <td>0.0</td>\n",
       "      <td>0.0</td>\n",
       "      <td>0.0</td>\n",
       "      <td>0.0</td>\n",
       "      <td>0.0</td>\n",
       "      <td>0.0</td>\n",
       "      <td>0.0</td>\n",
       "    </tr>\n",
       "    <tr>\n",
       "      <th>346</th>\n",
       "      <td>z13fcn1wfpb5e51xe04chdxakpzgchyaxzo0k</td>\n",
       "      <td>diego mogrovejo</td>\n",
       "      <td>2014-11-14 13:28:08</td>\n",
       "      <td>I don't now why I'm watching this in 2014﻿</td>\n",
       "      <td>0</td>\n",
       "      <td>42</td>\n",
       "      <td>15</td>\n",
       "      <td>PM</td>\n",
       "      <td>not spam</td>\n",
       "      <td>0.0</td>\n",
       "      <td>...</td>\n",
       "      <td>0.0</td>\n",
       "      <td>0.000000</td>\n",
       "      <td>0.0</td>\n",
       "      <td>0.0</td>\n",
       "      <td>0.0</td>\n",
       "      <td>0.0</td>\n",
       "      <td>0.0</td>\n",
       "      <td>0.0</td>\n",
       "      <td>0.0</td>\n",
       "      <td>0.0</td>\n",
       "    </tr>\n",
       "    <tr>\n",
       "      <th>347</th>\n",
       "      <td>z130zd5b3titudkoe04ccbeohojxuzppvbg</td>\n",
       "      <td>BlueYetiPlayz -Call Of Duty and More</td>\n",
       "      <td>2015-05-23 13:04:32</td>\n",
       "      <td>subscribe to me for call of duty vids and give...</td>\n",
       "      <td>1</td>\n",
       "      <td>67</td>\n",
       "      <td>36</td>\n",
       "      <td>PM</td>\n",
       "      <td>spam</td>\n",
       "      <td>0.0</td>\n",
       "      <td>...</td>\n",
       "      <td>0.0</td>\n",
       "      <td>0.000000</td>\n",
       "      <td>0.0</td>\n",
       "      <td>0.0</td>\n",
       "      <td>0.0</td>\n",
       "      <td>0.0</td>\n",
       "      <td>0.0</td>\n",
       "      <td>0.0</td>\n",
       "      <td>0.0</td>\n",
       "      <td>0.0</td>\n",
       "    </tr>\n",
       "    <tr>\n",
       "      <th>348</th>\n",
       "      <td>z12he50arvrkivl5u04cctawgxzkjfsjcc4</td>\n",
       "      <td>Photo Editor</td>\n",
       "      <td>2015-06-05 14:14:48</td>\n",
       "      <td>hi guys please my android photo editor downloa...</td>\n",
       "      <td>1</td>\n",
       "      <td>128</td>\n",
       "      <td>12</td>\n",
       "      <td>PM</td>\n",
       "      <td>spam</td>\n",
       "      <td>0.0</td>\n",
       "      <td>...</td>\n",
       "      <td>0.0</td>\n",
       "      <td>0.000000</td>\n",
       "      <td>0.0</td>\n",
       "      <td>0.0</td>\n",
       "      <td>0.0</td>\n",
       "      <td>0.0</td>\n",
       "      <td>0.0</td>\n",
       "      <td>0.0</td>\n",
       "      <td>0.0</td>\n",
       "      <td>0.0</td>\n",
       "    </tr>\n",
       "    <tr>\n",
       "      <th>349</th>\n",
       "      <td>z13vhvu54u3ewpp5h04ccb4zuoardrmjlyk0k</td>\n",
       "      <td>Ray Benich</td>\n",
       "      <td>2015-06-05 18:05:16</td>\n",
       "      <td>The first billion viewed this because they tho...</td>\n",
       "      <td>0</td>\n",
       "      <td>150</td>\n",
       "      <td>10</td>\n",
       "      <td>PM</td>\n",
       "      <td>not spam</td>\n",
       "      <td>0.0</td>\n",
       "      <td>...</td>\n",
       "      <td>0.0</td>\n",
       "      <td>0.000000</td>\n",
       "      <td>0.0</td>\n",
       "      <td>0.0</td>\n",
       "      <td>0.0</td>\n",
       "      <td>0.0</td>\n",
       "      <td>0.0</td>\n",
       "      <td>0.0</td>\n",
       "      <td>0.0</td>\n",
       "      <td>0.0</td>\n",
       "    </tr>\n",
       "  </tbody>\n",
       "</table>\n",
       "<p>350 rows × 1468 columns</p>\n",
       "</div>"
      ],
      "text/plain": [
       "                                      COMMENT_ID  \\\n",
       "0    LZQPQhLyRh80UYxNuaDWhIGQYNQ96IuCg-AYWqNPjpU   \n",
       "1    LZQPQhLyRh_C2cTtd9MvFRJedxydaVW-2sNg5Diuo4A   \n",
       "2    LZQPQhLyRh9MSZYnf8djyk0gEF9BHDPYrrK-qCczIY8   \n",
       "3            z13jhp0bxqncu512g22wvzkasxmvvzjaz04   \n",
       "4            z13fwbwp1oujthgqj04chlngpvzmtt3r3dw   \n",
       "..                                           ...   \n",
       "345            z13th1q4yzihf1bll23qxzpjeujterydj   \n",
       "346        z13fcn1wfpb5e51xe04chdxakpzgchyaxzo0k   \n",
       "347          z130zd5b3titudkoe04ccbeohojxuzppvbg   \n",
       "348          z12he50arvrkivl5u04cctawgxzkjfsjcc4   \n",
       "349        z13vhvu54u3ewpp5h04ccb4zuoardrmjlyk0k   \n",
       "\n",
       "                                   AUTHOR                DATE  \\\n",
       "0                               Julius NM 2013-11-07 06:20:48   \n",
       "1                             adam riyati 2013-11-07 12:37:15   \n",
       "2                        Evgeny Murashkin 2013-11-08 17:34:21   \n",
       "3                         ElNino Melendez 2013-11-09 08:28:43   \n",
       "4                                  GsMega 2013-11-10 16:05:38   \n",
       "..                                    ...                 ...   \n",
       "345                       Carmen Racasanu 2014-11-14 13:27:52   \n",
       "346                       diego mogrovejo 2014-11-14 13:28:08   \n",
       "347  BlueYetiPlayz -Call Of Duty and More 2015-05-23 13:04:32   \n",
       "348                          Photo Editor 2015-06-05 14:14:48   \n",
       "349                            Ray Benich 2015-06-05 18:05:16   \n",
       "\n",
       "                                               CONTENT  CLASS  CON_LEN  \\\n",
       "0    Huh, anyway check out this you[tube] channel: ...      1       56   \n",
       "1    Hey guys check out my new channel and our firs...      1      166   \n",
       "2               just for test I have to say murdev.com      1       38   \n",
       "3     me shaking my sexy ass on my channel enjoy ^_^ ﻿      1       48   \n",
       "4              watch?v=vtaRGgvGtWQ   Check this out .﻿      1       39   \n",
       "..                                                 ...    ...      ...   \n",
       "345  How can this have 2 billion views when there's...      0       74   \n",
       "346         I don't now why I'm watching this in 2014﻿      0       42   \n",
       "347  subscribe to me for call of duty vids and give...      1       67   \n",
       "348  hi guys please my android photo editor downloa...      1      128   \n",
       "349  The first billion viewed this because they tho...      0      150   \n",
       "\n",
       "     AUT_LEN TIME     LABEL    0  ...  1449      1450  1451  1452  1453  1454  \\\n",
       "0          9   AM      spam  0.0  ...   0.0  0.000000   0.0   0.0   0.0   0.0   \n",
       "1         11   PM      spam  0.0  ...   0.0  0.000000   0.0   0.0   0.0   0.0   \n",
       "2         16   PM      spam  0.0  ...   0.0  0.000000   0.0   0.0   0.0   0.0   \n",
       "3         15   AM      spam  0.0  ...   0.0  0.217070   0.0   0.0   0.0   0.0   \n",
       "4          6   PM      spam  0.0  ...   0.0  0.336561   0.0   0.0   0.0   0.0   \n",
       "..       ...  ...       ...  ...  ...   ...       ...   ...   ...   ...   ...   \n",
       "345       15   PM  not spam  0.0  ...   0.0  0.000000   0.0   0.0   0.0   0.0   \n",
       "346       15   PM  not spam  0.0  ...   0.0  0.000000   0.0   0.0   0.0   0.0   \n",
       "347       36   PM      spam  0.0  ...   0.0  0.000000   0.0   0.0   0.0   0.0   \n",
       "348       12   PM      spam  0.0  ...   0.0  0.000000   0.0   0.0   0.0   0.0   \n",
       "349       10   PM  not spam  0.0  ...   0.0  0.000000   0.0   0.0   0.0   0.0   \n",
       "\n",
       "     1455  1456  1457  1458  \n",
       "0     0.0   0.0   0.0   0.0  \n",
       "1     0.0   0.0   0.0   0.0  \n",
       "2     0.0   0.0   0.0   0.0  \n",
       "3     0.0   0.0   0.0   0.0  \n",
       "4     0.0   0.0   0.0   0.0  \n",
       "..    ...   ...   ...   ...  \n",
       "345   0.0   0.0   0.0   0.0  \n",
       "346   0.0   0.0   0.0   0.0  \n",
       "347   0.0   0.0   0.0   0.0  \n",
       "348   0.0   0.0   0.0   0.0  \n",
       "349   0.0   0.0   0.0   0.0  \n",
       "\n",
       "[350 rows x 1468 columns]"
      ]
     },
     "execution_count": 70,
     "metadata": {},
     "output_type": "execute_result"
    }
   ],
   "source": [
    "psy2 = pd.concat([psy2, tfidf_df], axis=1)\n",
    "psy2"
   ]
  },
  {
   "cell_type": "markdown",
   "metadata": {},
   "source": [
    "*The TIME variable still contains string data. We will convert it to integer, by changing the AM or PM values to 0 or 1 values.*"
   ]
  },
  {
   "cell_type": "code",
   "execution_count": 71,
   "metadata": {},
   "outputs": [
    {
     "name": "stdout",
     "output_type": "stream",
     "text": [
      "<class 'pandas.core.frame.DataFrame'>\n",
      "RangeIndex: 350 entries, 0 to 349\n",
      "Data columns (total 9 columns):\n",
      " #   Column      Non-Null Count  Dtype         \n",
      "---  ------      --------------  -----         \n",
      " 0   COMMENT_ID  350 non-null    object        \n",
      " 1   AUTHOR      350 non-null    object        \n",
      " 2   DATE        350 non-null    datetime64[ns]\n",
      " 3   CONTENT     350 non-null    object        \n",
      " 4   CLASS       350 non-null    int64         \n",
      " 5   CON_LEN     350 non-null    int64         \n",
      " 6   AUT_LEN     350 non-null    int64         \n",
      " 7   TIME        350 non-null    object        \n",
      " 8   LABEL       350 non-null    object        \n",
      "dtypes: datetime64[ns](1), int64(3), object(5)\n",
      "memory usage: 24.7+ KB\n"
     ]
    }
   ],
   "source": [
    "psy2.iloc[:,:9].info()"
   ]
  },
  {
   "cell_type": "code",
   "execution_count": 72,
   "metadata": {},
   "outputs": [
    {
     "data": {
      "text/html": [
       "<div>\n",
       "<style scoped>\n",
       "    .dataframe tbody tr th:only-of-type {\n",
       "        vertical-align: middle;\n",
       "    }\n",
       "\n",
       "    .dataframe tbody tr th {\n",
       "        vertical-align: top;\n",
       "    }\n",
       "\n",
       "    .dataframe thead th {\n",
       "        text-align: right;\n",
       "    }\n",
       "</style>\n",
       "<table border=\"1\" class=\"dataframe\">\n",
       "  <thead>\n",
       "    <tr style=\"text-align: right;\">\n",
       "      <th></th>\n",
       "      <th>time_PM</th>\n",
       "    </tr>\n",
       "  </thead>\n",
       "  <tbody>\n",
       "    <tr>\n",
       "      <th>0</th>\n",
       "      <td>0</td>\n",
       "    </tr>\n",
       "    <tr>\n",
       "      <th>1</th>\n",
       "      <td>1</td>\n",
       "    </tr>\n",
       "    <tr>\n",
       "      <th>2</th>\n",
       "      <td>1</td>\n",
       "    </tr>\n",
       "    <tr>\n",
       "      <th>3</th>\n",
       "      <td>0</td>\n",
       "    </tr>\n",
       "    <tr>\n",
       "      <th>4</th>\n",
       "      <td>1</td>\n",
       "    </tr>\n",
       "    <tr>\n",
       "      <th>...</th>\n",
       "      <td>...</td>\n",
       "    </tr>\n",
       "    <tr>\n",
       "      <th>345</th>\n",
       "      <td>1</td>\n",
       "    </tr>\n",
       "    <tr>\n",
       "      <th>346</th>\n",
       "      <td>1</td>\n",
       "    </tr>\n",
       "    <tr>\n",
       "      <th>347</th>\n",
       "      <td>1</td>\n",
       "    </tr>\n",
       "    <tr>\n",
       "      <th>348</th>\n",
       "      <td>1</td>\n",
       "    </tr>\n",
       "    <tr>\n",
       "      <th>349</th>\n",
       "      <td>1</td>\n",
       "    </tr>\n",
       "  </tbody>\n",
       "</table>\n",
       "<p>350 rows × 1 columns</p>\n",
       "</div>"
      ],
      "text/plain": [
       "     time_PM\n",
       "0          0\n",
       "1          1\n",
       "2          1\n",
       "3          0\n",
       "4          1\n",
       "..       ...\n",
       "345        1\n",
       "346        1\n",
       "347        1\n",
       "348        1\n",
       "349        1\n",
       "\n",
       "[350 rows x 1 columns]"
      ]
     },
     "execution_count": 72,
     "metadata": {},
     "output_type": "execute_result"
    }
   ],
   "source": [
    "time = pd.get_dummies(psy2['TIME'], prefix='time', drop_first=True)\n",
    "time"
   ]
  },
  {
   "cell_type": "code",
   "execution_count": 73,
   "metadata": {},
   "outputs": [
    {
     "data": {
      "text/html": [
       "<div>\n",
       "<style scoped>\n",
       "    .dataframe tbody tr th:only-of-type {\n",
       "        vertical-align: middle;\n",
       "    }\n",
       "\n",
       "    .dataframe tbody tr th {\n",
       "        vertical-align: top;\n",
       "    }\n",
       "\n",
       "    .dataframe thead th {\n",
       "        text-align: right;\n",
       "    }\n",
       "</style>\n",
       "<table border=\"1\" class=\"dataframe\">\n",
       "  <thead>\n",
       "    <tr style=\"text-align: right;\">\n",
       "      <th></th>\n",
       "      <th>COMMENT_ID</th>\n",
       "      <th>AUTHOR</th>\n",
       "      <th>DATE</th>\n",
       "      <th>CONTENT</th>\n",
       "      <th>CLASS</th>\n",
       "      <th>CON_LEN</th>\n",
       "      <th>AUT_LEN</th>\n",
       "      <th>TIME</th>\n",
       "      <th>LABEL</th>\n",
       "      <th>0</th>\n",
       "      <th>...</th>\n",
       "      <th>1449</th>\n",
       "      <th>1450</th>\n",
       "      <th>1451</th>\n",
       "      <th>1452</th>\n",
       "      <th>1453</th>\n",
       "      <th>1454</th>\n",
       "      <th>1455</th>\n",
       "      <th>1456</th>\n",
       "      <th>1457</th>\n",
       "      <th>1458</th>\n",
       "    </tr>\n",
       "  </thead>\n",
       "  <tbody>\n",
       "    <tr>\n",
       "      <th>0</th>\n",
       "      <td>LZQPQhLyRh80UYxNuaDWhIGQYNQ96IuCg-AYWqNPjpU</td>\n",
       "      <td>Julius NM</td>\n",
       "      <td>2013-11-07 06:20:48</td>\n",
       "      <td>Huh, anyway check out this you[tube] channel: ...</td>\n",
       "      <td>1</td>\n",
       "      <td>56</td>\n",
       "      <td>9</td>\n",
       "      <td>0</td>\n",
       "      <td>spam</td>\n",
       "      <td>0.0</td>\n",
       "      <td>...</td>\n",
       "      <td>0.0</td>\n",
       "      <td>0.000000</td>\n",
       "      <td>0.0</td>\n",
       "      <td>0.0</td>\n",
       "      <td>0.0</td>\n",
       "      <td>0.0</td>\n",
       "      <td>0.0</td>\n",
       "      <td>0.0</td>\n",
       "      <td>0.0</td>\n",
       "      <td>0.0</td>\n",
       "    </tr>\n",
       "    <tr>\n",
       "      <th>1</th>\n",
       "      <td>LZQPQhLyRh_C2cTtd9MvFRJedxydaVW-2sNg5Diuo4A</td>\n",
       "      <td>adam riyati</td>\n",
       "      <td>2013-11-07 12:37:15</td>\n",
       "      <td>Hey guys check out my new channel and our firs...</td>\n",
       "      <td>1</td>\n",
       "      <td>166</td>\n",
       "      <td>11</td>\n",
       "      <td>1</td>\n",
       "      <td>spam</td>\n",
       "      <td>0.0</td>\n",
       "      <td>...</td>\n",
       "      <td>0.0</td>\n",
       "      <td>0.000000</td>\n",
       "      <td>0.0</td>\n",
       "      <td>0.0</td>\n",
       "      <td>0.0</td>\n",
       "      <td>0.0</td>\n",
       "      <td>0.0</td>\n",
       "      <td>0.0</td>\n",
       "      <td>0.0</td>\n",
       "      <td>0.0</td>\n",
       "    </tr>\n",
       "    <tr>\n",
       "      <th>2</th>\n",
       "      <td>LZQPQhLyRh9MSZYnf8djyk0gEF9BHDPYrrK-qCczIY8</td>\n",
       "      <td>Evgeny Murashkin</td>\n",
       "      <td>2013-11-08 17:34:21</td>\n",
       "      <td>just for test I have to say murdev.com</td>\n",
       "      <td>1</td>\n",
       "      <td>38</td>\n",
       "      <td>16</td>\n",
       "      <td>1</td>\n",
       "      <td>spam</td>\n",
       "      <td>0.0</td>\n",
       "      <td>...</td>\n",
       "      <td>0.0</td>\n",
       "      <td>0.000000</td>\n",
       "      <td>0.0</td>\n",
       "      <td>0.0</td>\n",
       "      <td>0.0</td>\n",
       "      <td>0.0</td>\n",
       "      <td>0.0</td>\n",
       "      <td>0.0</td>\n",
       "      <td>0.0</td>\n",
       "      <td>0.0</td>\n",
       "    </tr>\n",
       "    <tr>\n",
       "      <th>3</th>\n",
       "      <td>z13jhp0bxqncu512g22wvzkasxmvvzjaz04</td>\n",
       "      <td>ElNino Melendez</td>\n",
       "      <td>2013-11-09 08:28:43</td>\n",
       "      <td>me shaking my sexy ass on my channel enjoy ^_^ ﻿</td>\n",
       "      <td>1</td>\n",
       "      <td>48</td>\n",
       "      <td>15</td>\n",
       "      <td>0</td>\n",
       "      <td>spam</td>\n",
       "      <td>0.0</td>\n",
       "      <td>...</td>\n",
       "      <td>0.0</td>\n",
       "      <td>0.217070</td>\n",
       "      <td>0.0</td>\n",
       "      <td>0.0</td>\n",
       "      <td>0.0</td>\n",
       "      <td>0.0</td>\n",
       "      <td>0.0</td>\n",
       "      <td>0.0</td>\n",
       "      <td>0.0</td>\n",
       "      <td>0.0</td>\n",
       "    </tr>\n",
       "    <tr>\n",
       "      <th>4</th>\n",
       "      <td>z13fwbwp1oujthgqj04chlngpvzmtt3r3dw</td>\n",
       "      <td>GsMega</td>\n",
       "      <td>2013-11-10 16:05:38</td>\n",
       "      <td>watch?v=vtaRGgvGtWQ   Check this out .﻿</td>\n",
       "      <td>1</td>\n",
       "      <td>39</td>\n",
       "      <td>6</td>\n",
       "      <td>1</td>\n",
       "      <td>spam</td>\n",
       "      <td>0.0</td>\n",
       "      <td>...</td>\n",
       "      <td>0.0</td>\n",
       "      <td>0.336561</td>\n",
       "      <td>0.0</td>\n",
       "      <td>0.0</td>\n",
       "      <td>0.0</td>\n",
       "      <td>0.0</td>\n",
       "      <td>0.0</td>\n",
       "      <td>0.0</td>\n",
       "      <td>0.0</td>\n",
       "      <td>0.0</td>\n",
       "    </tr>\n",
       "  </tbody>\n",
       "</table>\n",
       "<p>5 rows × 1468 columns</p>\n",
       "</div>"
      ],
      "text/plain": [
       "                                    COMMENT_ID            AUTHOR  \\\n",
       "0  LZQPQhLyRh80UYxNuaDWhIGQYNQ96IuCg-AYWqNPjpU         Julius NM   \n",
       "1  LZQPQhLyRh_C2cTtd9MvFRJedxydaVW-2sNg5Diuo4A       adam riyati   \n",
       "2  LZQPQhLyRh9MSZYnf8djyk0gEF9BHDPYrrK-qCczIY8  Evgeny Murashkin   \n",
       "3          z13jhp0bxqncu512g22wvzkasxmvvzjaz04   ElNino Melendez   \n",
       "4          z13fwbwp1oujthgqj04chlngpvzmtt3r3dw            GsMega   \n",
       "\n",
       "                 DATE                                            CONTENT  \\\n",
       "0 2013-11-07 06:20:48  Huh, anyway check out this you[tube] channel: ...   \n",
       "1 2013-11-07 12:37:15  Hey guys check out my new channel and our firs...   \n",
       "2 2013-11-08 17:34:21             just for test I have to say murdev.com   \n",
       "3 2013-11-09 08:28:43   me shaking my sexy ass on my channel enjoy ^_^ ﻿   \n",
       "4 2013-11-10 16:05:38            watch?v=vtaRGgvGtWQ   Check this out .﻿   \n",
       "\n",
       "   CLASS  CON_LEN  AUT_LEN  TIME LABEL    0  ...  1449      1450  1451  1452  \\\n",
       "0      1       56        9     0  spam  0.0  ...   0.0  0.000000   0.0   0.0   \n",
       "1      1      166       11     1  spam  0.0  ...   0.0  0.000000   0.0   0.0   \n",
       "2      1       38       16     1  spam  0.0  ...   0.0  0.000000   0.0   0.0   \n",
       "3      1       48       15     0  spam  0.0  ...   0.0  0.217070   0.0   0.0   \n",
       "4      1       39        6     1  spam  0.0  ...   0.0  0.336561   0.0   0.0   \n",
       "\n",
       "   1453  1454  1455  1456  1457  1458  \n",
       "0   0.0   0.0   0.0   0.0   0.0   0.0  \n",
       "1   0.0   0.0   0.0   0.0   0.0   0.0  \n",
       "2   0.0   0.0   0.0   0.0   0.0   0.0  \n",
       "3   0.0   0.0   0.0   0.0   0.0   0.0  \n",
       "4   0.0   0.0   0.0   0.0   0.0   0.0  \n",
       "\n",
       "[5 rows x 1468 columns]"
      ]
     },
     "execution_count": 73,
     "metadata": {},
     "output_type": "execute_result"
    }
   ],
   "source": [
    "psy2['TIME'] = time.values\n",
    "psy2.head()"
   ]
  },
  {
   "cell_type": "code",
   "execution_count": 74,
   "metadata": {},
   "outputs": [
    {
     "data": {
      "text/html": [
       "<div>\n",
       "<style scoped>\n",
       "    .dataframe tbody tr th:only-of-type {\n",
       "        vertical-align: middle;\n",
       "    }\n",
       "\n",
       "    .dataframe tbody tr th {\n",
       "        vertical-align: top;\n",
       "    }\n",
       "\n",
       "    .dataframe thead th {\n",
       "        text-align: right;\n",
       "    }\n",
       "</style>\n",
       "<table border=\"1\" class=\"dataframe\">\n",
       "  <thead>\n",
       "    <tr style=\"text-align: right;\">\n",
       "      <th></th>\n",
       "      <th>CLASS</th>\n",
       "      <th>CON_LEN</th>\n",
       "      <th>AUT_LEN</th>\n",
       "      <th>TIME</th>\n",
       "      <th>0</th>\n",
       "      <th>1</th>\n",
       "      <th>2</th>\n",
       "      <th>3</th>\n",
       "      <th>4</th>\n",
       "      <th>5</th>\n",
       "      <th>...</th>\n",
       "      <th>1449</th>\n",
       "      <th>1450</th>\n",
       "      <th>1451</th>\n",
       "      <th>1452</th>\n",
       "      <th>1453</th>\n",
       "      <th>1454</th>\n",
       "      <th>1455</th>\n",
       "      <th>1456</th>\n",
       "      <th>1457</th>\n",
       "      <th>1458</th>\n",
       "    </tr>\n",
       "  </thead>\n",
       "  <tbody>\n",
       "    <tr>\n",
       "      <th>0</th>\n",
       "      <td>1</td>\n",
       "      <td>56</td>\n",
       "      <td>9</td>\n",
       "      <td>0</td>\n",
       "      <td>0.0</td>\n",
       "      <td>0.0</td>\n",
       "      <td>0.0</td>\n",
       "      <td>0.0</td>\n",
       "      <td>0.0</td>\n",
       "      <td>0.0</td>\n",
       "      <td>...</td>\n",
       "      <td>0.0</td>\n",
       "      <td>0.000000</td>\n",
       "      <td>0.0</td>\n",
       "      <td>0.0</td>\n",
       "      <td>0.0</td>\n",
       "      <td>0.0</td>\n",
       "      <td>0.0</td>\n",
       "      <td>0.0</td>\n",
       "      <td>0.0</td>\n",
       "      <td>0.0</td>\n",
       "    </tr>\n",
       "    <tr>\n",
       "      <th>1</th>\n",
       "      <td>1</td>\n",
       "      <td>166</td>\n",
       "      <td>11</td>\n",
       "      <td>1</td>\n",
       "      <td>0.0</td>\n",
       "      <td>0.0</td>\n",
       "      <td>0.0</td>\n",
       "      <td>0.0</td>\n",
       "      <td>0.0</td>\n",
       "      <td>0.0</td>\n",
       "      <td>...</td>\n",
       "      <td>0.0</td>\n",
       "      <td>0.000000</td>\n",
       "      <td>0.0</td>\n",
       "      <td>0.0</td>\n",
       "      <td>0.0</td>\n",
       "      <td>0.0</td>\n",
       "      <td>0.0</td>\n",
       "      <td>0.0</td>\n",
       "      <td>0.0</td>\n",
       "      <td>0.0</td>\n",
       "    </tr>\n",
       "    <tr>\n",
       "      <th>2</th>\n",
       "      <td>1</td>\n",
       "      <td>38</td>\n",
       "      <td>16</td>\n",
       "      <td>1</td>\n",
       "      <td>0.0</td>\n",
       "      <td>0.0</td>\n",
       "      <td>0.0</td>\n",
       "      <td>0.0</td>\n",
       "      <td>0.0</td>\n",
       "      <td>0.0</td>\n",
       "      <td>...</td>\n",
       "      <td>0.0</td>\n",
       "      <td>0.000000</td>\n",
       "      <td>0.0</td>\n",
       "      <td>0.0</td>\n",
       "      <td>0.0</td>\n",
       "      <td>0.0</td>\n",
       "      <td>0.0</td>\n",
       "      <td>0.0</td>\n",
       "      <td>0.0</td>\n",
       "      <td>0.0</td>\n",
       "    </tr>\n",
       "    <tr>\n",
       "      <th>3</th>\n",
       "      <td>1</td>\n",
       "      <td>48</td>\n",
       "      <td>15</td>\n",
       "      <td>0</td>\n",
       "      <td>0.0</td>\n",
       "      <td>0.0</td>\n",
       "      <td>0.0</td>\n",
       "      <td>0.0</td>\n",
       "      <td>0.0</td>\n",
       "      <td>0.0</td>\n",
       "      <td>...</td>\n",
       "      <td>0.0</td>\n",
       "      <td>0.217070</td>\n",
       "      <td>0.0</td>\n",
       "      <td>0.0</td>\n",
       "      <td>0.0</td>\n",
       "      <td>0.0</td>\n",
       "      <td>0.0</td>\n",
       "      <td>0.0</td>\n",
       "      <td>0.0</td>\n",
       "      <td>0.0</td>\n",
       "    </tr>\n",
       "    <tr>\n",
       "      <th>4</th>\n",
       "      <td>1</td>\n",
       "      <td>39</td>\n",
       "      <td>6</td>\n",
       "      <td>1</td>\n",
       "      <td>0.0</td>\n",
       "      <td>0.0</td>\n",
       "      <td>0.0</td>\n",
       "      <td>0.0</td>\n",
       "      <td>0.0</td>\n",
       "      <td>0.0</td>\n",
       "      <td>...</td>\n",
       "      <td>0.0</td>\n",
       "      <td>0.336561</td>\n",
       "      <td>0.0</td>\n",
       "      <td>0.0</td>\n",
       "      <td>0.0</td>\n",
       "      <td>0.0</td>\n",
       "      <td>0.0</td>\n",
       "      <td>0.0</td>\n",
       "      <td>0.0</td>\n",
       "      <td>0.0</td>\n",
       "    </tr>\n",
       "  </tbody>\n",
       "</table>\n",
       "<p>5 rows × 1463 columns</p>\n",
       "</div>"
      ],
      "text/plain": [
       "   CLASS  CON_LEN  AUT_LEN  TIME    0    1    2    3    4    5  ...  1449  \\\n",
       "0      1       56        9     0  0.0  0.0  0.0  0.0  0.0  0.0  ...   0.0   \n",
       "1      1      166       11     1  0.0  0.0  0.0  0.0  0.0  0.0  ...   0.0   \n",
       "2      1       38       16     1  0.0  0.0  0.0  0.0  0.0  0.0  ...   0.0   \n",
       "3      1       48       15     0  0.0  0.0  0.0  0.0  0.0  0.0  ...   0.0   \n",
       "4      1       39        6     1  0.0  0.0  0.0  0.0  0.0  0.0  ...   0.0   \n",
       "\n",
       "       1450  1451  1452  1453  1454  1455  1456  1457  1458  \n",
       "0  0.000000   0.0   0.0   0.0   0.0   0.0   0.0   0.0   0.0  \n",
       "1  0.000000   0.0   0.0   0.0   0.0   0.0   0.0   0.0   0.0  \n",
       "2  0.000000   0.0   0.0   0.0   0.0   0.0   0.0   0.0   0.0  \n",
       "3  0.217070   0.0   0.0   0.0   0.0   0.0   0.0   0.0   0.0  \n",
       "4  0.336561   0.0   0.0   0.0   0.0   0.0   0.0   0.0   0.0  \n",
       "\n",
       "[5 rows x 1463 columns]"
      ]
     },
     "execution_count": 74,
     "metadata": {},
     "output_type": "execute_result"
    }
   ],
   "source": [
    "psy2.drop(['COMMENT_ID', 'AUTHOR', 'DATE', 'CONTENT', 'LABEL'], axis=1, inplace=True)\n",
    "psy2.head()"
   ]
  },
  {
   "cell_type": "code",
   "execution_count": 75,
   "metadata": {},
   "outputs": [],
   "source": [
    "X = psy2.drop(['CLASS'], axis=1)\n",
    "y = psy2['CLASS']"
   ]
  },
  {
   "cell_type": "code",
   "execution_count": 76,
   "metadata": {},
   "outputs": [],
   "source": [
    "X_train, X_test, y_train, y_test = train_test_split(X.values, y.values, test_size=0.2, random_state=421)"
   ]
  },
  {
   "cell_type": "markdown",
   "metadata": {},
   "source": [
    "*We can use GridSearchCV or RandomizedSearchCV as well for hyperparameter tuning. However, this is just a preliminary actions and this is done just to show the difference between using the Multinomial Naive-Bayes machine learning algorithm and decision tree machine learning algorithm (the XGBoost type).*"
   ]
  },
  {
   "cell_type": "code",
   "execution_count": 77,
   "metadata": {},
   "outputs": [
    {
     "data": {
      "text/plain": [
       "XGBClassifier(n_jobs=-1, random_state=421)"
      ]
     },
     "execution_count": 77,
     "metadata": {},
     "output_type": "execute_result"
    }
   ],
   "source": [
    "clf_xgb = xgb.XGBClassifier(n_estimators=100, n_jobs=-1, random_state=421)\n",
    "clf_xgb.fit(X_train, y_train, verbose=False, eval_metric='auc', early_stopping_rounds=10, eval_set=[(X_test, y_test)])"
   ]
  },
  {
   "cell_type": "code",
   "execution_count": 78,
   "metadata": {},
   "outputs": [],
   "source": [
    "predictions = clf_xgb.predict(X_test)"
   ]
  },
  {
   "cell_type": "code",
   "execution_count": 79,
   "metadata": {},
   "outputs": [
    {
     "name": "stdout",
     "output_type": "stream",
     "text": [
      "              precision    recall  f1-score   support\n",
      "\n",
      "           0       0.93      0.73      0.82        37\n",
      "           1       0.76      0.94      0.84        33\n",
      "\n",
      "    accuracy                           0.83        70\n",
      "   macro avg       0.84      0.83      0.83        70\n",
      "weighted avg       0.85      0.83      0.83        70\n",
      "\n"
     ]
    }
   ],
   "source": [
    "print(classification_report(y_test, predictions))"
   ]
  },
  {
   "cell_type": "code",
   "execution_count": 80,
   "metadata": {},
   "outputs": [
    {
     "data": {
      "image/png": "[encoded data removed]",
      "text/plain": [
       "<Figure size 432x288 with 2 Axes>"
      ]
     },
     "metadata": {
      "needs_background": "light"
     },
     "output_type": "display_data"
    }
   ],
   "source": [
    "plt.rcParams['axes.grid']=False\n",
    "plot_confusion_matrix(clf_xgb,\n",
    "                      X_test,\n",
    "                      y_test,\n",
    "                      values_format='d',\n",
    "                      display_labels=['Not Spam', 'Spam']) # 0: Not Spam, 1: Spam\n",
    "plt.rcParams['axes.grid']=True"
   ]
  },
  {
   "cell_type": "markdown",
   "metadata": {},
   "source": [
    "**The model doesn't seem to over-fit.**"
   ]
  },
  {
   "cell_type": "code",
   "execution_count": 81,
   "metadata": {},
   "outputs": [
    {
     "name": "stdout",
     "output_type": "stream",
     "text": [
      "No Skill: ROC AUC = 0.500\n",
      "Multinomial NB: ROC AUC = 0.912\n",
      "\n"
     ]
    },
    {
     "data": {
      "text/plain": [
       "<matplotlib.legend.Legend at 0x16c63be0a08>"
      ]
     },
     "execution_count": 81,
     "metadata": {},
     "output_type": "execute_result"
    },
    {
     "data": {
      "image/png": "[encoded data removed]",
      "text/plain": [
       "<Figure size 1080x576 with 1 Axes>"
      ]
     },
     "metadata": {
      "needs_background": "light"
     },
     "output_type": "display_data"
    }
   ],
   "source": [
    "plt.rcParams['axes.grid']=True\n",
    "\n",
    "clf_xgb_probs = clf_xgb.predict_proba(X_test)\n",
    "clf_xgb_probs = clf_xgb_probs[:,1]\n",
    "ns_probs = [0 for _ in range(len(y_test))]\n",
    "ns_auc = roc_auc_score(y_test, ns_probs)\n",
    "clf_xgb_auc = roc_auc_score(y_test, clf_xgb_probs)\n",
    "print('No Skill: ROC AUC = %.3f' % (ns_auc))\n",
    "print('Multinomial NB: ROC AUC = %.3f' % (clf_xgb_auc))\n",
    "print()\n",
    "ns_fpr, ns_tpr, _ = roc_curve(y_test, ns_probs)\n",
    "clf_xgb_fpr, clf_xgb_tpr, _ = roc_curve(y_test, clf_xgb_probs)\n",
    "# plot the roc curve for the model\n",
    "plt.figure(figsize=(15,8))\n",
    "plt.plot(ns_fpr, ns_tpr, linestyle='--', label='No Skill')\n",
    "plt.plot(clf_xgb_fpr, clf_xgb_tpr, marker='.', label='XGBoost Classifier')\n",
    "# axis labels\n",
    "plt.xlabel('False Positive Rate')\n",
    "plt.ylabel('True Positive Rate')\n",
    "# show the legend\n",
    "plt.legend()"
   ]
  },
  {
   "cell_type": "markdown",
   "metadata": {},
   "source": [
    "**The ROC_AUC's accross folds show that the model doesn't over-fit. However using all of those variables other than tf-idf doesn't seem to show model improvement. Perhaps it's better to use just the tf-idf, or maybe do Natural Language Processing method also on the Author names.**"
   ]
  },
  {
   "cell_type": "code",
   "execution_count": 82,
   "metadata": {},
   "outputs": [
    {
     "data": {
      "image/png": "[encoded data removed]",
      "text/plain": [
       "<Figure size 1080x576 with 1 Axes>"
      ]
     },
     "metadata": {
      "needs_background": "light"
     },
     "output_type": "display_data"
    }
   ],
   "source": [
    "model = clf_xgb\n",
    "cv = StratifiedKFold(n_splits=6)\n",
    "\n",
    "tprs = []\n",
    "aucs = []\n",
    "mean_fpr = np.linspace(0, 1, 100)\n",
    "\n",
    "fig, ax = plt.subplots(figsize=(15,8))\n",
    "for i, (train, test) in enumerate(cv.split(X_train, y_train)):\n",
    "    model.fit(X_train[train], y_train[train], verbose=False, eval_metric='auc', early_stopping_rounds=10, eval_set=[(X_test, y_test)])\n",
    "    viz = plot_roc_curve(model, X_train[test], y_train[test],\n",
    "                         name='ROC fold {}'.format(i),\n",
    "                         alpha=0.3, lw=1, ax=ax)\n",
    "    interp_tpr = np.interp(mean_fpr, viz.fpr, viz.tpr)\n",
    "    interp_tpr[0] = 0.0\n",
    "    tprs.append(interp_tpr)\n",
    "    aucs.append(viz.roc_auc)\n",
    "\n",
    "ax.plot([0, 1], [0, 1], linestyle='--', lw=2, color='r',\n",
    "        label='Chance', alpha=.8)\n",
    "\n",
    "mean_tpr = np.mean(tprs, axis=0)\n",
    "mean_tpr[-1] = 1.0\n",
    "mean_auc = auc(mean_fpr, mean_tpr)\n",
    "std_auc = np.std(aucs)\n",
    "ax.plot(mean_fpr, mean_tpr, color='b',\n",
    "        label=r'Mean ROC (AUC = %0.2f $\\pm$ %0.2f)' % (mean_auc, std_auc),\n",
    "        lw=2, alpha=.8)\n",
    "\n",
    "std_tpr = np.std(tprs, axis=0)\n",
    "tprs_upper = np.minimum(mean_tpr + std_tpr, 1)\n",
    "tprs_lower = np.maximum(mean_tpr - std_tpr, 0)\n",
    "ax.fill_between(mean_fpr, tprs_lower, tprs_upper, color='grey', alpha=.2,\n",
    "                label=r'$\\pm$ 1 std. dev.')\n",
    "\n",
    "ax.set(xlim=[-0.05, 1.05], ylim=[-0.05, 1.05],\n",
    "       title=\"Receiver operating characteristic\")\n",
    "ax.legend(loc=\"lower right\")\n",
    "plt.show()"
   ]
  },
  {
   "cell_type": "markdown",
   "metadata": {},
   "source": [
    "(end of notebook)."
   ]
  }
 ],
 "metadata": {
  "kernelspec": {
   "display_name": "Python 3",
   "language": "python",
   "name": "python3"
  },
  "language_info": {
   "codemirror_mode": {
    "name": "ipython",
    "version": 3
   },
   "file_extension": ".py",
   "mimetype": "text/x-python",
   "name": "python",
   "nbconvert_exporter": "python",
   "pygments_lexer": "ipython3",
   "version": "3.7.4"
  }
 },
 "nbformat": 4,
 "nbformat_minor": 2
}
