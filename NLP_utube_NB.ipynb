{
 "cells": [
  {
   "cell_type": "markdown",
   "metadata": {},
   "source": [
    "# Spam prediction using Class Vectorizer and TF-IDF as means for Natural Language Processing (NLP), and Naive-Bayes Machine Learning Classifier Method."
   ]
  },
  {
   "cell_type": "code",
   "execution_count": 100,
   "metadata": {},
   "outputs": [],
   "source": [
    "import pandas as pd\n",
    "import seaborn as sns\n",
    "import matplotlib.pyplot as plt\n",
    "%matplotlib inline"
   ]
  },
  {
   "cell_type": "markdown",
   "metadata": {},
   "source": [
    "**The data is downloaded from UCI (University of Calivornia, Irvine) Machine Learning Repository. The data is some YouTube viewers' comments in 2017 of a music video from South Korean pop artist, Psy. The comments can be classified as spam and not spam. Text of the spam comments most likely are not related to the video. Spam comments are mostly the way of users to lead viewers to visit the link of their website.**"
   ]
  },
  {
   "cell_type": "markdown",
   "metadata": {},
   "source": [
    "**Link for the dataset: https://archive.ics.uci.edu/ml/datasets/YouTube+Spam+Collection**"
   ]
  },
  {
   "cell_type": "markdown",
   "metadata": {},
   "source": [
    "### Exploratory Data Analysis"
   ]
  },
  {
   "cell_type": "code",
   "execution_count": 71,
   "metadata": {},
   "outputs": [],
   "source": [
    "psy = pd.read_csv('Youtube01-Psy.csv')"
   ]
  },
  {
   "cell_type": "code",
   "execution_count": 33,
   "metadata": {},
   "outputs": [
    {
     "data": {
      "text/html": [
       "<div>\n",
       "<style scoped>\n",
       "    .dataframe tbody tr th:only-of-type {\n",
       "        vertical-align: middle;\n",
       "    }\n",
       "\n",
       "    .dataframe tbody tr th {\n",
       "        vertical-align: top;\n",
       "    }\n",
       "\n",
       "    .dataframe thead th {\n",
       "        text-align: right;\n",
       "    }\n",
       "</style>\n",
       "<table border=\"1\" class=\"dataframe\">\n",
       "  <thead>\n",
       "    <tr style=\"text-align: right;\">\n",
       "      <th></th>\n",
       "      <th>COMMENT_ID</th>\n",
       "      <th>AUTHOR</th>\n",
       "      <th>DATE</th>\n",
       "      <th>CONTENT</th>\n",
       "      <th>CLASS</th>\n",
       "    </tr>\n",
       "  </thead>\n",
       "  <tbody>\n",
       "    <tr>\n",
       "      <td>0</td>\n",
       "      <td>LZQPQhLyRh80UYxNuaDWhIGQYNQ96IuCg-AYWqNPjpU</td>\n",
       "      <td>Julius NM</td>\n",
       "      <td>2013-11-07T06:20:48</td>\n",
       "      <td>Huh, anyway check out this you[tube] channel: ...</td>\n",
       "      <td>1</td>\n",
       "    </tr>\n",
       "    <tr>\n",
       "      <td>1</td>\n",
       "      <td>LZQPQhLyRh_C2cTtd9MvFRJedxydaVW-2sNg5Diuo4A</td>\n",
       "      <td>adam riyati</td>\n",
       "      <td>2013-11-07T12:37:15</td>\n",
       "      <td>Hey guys check out my new channel and our firs...</td>\n",
       "      <td>1</td>\n",
       "    </tr>\n",
       "    <tr>\n",
       "      <td>2</td>\n",
       "      <td>LZQPQhLyRh9MSZYnf8djyk0gEF9BHDPYrrK-qCczIY8</td>\n",
       "      <td>Evgeny Murashkin</td>\n",
       "      <td>2013-11-08T17:34:21</td>\n",
       "      <td>just for test I have to say murdev.com</td>\n",
       "      <td>1</td>\n",
       "    </tr>\n",
       "    <tr>\n",
       "      <td>3</td>\n",
       "      <td>z13jhp0bxqncu512g22wvzkasxmvvzjaz04</td>\n",
       "      <td>ElNino Melendez</td>\n",
       "      <td>2013-11-09T08:28:43</td>\n",
       "      <td>me shaking my sexy ass on my channel enjoy ^_^ ﻿</td>\n",
       "      <td>1</td>\n",
       "    </tr>\n",
       "    <tr>\n",
       "      <td>4</td>\n",
       "      <td>z13fwbwp1oujthgqj04chlngpvzmtt3r3dw</td>\n",
       "      <td>GsMega</td>\n",
       "      <td>2013-11-10T16:05:38</td>\n",
       "      <td>watch?v=vtaRGgvGtWQ   Check this out .﻿</td>\n",
       "      <td>1</td>\n",
       "    </tr>\n",
       "  </tbody>\n",
       "</table>\n",
       "</div>"
      ],
      "text/plain": [
       "                                    COMMENT_ID            AUTHOR  \\\n",
       "0  LZQPQhLyRh80UYxNuaDWhIGQYNQ96IuCg-AYWqNPjpU         Julius NM   \n",
       "1  LZQPQhLyRh_C2cTtd9MvFRJedxydaVW-2sNg5Diuo4A       adam riyati   \n",
       "2  LZQPQhLyRh9MSZYnf8djyk0gEF9BHDPYrrK-qCczIY8  Evgeny Murashkin   \n",
       "3          z13jhp0bxqncu512g22wvzkasxmvvzjaz04   ElNino Melendez   \n",
       "4          z13fwbwp1oujthgqj04chlngpvzmtt3r3dw            GsMega   \n",
       "\n",
       "                  DATE                                            CONTENT  \\\n",
       "0  2013-11-07T06:20:48  Huh, anyway check out this you[tube] channel: ...   \n",
       "1  2013-11-07T12:37:15  Hey guys check out my new channel and our firs...   \n",
       "2  2013-11-08T17:34:21             just for test I have to say murdev.com   \n",
       "3  2013-11-09T08:28:43   me shaking my sexy ass on my channel enjoy ^_^ ﻿   \n",
       "4  2013-11-10T16:05:38            watch?v=vtaRGgvGtWQ   Check this out .﻿   \n",
       "\n",
       "   CLASS  \n",
       "0      1  \n",
       "1      1  \n",
       "2      1  \n",
       "3      1  \n",
       "4      1  "
      ]
     },
     "execution_count": 33,
     "metadata": {},
     "output_type": "execute_result"
    }
   ],
   "source": [
    "psy.head()"
   ]
  },
  {
   "cell_type": "markdown",
   "metadata": {},
   "source": [
    "**CLASS shows the classification of the comment (['CONTENT']).**\n",
    "\n",
    "**Class 1 = spam.**\n",
    "\n",
    "**Class 0 = not spam.**"
   ]
  },
  {
   "cell_type": "code",
   "execution_count": 18,
   "metadata": {},
   "outputs": [
    {
     "name": "stdout",
     "output_type": "stream",
     "text": [
      "<class 'pandas.core.frame.DataFrame'>\n",
      "RangeIndex: 350 entries, 0 to 349\n",
      "Data columns (total 5 columns):\n",
      "COMMENT_ID    350 non-null object\n",
      "AUTHOR        350 non-null object\n",
      "DATE          350 non-null object\n",
      "CONTENT       350 non-null object\n",
      "CLASS         350 non-null int64\n",
      "dtypes: int64(1), object(4)\n",
      "memory usage: 13.8+ KB\n"
     ]
    }
   ],
   "source": [
    "psy.info()"
   ]
  },
  {
   "cell_type": "code",
   "execution_count": 19,
   "metadata": {},
   "outputs": [
    {
     "data": {
      "text/html": [
       "<div>\n",
       "<style scoped>\n",
       "    .dataframe tbody tr th:only-of-type {\n",
       "        vertical-align: middle;\n",
       "    }\n",
       "\n",
       "    .dataframe tbody tr th {\n",
       "        vertical-align: top;\n",
       "    }\n",
       "\n",
       "    .dataframe thead th {\n",
       "        text-align: right;\n",
       "    }\n",
       "</style>\n",
       "<table border=\"1\" class=\"dataframe\">\n",
       "  <thead>\n",
       "    <tr style=\"text-align: right;\">\n",
       "      <th></th>\n",
       "      <th>CLASS</th>\n",
       "    </tr>\n",
       "  </thead>\n",
       "  <tbody>\n",
       "    <tr>\n",
       "      <td>count</td>\n",
       "      <td>350.000000</td>\n",
       "    </tr>\n",
       "    <tr>\n",
       "      <td>mean</td>\n",
       "      <td>0.500000</td>\n",
       "    </tr>\n",
       "    <tr>\n",
       "      <td>std</td>\n",
       "      <td>0.500716</td>\n",
       "    </tr>\n",
       "    <tr>\n",
       "      <td>min</td>\n",
       "      <td>0.000000</td>\n",
       "    </tr>\n",
       "    <tr>\n",
       "      <td>25%</td>\n",
       "      <td>0.000000</td>\n",
       "    </tr>\n",
       "    <tr>\n",
       "      <td>50%</td>\n",
       "      <td>0.500000</td>\n",
       "    </tr>\n",
       "    <tr>\n",
       "      <td>75%</td>\n",
       "      <td>1.000000</td>\n",
       "    </tr>\n",
       "    <tr>\n",
       "      <td>max</td>\n",
       "      <td>1.000000</td>\n",
       "    </tr>\n",
       "  </tbody>\n",
       "</table>\n",
       "</div>"
      ],
      "text/plain": [
       "            CLASS\n",
       "count  350.000000\n",
       "mean     0.500000\n",
       "std      0.500716\n",
       "min      0.000000\n",
       "25%      0.000000\n",
       "50%      0.500000\n",
       "75%      1.000000\n",
       "max      1.000000"
      ]
     },
     "execution_count": 19,
     "metadata": {},
     "output_type": "execute_result"
    }
   ],
   "source": [
    "psy.describe()"
   ]
  },
  {
   "cell_type": "markdown",
   "metadata": {},
   "source": [
    "**To check whether the timestamp is related to the comment classification or not, first the DATE column has to be converted to datetime format.**"
   ]
  },
  {
   "cell_type": "code",
   "execution_count": 72,
   "metadata": {},
   "outputs": [],
   "source": [
    "psy['DATE'] = pd.to_datetime(psy['DATE'], format='%Y-%m-%dT%H:%M:%S')"
   ]
  },
  {
   "cell_type": "code",
   "execution_count": 73,
   "metadata": {},
   "outputs": [
    {
     "name": "stdout",
     "output_type": "stream",
     "text": [
      "<class 'pandas.core.frame.DataFrame'>\n",
      "RangeIndex: 350 entries, 0 to 349\n",
      "Data columns (total 5 columns):\n",
      "COMMENT_ID    350 non-null object\n",
      "AUTHOR        350 non-null object\n",
      "DATE          350 non-null datetime64[ns]\n",
      "CONTENT       350 non-null object\n",
      "CLASS         350 non-null int64\n",
      "dtypes: datetime64[ns](1), int64(1), object(3)\n",
      "memory usage: 13.8+ KB\n"
     ]
    }
   ],
   "source": [
    "psy.info()"
   ]
  },
  {
   "cell_type": "code",
   "execution_count": 74,
   "metadata": {},
   "outputs": [],
   "source": [
    "psy['TIME'] = psy['DATE'].apply(lambda x: x.hour)"
   ]
  },
  {
   "cell_type": "code",
   "execution_count": 76,
   "metadata": {},
   "outputs": [
    {
     "data": {
      "text/html": [
       "<div>\n",
       "<style scoped>\n",
       "    .dataframe tbody tr th:only-of-type {\n",
       "        vertical-align: middle;\n",
       "    }\n",
       "\n",
       "    .dataframe tbody tr th {\n",
       "        vertical-align: top;\n",
       "    }\n",
       "\n",
       "    .dataframe thead th {\n",
       "        text-align: right;\n",
       "    }\n",
       "</style>\n",
       "<table border=\"1\" class=\"dataframe\">\n",
       "  <thead>\n",
       "    <tr style=\"text-align: right;\">\n",
       "      <th></th>\n",
       "      <th>COMMENT_ID</th>\n",
       "      <th>AUTHOR</th>\n",
       "      <th>DATE</th>\n",
       "      <th>CONTENT</th>\n",
       "      <th>CLASS</th>\n",
       "      <th>TIME</th>\n",
       "    </tr>\n",
       "  </thead>\n",
       "  <tbody>\n",
       "    <tr>\n",
       "      <td>0</td>\n",
       "      <td>LZQPQhLyRh80UYxNuaDWhIGQYNQ96IuCg-AYWqNPjpU</td>\n",
       "      <td>Julius NM</td>\n",
       "      <td>2013-11-07 06:20:48</td>\n",
       "      <td>Huh, anyway check out this you[tube] channel: ...</td>\n",
       "      <td>1</td>\n",
       "      <td>6</td>\n",
       "    </tr>\n",
       "    <tr>\n",
       "      <td>1</td>\n",
       "      <td>LZQPQhLyRh_C2cTtd9MvFRJedxydaVW-2sNg5Diuo4A</td>\n",
       "      <td>adam riyati</td>\n",
       "      <td>2013-11-07 12:37:15</td>\n",
       "      <td>Hey guys check out my new channel and our firs...</td>\n",
       "      <td>1</td>\n",
       "      <td>12</td>\n",
       "    </tr>\n",
       "    <tr>\n",
       "      <td>2</td>\n",
       "      <td>LZQPQhLyRh9MSZYnf8djyk0gEF9BHDPYrrK-qCczIY8</td>\n",
       "      <td>Evgeny Murashkin</td>\n",
       "      <td>2013-11-08 17:34:21</td>\n",
       "      <td>just for test I have to say murdev.com</td>\n",
       "      <td>1</td>\n",
       "      <td>17</td>\n",
       "    </tr>\n",
       "    <tr>\n",
       "      <td>3</td>\n",
       "      <td>z13jhp0bxqncu512g22wvzkasxmvvzjaz04</td>\n",
       "      <td>ElNino Melendez</td>\n",
       "      <td>2013-11-09 08:28:43</td>\n",
       "      <td>me shaking my sexy ass on my channel enjoy ^_^ ﻿</td>\n",
       "      <td>1</td>\n",
       "      <td>8</td>\n",
       "    </tr>\n",
       "    <tr>\n",
       "      <td>4</td>\n",
       "      <td>z13fwbwp1oujthgqj04chlngpvzmtt3r3dw</td>\n",
       "      <td>GsMega</td>\n",
       "      <td>2013-11-10 16:05:38</td>\n",
       "      <td>watch?v=vtaRGgvGtWQ   Check this out .﻿</td>\n",
       "      <td>1</td>\n",
       "      <td>16</td>\n",
       "    </tr>\n",
       "  </tbody>\n",
       "</table>\n",
       "</div>"
      ],
      "text/plain": [
       "                                    COMMENT_ID            AUTHOR  \\\n",
       "0  LZQPQhLyRh80UYxNuaDWhIGQYNQ96IuCg-AYWqNPjpU         Julius NM   \n",
       "1  LZQPQhLyRh_C2cTtd9MvFRJedxydaVW-2sNg5Diuo4A       adam riyati   \n",
       "2  LZQPQhLyRh9MSZYnf8djyk0gEF9BHDPYrrK-qCczIY8  Evgeny Murashkin   \n",
       "3          z13jhp0bxqncu512g22wvzkasxmvvzjaz04   ElNino Melendez   \n",
       "4          z13fwbwp1oujthgqj04chlngpvzmtt3r3dw            GsMega   \n",
       "\n",
       "                 DATE                                            CONTENT  \\\n",
       "0 2013-11-07 06:20:48  Huh, anyway check out this you[tube] channel: ...   \n",
       "1 2013-11-07 12:37:15  Hey guys check out my new channel and our firs...   \n",
       "2 2013-11-08 17:34:21             just for test I have to say murdev.com   \n",
       "3 2013-11-09 08:28:43   me shaking my sexy ass on my channel enjoy ^_^ ﻿   \n",
       "4 2013-11-10 16:05:38            watch?v=vtaRGgvGtWQ   Check this out .﻿   \n",
       "\n",
       "   CLASS  TIME  \n",
       "0      1     6  \n",
       "1      1    12  \n",
       "2      1    17  \n",
       "3      1     8  \n",
       "4      1    16  "
      ]
     },
     "execution_count": 76,
     "metadata": {},
     "output_type": "execute_result"
    }
   ],
   "source": [
    "psy.head()"
   ]
  },
  {
   "cell_type": "markdown",
   "metadata": {},
   "source": [
    "**Classifiy the time as AM or PM.**"
   ]
  },
  {
   "cell_type": "code",
   "execution_count": 77,
   "metadata": {},
   "outputs": [],
   "source": [
    "def time(x):\n",
    "    if x > 11:\n",
    "        return 'PM'\n",
    "    else:\n",
    "        return 'AM'"
   ]
  },
  {
   "cell_type": "code",
   "execution_count": 78,
   "metadata": {},
   "outputs": [],
   "source": [
    "psy['TIME'] = psy['TIME'].apply(time)"
   ]
  },
  {
   "cell_type": "code",
   "execution_count": 79,
   "metadata": {},
   "outputs": [
    {
     "data": {
      "text/html": [
       "<div>\n",
       "<style scoped>\n",
       "    .dataframe tbody tr th:only-of-type {\n",
       "        vertical-align: middle;\n",
       "    }\n",
       "\n",
       "    .dataframe tbody tr th {\n",
       "        vertical-align: top;\n",
       "    }\n",
       "\n",
       "    .dataframe thead th {\n",
       "        text-align: right;\n",
       "    }\n",
       "</style>\n",
       "<table border=\"1\" class=\"dataframe\">\n",
       "  <thead>\n",
       "    <tr style=\"text-align: right;\">\n",
       "      <th></th>\n",
       "      <th>COMMENT_ID</th>\n",
       "      <th>AUTHOR</th>\n",
       "      <th>DATE</th>\n",
       "      <th>CONTENT</th>\n",
       "      <th>CLASS</th>\n",
       "      <th>TIME</th>\n",
       "    </tr>\n",
       "  </thead>\n",
       "  <tbody>\n",
       "    <tr>\n",
       "      <td>0</td>\n",
       "      <td>LZQPQhLyRh80UYxNuaDWhIGQYNQ96IuCg-AYWqNPjpU</td>\n",
       "      <td>Julius NM</td>\n",
       "      <td>2013-11-07 06:20:48</td>\n",
       "      <td>Huh, anyway check out this you[tube] channel: ...</td>\n",
       "      <td>1</td>\n",
       "      <td>AM</td>\n",
       "    </tr>\n",
       "    <tr>\n",
       "      <td>1</td>\n",
       "      <td>LZQPQhLyRh_C2cTtd9MvFRJedxydaVW-2sNg5Diuo4A</td>\n",
       "      <td>adam riyati</td>\n",
       "      <td>2013-11-07 12:37:15</td>\n",
       "      <td>Hey guys check out my new channel and our firs...</td>\n",
       "      <td>1</td>\n",
       "      <td>PM</td>\n",
       "    </tr>\n",
       "    <tr>\n",
       "      <td>2</td>\n",
       "      <td>LZQPQhLyRh9MSZYnf8djyk0gEF9BHDPYrrK-qCczIY8</td>\n",
       "      <td>Evgeny Murashkin</td>\n",
       "      <td>2013-11-08 17:34:21</td>\n",
       "      <td>just for test I have to say murdev.com</td>\n",
       "      <td>1</td>\n",
       "      <td>PM</td>\n",
       "    </tr>\n",
       "    <tr>\n",
       "      <td>3</td>\n",
       "      <td>z13jhp0bxqncu512g22wvzkasxmvvzjaz04</td>\n",
       "      <td>ElNino Melendez</td>\n",
       "      <td>2013-11-09 08:28:43</td>\n",
       "      <td>me shaking my sexy ass on my channel enjoy ^_^ ﻿</td>\n",
       "      <td>1</td>\n",
       "      <td>AM</td>\n",
       "    </tr>\n",
       "    <tr>\n",
       "      <td>4</td>\n",
       "      <td>z13fwbwp1oujthgqj04chlngpvzmtt3r3dw</td>\n",
       "      <td>GsMega</td>\n",
       "      <td>2013-11-10 16:05:38</td>\n",
       "      <td>watch?v=vtaRGgvGtWQ   Check this out .﻿</td>\n",
       "      <td>1</td>\n",
       "      <td>PM</td>\n",
       "    </tr>\n",
       "  </tbody>\n",
       "</table>\n",
       "</div>"
      ],
      "text/plain": [
       "                                    COMMENT_ID            AUTHOR  \\\n",
       "0  LZQPQhLyRh80UYxNuaDWhIGQYNQ96IuCg-AYWqNPjpU         Julius NM   \n",
       "1  LZQPQhLyRh_C2cTtd9MvFRJedxydaVW-2sNg5Diuo4A       adam riyati   \n",
       "2  LZQPQhLyRh9MSZYnf8djyk0gEF9BHDPYrrK-qCczIY8  Evgeny Murashkin   \n",
       "3          z13jhp0bxqncu512g22wvzkasxmvvzjaz04   ElNino Melendez   \n",
       "4          z13fwbwp1oujthgqj04chlngpvzmtt3r3dw            GsMega   \n",
       "\n",
       "                 DATE                                            CONTENT  \\\n",
       "0 2013-11-07 06:20:48  Huh, anyway check out this you[tube] channel: ...   \n",
       "1 2013-11-07 12:37:15  Hey guys check out my new channel and our firs...   \n",
       "2 2013-11-08 17:34:21             just for test I have to say murdev.com   \n",
       "3 2013-11-09 08:28:43   me shaking my sexy ass on my channel enjoy ^_^ ﻿   \n",
       "4 2013-11-10 16:05:38            watch?v=vtaRGgvGtWQ   Check this out .﻿   \n",
       "\n",
       "   CLASS TIME  \n",
       "0      1   AM  \n",
       "1      1   PM  \n",
       "2      1   PM  \n",
       "3      1   AM  \n",
       "4      1   PM  "
      ]
     },
     "execution_count": 79,
     "metadata": {},
     "output_type": "execute_result"
    }
   ],
   "source": [
    "psy.head()"
   ]
  },
  {
   "cell_type": "markdown",
   "metadata": {},
   "source": [
    "**It is better to classifiy the comment as 'spam' or 'not spam' rather than 1 or 0.**"
   ]
  },
  {
   "cell_type": "code",
   "execution_count": 80,
   "metadata": {},
   "outputs": [],
   "source": [
    "def spamornot(label):\n",
    "    if label == 1:\n",
    "        return 'spam'\n",
    "    else:\n",
    "        return 'not spam'"
   ]
  },
  {
   "cell_type": "code",
   "execution_count": 81,
   "metadata": {},
   "outputs": [],
   "source": [
    "psy['LABEL'] = psy['CLASS'].apply(spamornot)"
   ]
  },
  {
   "cell_type": "code",
   "execution_count": 82,
   "metadata": {},
   "outputs": [
    {
     "data": {
      "text/html": [
       "<div>\n",
       "<style scoped>\n",
       "    .dataframe tbody tr th:only-of-type {\n",
       "        vertical-align: middle;\n",
       "    }\n",
       "\n",
       "    .dataframe tbody tr th {\n",
       "        vertical-align: top;\n",
       "    }\n",
       "\n",
       "    .dataframe thead th {\n",
       "        text-align: right;\n",
       "    }\n",
       "</style>\n",
       "<table border=\"1\" class=\"dataframe\">\n",
       "  <thead>\n",
       "    <tr style=\"text-align: right;\">\n",
       "      <th></th>\n",
       "      <th>COMMENT_ID</th>\n",
       "      <th>AUTHOR</th>\n",
       "      <th>DATE</th>\n",
       "      <th>CONTENT</th>\n",
       "      <th>CLASS</th>\n",
       "      <th>TIME</th>\n",
       "      <th>LABEL</th>\n",
       "    </tr>\n",
       "  </thead>\n",
       "  <tbody>\n",
       "    <tr>\n",
       "      <td>0</td>\n",
       "      <td>LZQPQhLyRh80UYxNuaDWhIGQYNQ96IuCg-AYWqNPjpU</td>\n",
       "      <td>Julius NM</td>\n",
       "      <td>2013-11-07 06:20:48</td>\n",
       "      <td>Huh, anyway check out this you[tube] channel: ...</td>\n",
       "      <td>1</td>\n",
       "      <td>AM</td>\n",
       "      <td>spam</td>\n",
       "    </tr>\n",
       "    <tr>\n",
       "      <td>1</td>\n",
       "      <td>LZQPQhLyRh_C2cTtd9MvFRJedxydaVW-2sNg5Diuo4A</td>\n",
       "      <td>adam riyati</td>\n",
       "      <td>2013-11-07 12:37:15</td>\n",
       "      <td>Hey guys check out my new channel and our firs...</td>\n",
       "      <td>1</td>\n",
       "      <td>PM</td>\n",
       "      <td>spam</td>\n",
       "    </tr>\n",
       "    <tr>\n",
       "      <td>2</td>\n",
       "      <td>LZQPQhLyRh9MSZYnf8djyk0gEF9BHDPYrrK-qCczIY8</td>\n",
       "      <td>Evgeny Murashkin</td>\n",
       "      <td>2013-11-08 17:34:21</td>\n",
       "      <td>just for test I have to say murdev.com</td>\n",
       "      <td>1</td>\n",
       "      <td>PM</td>\n",
       "      <td>spam</td>\n",
       "    </tr>\n",
       "    <tr>\n",
       "      <td>3</td>\n",
       "      <td>z13jhp0bxqncu512g22wvzkasxmvvzjaz04</td>\n",
       "      <td>ElNino Melendez</td>\n",
       "      <td>2013-11-09 08:28:43</td>\n",
       "      <td>me shaking my sexy ass on my channel enjoy ^_^ ﻿</td>\n",
       "      <td>1</td>\n",
       "      <td>AM</td>\n",
       "      <td>spam</td>\n",
       "    </tr>\n",
       "    <tr>\n",
       "      <td>4</td>\n",
       "      <td>z13fwbwp1oujthgqj04chlngpvzmtt3r3dw</td>\n",
       "      <td>GsMega</td>\n",
       "      <td>2013-11-10 16:05:38</td>\n",
       "      <td>watch?v=vtaRGgvGtWQ   Check this out .﻿</td>\n",
       "      <td>1</td>\n",
       "      <td>PM</td>\n",
       "      <td>spam</td>\n",
       "    </tr>\n",
       "  </tbody>\n",
       "</table>\n",
       "</div>"
      ],
      "text/plain": [
       "                                    COMMENT_ID            AUTHOR  \\\n",
       "0  LZQPQhLyRh80UYxNuaDWhIGQYNQ96IuCg-AYWqNPjpU         Julius NM   \n",
       "1  LZQPQhLyRh_C2cTtd9MvFRJedxydaVW-2sNg5Diuo4A       adam riyati   \n",
       "2  LZQPQhLyRh9MSZYnf8djyk0gEF9BHDPYrrK-qCczIY8  Evgeny Murashkin   \n",
       "3          z13jhp0bxqncu512g22wvzkasxmvvzjaz04   ElNino Melendez   \n",
       "4          z13fwbwp1oujthgqj04chlngpvzmtt3r3dw            GsMega   \n",
       "\n",
       "                 DATE                                            CONTENT  \\\n",
       "0 2013-11-07 06:20:48  Huh, anyway check out this you[tube] channel: ...   \n",
       "1 2013-11-07 12:37:15  Hey guys check out my new channel and our firs...   \n",
       "2 2013-11-08 17:34:21             just for test I have to say murdev.com   \n",
       "3 2013-11-09 08:28:43   me shaking my sexy ass on my channel enjoy ^_^ ﻿   \n",
       "4 2013-11-10 16:05:38            watch?v=vtaRGgvGtWQ   Check this out .﻿   \n",
       "\n",
       "   CLASS TIME LABEL  \n",
       "0      1   AM  spam  \n",
       "1      1   PM  spam  \n",
       "2      1   PM  spam  \n",
       "3      1   AM  spam  \n",
       "4      1   PM  spam  "
      ]
     },
     "execution_count": 82,
     "metadata": {},
     "output_type": "execute_result"
    }
   ],
   "source": [
    "psy.head()"
   ]
  },
  {
   "cell_type": "code",
   "execution_count": 97,
   "metadata": {},
   "outputs": [],
   "source": [
    "plt.rcParams['patch.force_edgecolor']=True\n",
    "plt.rcParams['axes.grid']=True\n",
    "plt.rcParams['grid.alpha']=0.4"
   ]
  },
  {
   "cell_type": "markdown",
   "metadata": {},
   "source": [
    "**There is no time trend for each spam and not spam comments. And this dataset contains balanced labels.**"
   ]
  },
  {
   "cell_type": "code",
   "execution_count": 107,
   "metadata": {},
   "outputs": [
    {
     "data": {
      "text/plain": [
       "spam        175\n",
       "not spam    175\n",
       "Name: LABEL, dtype: int64"
      ]
     },
     "execution_count": 107,
     "metadata": {},
     "output_type": "execute_result"
    },
    {
     "data": {
      "image/png": "[encoded data removed]",
      "text/plain": [
       "<Figure size 432x288 with 1 Axes>"
      ]
     },
     "metadata": {
      "needs_background": "light"
     },
     "output_type": "display_data"
    }
   ],
   "source": [
    "sns.countplot(x='LABEL', data=psy, hue='TIME')\n",
    "psy['LABEL'].value_counts()"
   ]
  },
  {
   "cell_type": "markdown",
   "metadata": {},
   "source": [
    "**However comments posted on PM time are more than comments posted on AM time.**"
   ]
  },
  {
   "cell_type": "code",
   "execution_count": 108,
   "metadata": {},
   "outputs": [
    {
     "data": {
      "text/plain": [
       "PM    201\n",
       "AM    149\n",
       "Name: TIME, dtype: int64"
      ]
     },
     "execution_count": 108,
     "metadata": {},
     "output_type": "execute_result"
    },
    {
     "data": {
      "image/png": "[encoded data removed]",
      "text/plain": [
       "<Figure size 432x288 with 1 Axes>"
      ]
     },
     "metadata": {
      "needs_background": "light"
     },
     "output_type": "display_data"
    }
   ],
   "source": [
    "sns.countplot(x='TIME', data=psy, palette='seismic')\n",
    "psy['TIME'].value_counts()"
   ]
  },
  {
   "cell_type": "markdown",
   "metadata": {},
   "source": [
    "### Building machine learning model."
   ]
  },
  {
   "cell_type": "markdown",
   "metadata": {},
   "source": [
    "**import string to remove the punctuation in the comments. And the stopwords that is imported from nltk.corpus is to remove common words (i.e. our you, you're, how, all, etc.), so later the TF-IDF can get better result of the document's weigh.**"
   ]
  },
  {
   "cell_type": "markdown",
   "metadata": {},
   "source": [
    "**The text_process function will be used later in the pipeline method.**"
   ]
  },
  {
   "cell_type": "code",
   "execution_count": 109,
   "metadata": {},
   "outputs": [],
   "source": [
    "import string\n",
    "from nltk.corpus import stopwords\n",
    "\n",
    "def text_process(comment):\n",
    "    nopunc = [char for char in comment if char not in string.punctuation]\n",
    "    nopunc = ''.join(nopunc)\n",
    "    return [word for word in nopunc.split() if word.lower() not in stopwords.words('english')]"
   ]
  },
  {
   "cell_type": "markdown",
   "metadata": {},
   "source": [
    "**Some example of common english words in stopwords.words corpus.**"
   ]
  },
  {
   "cell_type": "code",
   "execution_count": 135,
   "metadata": {},
   "outputs": [
    {
     "data": {
      "text/plain": [
       "['once', 'here', 'there', 'when', 'where', 'why', 'how', 'all', 'any', 'both']"
      ]
     },
     "execution_count": 135,
     "metadata": {},
     "output_type": "execute_result"
    }
   ],
   "source": [
    "stopwords.words('english')[99:109]"
   ]
  },
  {
   "cell_type": "markdown",
   "metadata": {},
   "source": [
    "**Using K Fold method for data split. n_split is set to 4, as there are 350 rows. Common way to determine the n_split is:**\n",
    "\n",
    "\n",
    "**n_split = 350 / (350*0.3), as 0.3 represents the approximation of test size.**"
   ]
  },
  {
   "cell_type": "code",
   "execution_count": 110,
   "metadata": {},
   "outputs": [],
   "source": [
    "X = psy['CONTENT']\n",
    "y = psy['CLASS']"
   ]
  },
  {
   "cell_type": "code",
   "execution_count": 111,
   "metadata": {},
   "outputs": [
    {
     "data": {
      "text/plain": [
       "4"
      ]
     },
     "execution_count": 111,
     "metadata": {},
     "output_type": "execute_result"
    }
   ],
   "source": [
    "from sklearn.model_selection import KFold\n",
    "\n",
    "kf = KFold(n_splits=4, shuffle=True, random_state=101)\n",
    "kf.get_n_splits(X)"
   ]
  },
  {
   "cell_type": "code",
   "execution_count": 112,
   "metadata": {},
   "outputs": [],
   "source": [
    "for train_index, test_index in kf.split(X):\n",
    "    X_train, X_test = X[train_index], X[test_index]\n",
    "    y_train, y_test = y[train_index], y[test_index]"
   ]
  },
  {
   "cell_type": "markdown",
   "metadata": {},
   "source": [
    "**Using pipeline method to create a package of methods that needed for building the model (except the data split which has been done above).**"
   ]
  },
  {
   "cell_type": "code",
   "execution_count": 113,
   "metadata": {},
   "outputs": [],
   "source": [
    "from sklearn.pipeline import Pipeline"
   ]
  },
  {
   "cell_type": "markdown",
   "metadata": {},
   "source": [
    "**'bow' represents the CountVectorizer method, and it takes text_process function as the analyzer argument. It removes the punctuation, and common words from the document (comment). And then the CountVectorizer transforms the document from string to a vector.**\n",
    "\n",
    "**'tfidf' represents the TF-IDF method. It determines the weigh of the document, based off of the document vector.**\n",
    "\n",
    "**'classifier' represents the Naive-Bayes(NB) machine learning method. The NB type used here is the MultinomialNB.**"
   ]
  },
  {
   "cell_type": "code",
   "execution_count": 114,
   "metadata": {},
   "outputs": [],
   "source": [
    "from sklearn.feature_extraction.text import CountVectorizer, TfidfTransformer\n",
    "from sklearn.naive_bayes import MultinomialNB\n",
    "\n",
    "pipe = Pipeline([\n",
    "    ('bow', CountVectorizer(analyzer=text_process)),\n",
    "    ('tfidf', TfidfTransformer()),\n",
    "    ('classifier', MultinomialNB())\n",
    "])"
   ]
  },
  {
   "cell_type": "markdown",
   "metadata": {},
   "source": [
    "**The fit method will apply three of the methods above on the training dataset.**"
   ]
  },
  {
   "cell_type": "code",
   "execution_count": 115,
   "metadata": {},
   "outputs": [
    {
     "data": {
      "text/plain": [
       "Pipeline(memory=None,\n",
       "         steps=[('bow',\n",
       "                 CountVectorizer(analyzer=<function text_process at 0x00000178B1E3E318>,\n",
       "                                 binary=False, decode_error='strict',\n",
       "                                 dtype=<class 'numpy.int64'>, encoding='utf-8',\n",
       "                                 input='content', lowercase=True, max_df=1.0,\n",
       "                                 max_features=None, min_df=1,\n",
       "                                 ngram_range=(1, 1), preprocessor=None,\n",
       "                                 stop_words=None, strip_accents=None,\n",
       "                                 token_pattern='(?u)\\\\b\\\\w\\\\w+\\\\b',\n",
       "                                 tokenizer=None, vocabulary=None)),\n",
       "                ('tfidf',\n",
       "                 TfidfTransformer(norm='l2', smooth_idf=True,\n",
       "                                  sublinear_tf=False, use_idf=True)),\n",
       "                ('classifier',\n",
       "                 MultinomialNB(alpha=1.0, class_prior=None, fit_prior=True))],\n",
       "         verbose=False)"
      ]
     },
     "execution_count": 115,
     "metadata": {},
     "output_type": "execute_result"
    }
   ],
   "source": [
    "pipe.fit(X_train, y_train)"
   ]
  },
  {
   "cell_type": "markdown",
   "metadata": {},
   "source": [
    "**Create predictions object as the prediction based off of the test dataset.**"
   ]
  },
  {
   "cell_type": "code",
   "execution_count": 116,
   "metadata": {},
   "outputs": [],
   "source": [
    "predictions = pipe.predict(X_test)"
   ]
  },
  {
   "cell_type": "code",
   "execution_count": 117,
   "metadata": {},
   "outputs": [],
   "source": [
    "from sklearn.metrics import confusion_matrix, classification_report"
   ]
  },
  {
   "cell_type": "markdown",
   "metadata": {},
   "source": [
    "**The metrics below shows that the model performs quite well on the test data. As it only predicts falsely on 10 data. And the f1-score weighted average reaches .88 which is quite high (near 1) thus represents a good model.**"
   ]
  },
  {
   "cell_type": "code",
   "execution_count": 118,
   "metadata": {},
   "outputs": [
    {
     "name": "stdout",
     "output_type": "stream",
     "text": [
      "[[36  9]\n",
      " [ 1 41]]\n",
      "\n",
      "              precision    recall  f1-score   support\n",
      "\n",
      "           0       0.97      0.80      0.88        45\n",
      "           1       0.82      0.98      0.89        42\n",
      "\n",
      "    accuracy                           0.89        87\n",
      "   macro avg       0.90      0.89      0.88        87\n",
      "weighted avg       0.90      0.89      0.88        87\n",
      "\n"
     ]
    }
   ],
   "source": [
    "print(confusion_matrix(y_test, predictions))\n",
    "print()\n",
    "print(classification_report(y_test, predictions))"
   ]
  },
  {
   "cell_type": "markdown",
   "metadata": {},
   "source": [
    "### Create a dataframe to prove that the model can be used to later predict new data."
   ]
  },
  {
   "cell_type": "markdown",
   "metadata": {},
   "source": [
    "**In this case, the new data will be represented as the data from row 330 to 340. It is not the same situation, because the prediction will be based on the model that is created from the said dataset. The newly created model's purpose is to be used on the new data.**"
   ]
  },
  {
   "cell_type": "code",
   "execution_count": 119,
   "metadata": {},
   "outputs": [],
   "source": [
    "test_pred = pipe.predict(np.ravel(psy['CONTENT'][330:341]))"
   ]
  },
  {
   "cell_type": "code",
   "execution_count": 120,
   "metadata": {},
   "outputs": [
    {
     "data": {
      "text/plain": [
       "array([0, 1, 0, 1, 0, 1, 0, 1, 1, 1, 1], dtype=int64)"
      ]
     },
     "execution_count": 120,
     "metadata": {},
     "output_type": "execute_result"
    }
   ],
   "source": [
    "test_pred"
   ]
  },
  {
   "cell_type": "code",
   "execution_count": 121,
   "metadata": {},
   "outputs": [
    {
     "data": {
      "text/html": [
       "<div>\n",
       "<style scoped>\n",
       "    .dataframe tbody tr th:only-of-type {\n",
       "        vertical-align: middle;\n",
       "    }\n",
       "\n",
       "    .dataframe tbody tr th {\n",
       "        vertical-align: top;\n",
       "    }\n",
       "\n",
       "    .dataframe thead th {\n",
       "        text-align: right;\n",
       "    }\n",
       "</style>\n",
       "<table border=\"1\" class=\"dataframe\">\n",
       "  <thead>\n",
       "    <tr style=\"text-align: right;\">\n",
       "      <th></th>\n",
       "      <th>COMMENT_ID</th>\n",
       "      <th>AUTHOR</th>\n",
       "      <th>DATE</th>\n",
       "      <th>CONTENT</th>\n",
       "      <th>CLASS</th>\n",
       "      <th>TIME</th>\n",
       "      <th>LABEL</th>\n",
       "    </tr>\n",
       "  </thead>\n",
       "  <tbody>\n",
       "    <tr>\n",
       "      <td>330</td>\n",
       "      <td>z12oex5p1miewvugp04cgjfqiq3xsxrolhk</td>\n",
       "      <td>Caius Ballad</td>\n",
       "      <td>2014-11-13 00:58:20</td>\n",
       "      <td>imagine if this guy put adsense on with all th...</td>\n",
       "      <td>0</td>\n",
       "      <td>AM</td>\n",
       "      <td>not spam</td>\n",
       "    </tr>\n",
       "    <tr>\n",
       "      <td>331</td>\n",
       "      <td>z13supiartrcdr4la22xc3aripu2x1z3a</td>\n",
       "      <td>Ink Video Shorts</td>\n",
       "      <td>2014-11-13 02:33:53</td>\n",
       "      <td>Hey come check us out were new on youtube let ...</td>\n",
       "      <td>1</td>\n",
       "      <td>AM</td>\n",
       "      <td>spam</td>\n",
       "    </tr>\n",
       "    <tr>\n",
       "      <td>332</td>\n",
       "      <td>z12uthyi5vratjy0v22ycxxhgpuqs5te2</td>\n",
       "      <td>Sigaraya Nesora</td>\n",
       "      <td>2014-11-13 06:33:21</td>\n",
       "      <td>The girl in the train who was dancing, her out...</td>\n",
       "      <td>0</td>\n",
       "      <td>AM</td>\n",
       "      <td>not spam</td>\n",
       "    </tr>\n",
       "    <tr>\n",
       "      <td>333</td>\n",
       "      <td>z131idupvn3yhf3mv23dwzhi4pqixvwuw</td>\n",
       "      <td>Александр Федоров</td>\n",
       "      <td>2014-11-13 07:59:33</td>\n",
       "      <td>Look at the pictures, if not difficult http://...</td>\n",
       "      <td>1</td>\n",
       "      <td>AM</td>\n",
       "      <td>spam</td>\n",
       "    </tr>\n",
       "    <tr>\n",
       "      <td>334</td>\n",
       "      <td>z12gcx5hzkayhbmve23ghd3plt2czf2rp04</td>\n",
       "      <td>ArioseRose</td>\n",
       "      <td>2014-11-13 15:20:31</td>\n",
       "      <td>Don't mind me, I'm just checking what the view...</td>\n",
       "      <td>0</td>\n",
       "      <td>PM</td>\n",
       "      <td>not spam</td>\n",
       "    </tr>\n",
       "    <tr>\n",
       "      <td>335</td>\n",
       "      <td>z13qhxcb2ybzszosx22rh5hwhmmccpjx404</td>\n",
       "      <td>The Silent Troll Defuser HD</td>\n",
       "      <td>2014-11-13 15:47:27</td>\n",
       "      <td>Hey guys can you check my YouTube channel I kn...</td>\n",
       "      <td>1</td>\n",
       "      <td>PM</td>\n",
       "      <td>spam</td>\n",
       "    </tr>\n",
       "    <tr>\n",
       "      <td>336</td>\n",
       "      <td>z12yivpznrezu3gyf04ce11xdvmquxzjdo00k</td>\n",
       "      <td>Tom Hosford</td>\n",
       "      <td>2014-11-13 17:42:06</td>\n",
       "      <td>To everyone joking about how he hacked to get ...</td>\n",
       "      <td>0</td>\n",
       "      <td>PM</td>\n",
       "      <td>not spam</td>\n",
       "    </tr>\n",
       "    <tr>\n",
       "      <td>337</td>\n",
       "      <td>z13uud25otb0ird2h230chu54neyehsbg04</td>\n",
       "      <td>Tofik Miedzyń</td>\n",
       "      <td>2014-11-13 21:48:26</td>\n",
       "      <td>https://www.facebook.com/tofikmiedzynB/photos/...</td>\n",
       "      <td>1</td>\n",
       "      <td>PM</td>\n",
       "      <td>spam</td>\n",
       "    </tr>\n",
       "    <tr>\n",
       "      <td>338</td>\n",
       "      <td>z12ozx4w5mytupefv23vvxdroqehuvbvv</td>\n",
       "      <td>MrValentinique</td>\n",
       "      <td>2014-11-13 22:33:31</td>\n",
       "      <td>https://www.facebook.com/eeccon/posts/73394924...</td>\n",
       "      <td>1</td>\n",
       "      <td>PM</td>\n",
       "      <td>spam</td>\n",
       "    </tr>\n",
       "    <tr>\n",
       "      <td>339</td>\n",
       "      <td>z12vvnza4rq5tvzou04cgxeookraexq5opo0k</td>\n",
       "      <td>Ghazi Rizvi</td>\n",
       "      <td>2014-11-13 23:02:09</td>\n",
       "      <td>http://www.bing.com/explore/rewards?PUBL=REFER...</td>\n",
       "      <td>1</td>\n",
       "      <td>PM</td>\n",
       "      <td>spam</td>\n",
       "    </tr>\n",
       "    <tr>\n",
       "      <td>340</td>\n",
       "      <td>z12exzcrvpeew1yxg04cd5tbwnmfubnh4kk0k</td>\n",
       "      <td>Anthony1SV</td>\n",
       "      <td>2014-11-14 00:01:37</td>\n",
       "      <td>Please do buy these new Christmas shirts! You ...</td>\n",
       "      <td>1</td>\n",
       "      <td>AM</td>\n",
       "      <td>spam</td>\n",
       "    </tr>\n",
       "  </tbody>\n",
       "</table>\n",
       "</div>"
      ],
      "text/plain": [
       "                                COMMENT_ID                       AUTHOR  \\\n",
       "330    z12oex5p1miewvugp04cgjfqiq3xsxrolhk                 Caius Ballad   \n",
       "331      z13supiartrcdr4la22xc3aripu2x1z3a             Ink Video Shorts   \n",
       "332      z12uthyi5vratjy0v22ycxxhgpuqs5te2              Sigaraya Nesora   \n",
       "333      z131idupvn3yhf3mv23dwzhi4pqixvwuw            Александр Федоров   \n",
       "334    z12gcx5hzkayhbmve23ghd3plt2czf2rp04                   ArioseRose   \n",
       "335    z13qhxcb2ybzszosx22rh5hwhmmccpjx404  The Silent Troll Defuser HD   \n",
       "336  z12yivpznrezu3gyf04ce11xdvmquxzjdo00k                  Tom Hosford   \n",
       "337    z13uud25otb0ird2h230chu54neyehsbg04                Tofik Miedzyń   \n",
       "338      z12ozx4w5mytupefv23vvxdroqehuvbvv               MrValentinique   \n",
       "339  z12vvnza4rq5tvzou04cgxeookraexq5opo0k                  Ghazi Rizvi   \n",
       "340  z12exzcrvpeew1yxg04cd5tbwnmfubnh4kk0k                   Anthony1SV   \n",
       "\n",
       "                   DATE                                            CONTENT  \\\n",
       "330 2014-11-13 00:58:20  imagine if this guy put adsense on with all th...   \n",
       "331 2014-11-13 02:33:53  Hey come check us out were new on youtube let ...   \n",
       "332 2014-11-13 06:33:21  The girl in the train who was dancing, her out...   \n",
       "333 2014-11-13 07:59:33  Look at the pictures, if not difficult http://...   \n",
       "334 2014-11-13 15:20:31  Don't mind me, I'm just checking what the view...   \n",
       "335 2014-11-13 15:47:27  Hey guys can you check my YouTube channel I kn...   \n",
       "336 2014-11-13 17:42:06  To everyone joking about how he hacked to get ...   \n",
       "337 2014-11-13 21:48:26  https://www.facebook.com/tofikmiedzynB/photos/...   \n",
       "338 2014-11-13 22:33:31  https://www.facebook.com/eeccon/posts/73394924...   \n",
       "339 2014-11-13 23:02:09  http://www.bing.com/explore/rewards?PUBL=REFER...   \n",
       "340 2014-11-14 00:01:37  Please do buy these new Christmas shirts! You ...   \n",
       "\n",
       "     CLASS TIME     LABEL  \n",
       "330      0   AM  not spam  \n",
       "331      1   AM      spam  \n",
       "332      0   AM  not spam  \n",
       "333      1   AM      spam  \n",
       "334      0   PM  not spam  \n",
       "335      1   PM      spam  \n",
       "336      0   PM  not spam  \n",
       "337      1   PM      spam  \n",
       "338      1   PM      spam  \n",
       "339      1   PM      spam  \n",
       "340      1   AM      spam  "
      ]
     },
     "execution_count": 121,
     "metadata": {},
     "output_type": "execute_result"
    }
   ],
   "source": [
    "testpred_result = psy[330:341]\n",
    "testpred_result"
   ]
  },
  {
   "cell_type": "code",
   "execution_count": 122,
   "metadata": {},
   "outputs": [
    {
     "data": {
      "text/html": [
       "<div>\n",
       "<style scoped>\n",
       "    .dataframe tbody tr th:only-of-type {\n",
       "        vertical-align: middle;\n",
       "    }\n",
       "\n",
       "    .dataframe tbody tr th {\n",
       "        vertical-align: top;\n",
       "    }\n",
       "\n",
       "    .dataframe thead th {\n",
       "        text-align: right;\n",
       "    }\n",
       "</style>\n",
       "<table border=\"1\" class=\"dataframe\">\n",
       "  <thead>\n",
       "    <tr style=\"text-align: right;\">\n",
       "      <th></th>\n",
       "      <th>index</th>\n",
       "      <th>COMMENT_ID</th>\n",
       "      <th>AUTHOR</th>\n",
       "      <th>DATE</th>\n",
       "      <th>CONTENT</th>\n",
       "      <th>CLASS</th>\n",
       "      <th>TIME</th>\n",
       "      <th>LABEL</th>\n",
       "    </tr>\n",
       "  </thead>\n",
       "  <tbody>\n",
       "    <tr>\n",
       "      <td>0</td>\n",
       "      <td>330</td>\n",
       "      <td>z12oex5p1miewvugp04cgjfqiq3xsxrolhk</td>\n",
       "      <td>Caius Ballad</td>\n",
       "      <td>2014-11-13 00:58:20</td>\n",
       "      <td>imagine if this guy put adsense on with all th...</td>\n",
       "      <td>0</td>\n",
       "      <td>AM</td>\n",
       "      <td>not spam</td>\n",
       "    </tr>\n",
       "    <tr>\n",
       "      <td>1</td>\n",
       "      <td>331</td>\n",
       "      <td>z13supiartrcdr4la22xc3aripu2x1z3a</td>\n",
       "      <td>Ink Video Shorts</td>\n",
       "      <td>2014-11-13 02:33:53</td>\n",
       "      <td>Hey come check us out were new on youtube let ...</td>\n",
       "      <td>1</td>\n",
       "      <td>AM</td>\n",
       "      <td>spam</td>\n",
       "    </tr>\n",
       "    <tr>\n",
       "      <td>2</td>\n",
       "      <td>332</td>\n",
       "      <td>z12uthyi5vratjy0v22ycxxhgpuqs5te2</td>\n",
       "      <td>Sigaraya Nesora</td>\n",
       "      <td>2014-11-13 06:33:21</td>\n",
       "      <td>The girl in the train who was dancing, her out...</td>\n",
       "      <td>0</td>\n",
       "      <td>AM</td>\n",
       "      <td>not spam</td>\n",
       "    </tr>\n",
       "    <tr>\n",
       "      <td>3</td>\n",
       "      <td>333</td>\n",
       "      <td>z131idupvn3yhf3mv23dwzhi4pqixvwuw</td>\n",
       "      <td>Александр Федоров</td>\n",
       "      <td>2014-11-13 07:59:33</td>\n",
       "      <td>Look at the pictures, if not difficult http://...</td>\n",
       "      <td>1</td>\n",
       "      <td>AM</td>\n",
       "      <td>spam</td>\n",
       "    </tr>\n",
       "    <tr>\n",
       "      <td>4</td>\n",
       "      <td>334</td>\n",
       "      <td>z12gcx5hzkayhbmve23ghd3plt2czf2rp04</td>\n",
       "      <td>ArioseRose</td>\n",
       "      <td>2014-11-13 15:20:31</td>\n",
       "      <td>Don't mind me, I'm just checking what the view...</td>\n",
       "      <td>0</td>\n",
       "      <td>PM</td>\n",
       "      <td>not spam</td>\n",
       "    </tr>\n",
       "    <tr>\n",
       "      <td>5</td>\n",
       "      <td>335</td>\n",
       "      <td>z13qhxcb2ybzszosx22rh5hwhmmccpjx404</td>\n",
       "      <td>The Silent Troll Defuser HD</td>\n",
       "      <td>2014-11-13 15:47:27</td>\n",
       "      <td>Hey guys can you check my YouTube channel I kn...</td>\n",
       "      <td>1</td>\n",
       "      <td>PM</td>\n",
       "      <td>spam</td>\n",
       "    </tr>\n",
       "    <tr>\n",
       "      <td>6</td>\n",
       "      <td>336</td>\n",
       "      <td>z12yivpznrezu3gyf04ce11xdvmquxzjdo00k</td>\n",
       "      <td>Tom Hosford</td>\n",
       "      <td>2014-11-13 17:42:06</td>\n",
       "      <td>To everyone joking about how he hacked to get ...</td>\n",
       "      <td>0</td>\n",
       "      <td>PM</td>\n",
       "      <td>not spam</td>\n",
       "    </tr>\n",
       "    <tr>\n",
       "      <td>7</td>\n",
       "      <td>337</td>\n",
       "      <td>z13uud25otb0ird2h230chu54neyehsbg04</td>\n",
       "      <td>Tofik Miedzyń</td>\n",
       "      <td>2014-11-13 21:48:26</td>\n",
       "      <td>https://www.facebook.com/tofikmiedzynB/photos/...</td>\n",
       "      <td>1</td>\n",
       "      <td>PM</td>\n",
       "      <td>spam</td>\n",
       "    </tr>\n",
       "    <tr>\n",
       "      <td>8</td>\n",
       "      <td>338</td>\n",
       "      <td>z12ozx4w5mytupefv23vvxdroqehuvbvv</td>\n",
       "      <td>MrValentinique</td>\n",
       "      <td>2014-11-13 22:33:31</td>\n",
       "      <td>https://www.facebook.com/eeccon/posts/73394924...</td>\n",
       "      <td>1</td>\n",
       "      <td>PM</td>\n",
       "      <td>spam</td>\n",
       "    </tr>\n",
       "    <tr>\n",
       "      <td>9</td>\n",
       "      <td>339</td>\n",
       "      <td>z12vvnza4rq5tvzou04cgxeookraexq5opo0k</td>\n",
       "      <td>Ghazi Rizvi</td>\n",
       "      <td>2014-11-13 23:02:09</td>\n",
       "      <td>http://www.bing.com/explore/rewards?PUBL=REFER...</td>\n",
       "      <td>1</td>\n",
       "      <td>PM</td>\n",
       "      <td>spam</td>\n",
       "    </tr>\n",
       "    <tr>\n",
       "      <td>10</td>\n",
       "      <td>340</td>\n",
       "      <td>z12exzcrvpeew1yxg04cd5tbwnmfubnh4kk0k</td>\n",
       "      <td>Anthony1SV</td>\n",
       "      <td>2014-11-14 00:01:37</td>\n",
       "      <td>Please do buy these new Christmas shirts! You ...</td>\n",
       "      <td>1</td>\n",
       "      <td>AM</td>\n",
       "      <td>spam</td>\n",
       "    </tr>\n",
       "  </tbody>\n",
       "</table>\n",
       "</div>"
      ],
      "text/plain": [
       "    index                             COMMENT_ID                       AUTHOR  \\\n",
       "0     330    z12oex5p1miewvugp04cgjfqiq3xsxrolhk                 Caius Ballad   \n",
       "1     331      z13supiartrcdr4la22xc3aripu2x1z3a             Ink Video Shorts   \n",
       "2     332      z12uthyi5vratjy0v22ycxxhgpuqs5te2              Sigaraya Nesora   \n",
       "3     333      z131idupvn3yhf3mv23dwzhi4pqixvwuw            Александр Федоров   \n",
       "4     334    z12gcx5hzkayhbmve23ghd3plt2czf2rp04                   ArioseRose   \n",
       "5     335    z13qhxcb2ybzszosx22rh5hwhmmccpjx404  The Silent Troll Defuser HD   \n",
       "6     336  z12yivpznrezu3gyf04ce11xdvmquxzjdo00k                  Tom Hosford   \n",
       "7     337    z13uud25otb0ird2h230chu54neyehsbg04                Tofik Miedzyń   \n",
       "8     338      z12ozx4w5mytupefv23vvxdroqehuvbvv               MrValentinique   \n",
       "9     339  z12vvnza4rq5tvzou04cgxeookraexq5opo0k                  Ghazi Rizvi   \n",
       "10    340  z12exzcrvpeew1yxg04cd5tbwnmfubnh4kk0k                   Anthony1SV   \n",
       "\n",
       "                  DATE                                            CONTENT  \\\n",
       "0  2014-11-13 00:58:20  imagine if this guy put adsense on with all th...   \n",
       "1  2014-11-13 02:33:53  Hey come check us out were new on youtube let ...   \n",
       "2  2014-11-13 06:33:21  The girl in the train who was dancing, her out...   \n",
       "3  2014-11-13 07:59:33  Look at the pictures, if not difficult http://...   \n",
       "4  2014-11-13 15:20:31  Don't mind me, I'm just checking what the view...   \n",
       "5  2014-11-13 15:47:27  Hey guys can you check my YouTube channel I kn...   \n",
       "6  2014-11-13 17:42:06  To everyone joking about how he hacked to get ...   \n",
       "7  2014-11-13 21:48:26  https://www.facebook.com/tofikmiedzynB/photos/...   \n",
       "8  2014-11-13 22:33:31  https://www.facebook.com/eeccon/posts/73394924...   \n",
       "9  2014-11-13 23:02:09  http://www.bing.com/explore/rewards?PUBL=REFER...   \n",
       "10 2014-11-14 00:01:37  Please do buy these new Christmas shirts! You ...   \n",
       "\n",
       "    CLASS TIME     LABEL  \n",
       "0       0   AM  not spam  \n",
       "1       1   AM      spam  \n",
       "2       0   AM  not spam  \n",
       "3       1   AM      spam  \n",
       "4       0   PM  not spam  \n",
       "5       1   PM      spam  \n",
       "6       0   PM  not spam  \n",
       "7       1   PM      spam  \n",
       "8       1   PM      spam  \n",
       "9       1   PM      spam  \n",
       "10      1   AM      spam  "
      ]
     },
     "execution_count": 122,
     "metadata": {},
     "output_type": "execute_result"
    }
   ],
   "source": [
    "testpred_result = testpred_result.reset_index()\n",
    "testpred_result"
   ]
  },
  {
   "cell_type": "code",
   "execution_count": 123,
   "metadata": {},
   "outputs": [],
   "source": [
    "testpred_result['PREDICTIONS'] = test_pred"
   ]
  },
  {
   "cell_type": "code",
   "execution_count": 124,
   "metadata": {},
   "outputs": [],
   "source": [
    "testpred_result.set_index('index', inplace=True)"
   ]
  },
  {
   "cell_type": "code",
   "execution_count": 125,
   "metadata": {},
   "outputs": [
    {
     "data": {
      "text/html": [
       "<div>\n",
       "<style scoped>\n",
       "    .dataframe tbody tr th:only-of-type {\n",
       "        vertical-align: middle;\n",
       "    }\n",
       "\n",
       "    .dataframe tbody tr th {\n",
       "        vertical-align: top;\n",
       "    }\n",
       "\n",
       "    .dataframe thead th {\n",
       "        text-align: right;\n",
       "    }\n",
       "</style>\n",
       "<table border=\"1\" class=\"dataframe\">\n",
       "  <thead>\n",
       "    <tr style=\"text-align: right;\">\n",
       "      <th></th>\n",
       "      <th>COMMENT_ID</th>\n",
       "      <th>AUTHOR</th>\n",
       "      <th>DATE</th>\n",
       "      <th>CONTENT</th>\n",
       "      <th>CLASS</th>\n",
       "      <th>TIME</th>\n",
       "      <th>LABEL</th>\n",
       "      <th>PREDICTIONS</th>\n",
       "    </tr>\n",
       "    <tr>\n",
       "      <th>index</th>\n",
       "      <th></th>\n",
       "      <th></th>\n",
       "      <th></th>\n",
       "      <th></th>\n",
       "      <th></th>\n",
       "      <th></th>\n",
       "      <th></th>\n",
       "      <th></th>\n",
       "    </tr>\n",
       "  </thead>\n",
       "  <tbody>\n",
       "    <tr>\n",
       "      <td>330</td>\n",
       "      <td>z12oex5p1miewvugp04cgjfqiq3xsxrolhk</td>\n",
       "      <td>Caius Ballad</td>\n",
       "      <td>2014-11-13 00:58:20</td>\n",
       "      <td>imagine if this guy put adsense on with all th...</td>\n",
       "      <td>0</td>\n",
       "      <td>AM</td>\n",
       "      <td>not spam</td>\n",
       "      <td>0</td>\n",
       "    </tr>\n",
       "    <tr>\n",
       "      <td>331</td>\n",
       "      <td>z13supiartrcdr4la22xc3aripu2x1z3a</td>\n",
       "      <td>Ink Video Shorts</td>\n",
       "      <td>2014-11-13 02:33:53</td>\n",
       "      <td>Hey come check us out were new on youtube let ...</td>\n",
       "      <td>1</td>\n",
       "      <td>AM</td>\n",
       "      <td>spam</td>\n",
       "      <td>1</td>\n",
       "    </tr>\n",
       "    <tr>\n",
       "      <td>332</td>\n",
       "      <td>z12uthyi5vratjy0v22ycxxhgpuqs5te2</td>\n",
       "      <td>Sigaraya Nesora</td>\n",
       "      <td>2014-11-13 06:33:21</td>\n",
       "      <td>The girl in the train who was dancing, her out...</td>\n",
       "      <td>0</td>\n",
       "      <td>AM</td>\n",
       "      <td>not spam</td>\n",
       "      <td>0</td>\n",
       "    </tr>\n",
       "    <tr>\n",
       "      <td>333</td>\n",
       "      <td>z131idupvn3yhf3mv23dwzhi4pqixvwuw</td>\n",
       "      <td>Александр Федоров</td>\n",
       "      <td>2014-11-13 07:59:33</td>\n",
       "      <td>Look at the pictures, if not difficult http://...</td>\n",
       "      <td>1</td>\n",
       "      <td>AM</td>\n",
       "      <td>spam</td>\n",
       "      <td>1</td>\n",
       "    </tr>\n",
       "    <tr>\n",
       "      <td>334</td>\n",
       "      <td>z12gcx5hzkayhbmve23ghd3plt2czf2rp04</td>\n",
       "      <td>ArioseRose</td>\n",
       "      <td>2014-11-13 15:20:31</td>\n",
       "      <td>Don't mind me, I'm just checking what the view...</td>\n",
       "      <td>0</td>\n",
       "      <td>PM</td>\n",
       "      <td>not spam</td>\n",
       "      <td>0</td>\n",
       "    </tr>\n",
       "    <tr>\n",
       "      <td>335</td>\n",
       "      <td>z13qhxcb2ybzszosx22rh5hwhmmccpjx404</td>\n",
       "      <td>The Silent Troll Defuser HD</td>\n",
       "      <td>2014-11-13 15:47:27</td>\n",
       "      <td>Hey guys can you check my YouTube channel I kn...</td>\n",
       "      <td>1</td>\n",
       "      <td>PM</td>\n",
       "      <td>spam</td>\n",
       "      <td>1</td>\n",
       "    </tr>\n",
       "    <tr>\n",
       "      <td>336</td>\n",
       "      <td>z12yivpznrezu3gyf04ce11xdvmquxzjdo00k</td>\n",
       "      <td>Tom Hosford</td>\n",
       "      <td>2014-11-13 17:42:06</td>\n",
       "      <td>To everyone joking about how he hacked to get ...</td>\n",
       "      <td>0</td>\n",
       "      <td>PM</td>\n",
       "      <td>not spam</td>\n",
       "      <td>0</td>\n",
       "    </tr>\n",
       "    <tr>\n",
       "      <td>337</td>\n",
       "      <td>z13uud25otb0ird2h230chu54neyehsbg04</td>\n",
       "      <td>Tofik Miedzyń</td>\n",
       "      <td>2014-11-13 21:48:26</td>\n",
       "      <td>https://www.facebook.com/tofikmiedzynB/photos/...</td>\n",
       "      <td>1</td>\n",
       "      <td>PM</td>\n",
       "      <td>spam</td>\n",
       "      <td>1</td>\n",
       "    </tr>\n",
       "    <tr>\n",
       "      <td>338</td>\n",
       "      <td>z12ozx4w5mytupefv23vvxdroqehuvbvv</td>\n",
       "      <td>MrValentinique</td>\n",
       "      <td>2014-11-13 22:33:31</td>\n",
       "      <td>https://www.facebook.com/eeccon/posts/73394924...</td>\n",
       "      <td>1</td>\n",
       "      <td>PM</td>\n",
       "      <td>spam</td>\n",
       "      <td>1</td>\n",
       "    </tr>\n",
       "    <tr>\n",
       "      <td>339</td>\n",
       "      <td>z12vvnza4rq5tvzou04cgxeookraexq5opo0k</td>\n",
       "      <td>Ghazi Rizvi</td>\n",
       "      <td>2014-11-13 23:02:09</td>\n",
       "      <td>http://www.bing.com/explore/rewards?PUBL=REFER...</td>\n",
       "      <td>1</td>\n",
       "      <td>PM</td>\n",
       "      <td>spam</td>\n",
       "      <td>1</td>\n",
       "    </tr>\n",
       "    <tr>\n",
       "      <td>340</td>\n",
       "      <td>z12exzcrvpeew1yxg04cd5tbwnmfubnh4kk0k</td>\n",
       "      <td>Anthony1SV</td>\n",
       "      <td>2014-11-14 00:01:37</td>\n",
       "      <td>Please do buy these new Christmas shirts! You ...</td>\n",
       "      <td>1</td>\n",
       "      <td>AM</td>\n",
       "      <td>spam</td>\n",
       "      <td>1</td>\n",
       "    </tr>\n",
       "  </tbody>\n",
       "</table>\n",
       "</div>"
      ],
      "text/plain": [
       "                                  COMMENT_ID                       AUTHOR  \\\n",
       "index                                                                       \n",
       "330      z12oex5p1miewvugp04cgjfqiq3xsxrolhk                 Caius Ballad   \n",
       "331        z13supiartrcdr4la22xc3aripu2x1z3a             Ink Video Shorts   \n",
       "332        z12uthyi5vratjy0v22ycxxhgpuqs5te2              Sigaraya Nesora   \n",
       "333        z131idupvn3yhf3mv23dwzhi4pqixvwuw            Александр Федоров   \n",
       "334      z12gcx5hzkayhbmve23ghd3plt2czf2rp04                   ArioseRose   \n",
       "335      z13qhxcb2ybzszosx22rh5hwhmmccpjx404  The Silent Troll Defuser HD   \n",
       "336    z12yivpznrezu3gyf04ce11xdvmquxzjdo00k                  Tom Hosford   \n",
       "337      z13uud25otb0ird2h230chu54neyehsbg04                Tofik Miedzyń   \n",
       "338        z12ozx4w5mytupefv23vvxdroqehuvbvv               MrValentinique   \n",
       "339    z12vvnza4rq5tvzou04cgxeookraexq5opo0k                  Ghazi Rizvi   \n",
       "340    z12exzcrvpeew1yxg04cd5tbwnmfubnh4kk0k                   Anthony1SV   \n",
       "\n",
       "                     DATE                                            CONTENT  \\\n",
       "index                                                                          \n",
       "330   2014-11-13 00:58:20  imagine if this guy put adsense on with all th...   \n",
       "331   2014-11-13 02:33:53  Hey come check us out were new on youtube let ...   \n",
       "332   2014-11-13 06:33:21  The girl in the train who was dancing, her out...   \n",
       "333   2014-11-13 07:59:33  Look at the pictures, if not difficult http://...   \n",
       "334   2014-11-13 15:20:31  Don't mind me, I'm just checking what the view...   \n",
       "335   2014-11-13 15:47:27  Hey guys can you check my YouTube channel I kn...   \n",
       "336   2014-11-13 17:42:06  To everyone joking about how he hacked to get ...   \n",
       "337   2014-11-13 21:48:26  https://www.facebook.com/tofikmiedzynB/photos/...   \n",
       "338   2014-11-13 22:33:31  https://www.facebook.com/eeccon/posts/73394924...   \n",
       "339   2014-11-13 23:02:09  http://www.bing.com/explore/rewards?PUBL=REFER...   \n",
       "340   2014-11-14 00:01:37  Please do buy these new Christmas shirts! You ...   \n",
       "\n",
       "       CLASS TIME     LABEL  PREDICTIONS  \n",
       "index                                     \n",
       "330        0   AM  not spam            0  \n",
       "331        1   AM      spam            1  \n",
       "332        0   AM  not spam            0  \n",
       "333        1   AM      spam            1  \n",
       "334        0   PM  not spam            0  \n",
       "335        1   PM      spam            1  \n",
       "336        0   PM  not spam            0  \n",
       "337        1   PM      spam            1  \n",
       "338        1   PM      spam            1  \n",
       "339        1   PM      spam            1  \n",
       "340        1   AM      spam            1  "
      ]
     },
     "execution_count": 125,
     "metadata": {},
     "output_type": "execute_result"
    }
   ],
   "source": [
    "testpred_result"
   ]
  },
  {
   "cell_type": "code",
   "execution_count": 126,
   "metadata": {},
   "outputs": [],
   "source": [
    "def result(thelabel):\n",
    "    if thelabel == 0:\n",
    "        return 'not spam'\n",
    "    else:\n",
    "        return 'spam'"
   ]
  },
  {
   "cell_type": "code",
   "execution_count": 127,
   "metadata": {},
   "outputs": [],
   "source": [
    "testpred_result['PREDICTIONS_LABEL'] = testpred_result['PREDICTIONS'].apply(result)"
   ]
  },
  {
   "cell_type": "code",
   "execution_count": 128,
   "metadata": {},
   "outputs": [
    {
     "data": {
      "text/html": [
       "<div>\n",
       "<style scoped>\n",
       "    .dataframe tbody tr th:only-of-type {\n",
       "        vertical-align: middle;\n",
       "    }\n",
       "\n",
       "    .dataframe tbody tr th {\n",
       "        vertical-align: top;\n",
       "    }\n",
       "\n",
       "    .dataframe thead th {\n",
       "        text-align: right;\n",
       "    }\n",
       "</style>\n",
       "<table border=\"1\" class=\"dataframe\">\n",
       "  <thead>\n",
       "    <tr style=\"text-align: right;\">\n",
       "      <th></th>\n",
       "      <th>COMMENT_ID</th>\n",
       "      <th>AUTHOR</th>\n",
       "      <th>DATE</th>\n",
       "      <th>CONTENT</th>\n",
       "      <th>CLASS</th>\n",
       "      <th>TIME</th>\n",
       "      <th>LABEL</th>\n",
       "      <th>PREDICTIONS</th>\n",
       "      <th>PREDICTIONS_LABEL</th>\n",
       "    </tr>\n",
       "    <tr>\n",
       "      <th>index</th>\n",
       "      <th></th>\n",
       "      <th></th>\n",
       "      <th></th>\n",
       "      <th></th>\n",
       "      <th></th>\n",
       "      <th></th>\n",
       "      <th></th>\n",
       "      <th></th>\n",
       "      <th></th>\n",
       "    </tr>\n",
       "  </thead>\n",
       "  <tbody>\n",
       "    <tr>\n",
       "      <td>330</td>\n",
       "      <td>z12oex5p1miewvugp04cgjfqiq3xsxrolhk</td>\n",
       "      <td>Caius Ballad</td>\n",
       "      <td>2014-11-13 00:58:20</td>\n",
       "      <td>imagine if this guy put adsense on with all th...</td>\n",
       "      <td>0</td>\n",
       "      <td>AM</td>\n",
       "      <td>not spam</td>\n",
       "      <td>0</td>\n",
       "      <td>not spam</td>\n",
       "    </tr>\n",
       "    <tr>\n",
       "      <td>331</td>\n",
       "      <td>z13supiartrcdr4la22xc3aripu2x1z3a</td>\n",
       "      <td>Ink Video Shorts</td>\n",
       "      <td>2014-11-13 02:33:53</td>\n",
       "      <td>Hey come check us out were new on youtube let ...</td>\n",
       "      <td>1</td>\n",
       "      <td>AM</td>\n",
       "      <td>spam</td>\n",
       "      <td>1</td>\n",
       "      <td>spam</td>\n",
       "    </tr>\n",
       "    <tr>\n",
       "      <td>332</td>\n",
       "      <td>z12uthyi5vratjy0v22ycxxhgpuqs5te2</td>\n",
       "      <td>Sigaraya Nesora</td>\n",
       "      <td>2014-11-13 06:33:21</td>\n",
       "      <td>The girl in the train who was dancing, her out...</td>\n",
       "      <td>0</td>\n",
       "      <td>AM</td>\n",
       "      <td>not spam</td>\n",
       "      <td>0</td>\n",
       "      <td>not spam</td>\n",
       "    </tr>\n",
       "    <tr>\n",
       "      <td>333</td>\n",
       "      <td>z131idupvn3yhf3mv23dwzhi4pqixvwuw</td>\n",
       "      <td>Александр Федоров</td>\n",
       "      <td>2014-11-13 07:59:33</td>\n",
       "      <td>Look at the pictures, if not difficult http://...</td>\n",
       "      <td>1</td>\n",
       "      <td>AM</td>\n",
       "      <td>spam</td>\n",
       "      <td>1</td>\n",
       "      <td>spam</td>\n",
       "    </tr>\n",
       "    <tr>\n",
       "      <td>334</td>\n",
       "      <td>z12gcx5hzkayhbmve23ghd3plt2czf2rp04</td>\n",
       "      <td>ArioseRose</td>\n",
       "      <td>2014-11-13 15:20:31</td>\n",
       "      <td>Don't mind me, I'm just checking what the view...</td>\n",
       "      <td>0</td>\n",
       "      <td>PM</td>\n",
       "      <td>not spam</td>\n",
       "      <td>0</td>\n",
       "      <td>not spam</td>\n",
       "    </tr>\n",
       "    <tr>\n",
       "      <td>335</td>\n",
       "      <td>z13qhxcb2ybzszosx22rh5hwhmmccpjx404</td>\n",
       "      <td>The Silent Troll Defuser HD</td>\n",
       "      <td>2014-11-13 15:47:27</td>\n",
       "      <td>Hey guys can you check my YouTube channel I kn...</td>\n",
       "      <td>1</td>\n",
       "      <td>PM</td>\n",
       "      <td>spam</td>\n",
       "      <td>1</td>\n",
       "      <td>spam</td>\n",
       "    </tr>\n",
       "    <tr>\n",
       "      <td>336</td>\n",
       "      <td>z12yivpznrezu3gyf04ce11xdvmquxzjdo00k</td>\n",
       "      <td>Tom Hosford</td>\n",
       "      <td>2014-11-13 17:42:06</td>\n",
       "      <td>To everyone joking about how he hacked to get ...</td>\n",
       "      <td>0</td>\n",
       "      <td>PM</td>\n",
       "      <td>not spam</td>\n",
       "      <td>0</td>\n",
       "      <td>not spam</td>\n",
       "    </tr>\n",
       "    <tr>\n",
       "      <td>337</td>\n",
       "      <td>z13uud25otb0ird2h230chu54neyehsbg04</td>\n",
       "      <td>Tofik Miedzyń</td>\n",
       "      <td>2014-11-13 21:48:26</td>\n",
       "      <td>https://www.facebook.com/tofikmiedzynB/photos/...</td>\n",
       "      <td>1</td>\n",
       "      <td>PM</td>\n",
       "      <td>spam</td>\n",
       "      <td>1</td>\n",
       "      <td>spam</td>\n",
       "    </tr>\n",
       "    <tr>\n",
       "      <td>338</td>\n",
       "      <td>z12ozx4w5mytupefv23vvxdroqehuvbvv</td>\n",
       "      <td>MrValentinique</td>\n",
       "      <td>2014-11-13 22:33:31</td>\n",
       "      <td>https://www.facebook.com/eeccon/posts/73394924...</td>\n",
       "      <td>1</td>\n",
       "      <td>PM</td>\n",
       "      <td>spam</td>\n",
       "      <td>1</td>\n",
       "      <td>spam</td>\n",
       "    </tr>\n",
       "    <tr>\n",
       "      <td>339</td>\n",
       "      <td>z12vvnza4rq5tvzou04cgxeookraexq5opo0k</td>\n",
       "      <td>Ghazi Rizvi</td>\n",
       "      <td>2014-11-13 23:02:09</td>\n",
       "      <td>http://www.bing.com/explore/rewards?PUBL=REFER...</td>\n",
       "      <td>1</td>\n",
       "      <td>PM</td>\n",
       "      <td>spam</td>\n",
       "      <td>1</td>\n",
       "      <td>spam</td>\n",
       "    </tr>\n",
       "    <tr>\n",
       "      <td>340</td>\n",
       "      <td>z12exzcrvpeew1yxg04cd5tbwnmfubnh4kk0k</td>\n",
       "      <td>Anthony1SV</td>\n",
       "      <td>2014-11-14 00:01:37</td>\n",
       "      <td>Please do buy these new Christmas shirts! You ...</td>\n",
       "      <td>1</td>\n",
       "      <td>AM</td>\n",
       "      <td>spam</td>\n",
       "      <td>1</td>\n",
       "      <td>spam</td>\n",
       "    </tr>\n",
       "  </tbody>\n",
       "</table>\n",
       "</div>"
      ],
      "text/plain": [
       "                                  COMMENT_ID                       AUTHOR  \\\n",
       "index                                                                       \n",
       "330      z12oex5p1miewvugp04cgjfqiq3xsxrolhk                 Caius Ballad   \n",
       "331        z13supiartrcdr4la22xc3aripu2x1z3a             Ink Video Shorts   \n",
       "332        z12uthyi5vratjy0v22ycxxhgpuqs5te2              Sigaraya Nesora   \n",
       "333        z131idupvn3yhf3mv23dwzhi4pqixvwuw            Александр Федоров   \n",
       "334      z12gcx5hzkayhbmve23ghd3plt2czf2rp04                   ArioseRose   \n",
       "335      z13qhxcb2ybzszosx22rh5hwhmmccpjx404  The Silent Troll Defuser HD   \n",
       "336    z12yivpznrezu3gyf04ce11xdvmquxzjdo00k                  Tom Hosford   \n",
       "337      z13uud25otb0ird2h230chu54neyehsbg04                Tofik Miedzyń   \n",
       "338        z12ozx4w5mytupefv23vvxdroqehuvbvv               MrValentinique   \n",
       "339    z12vvnza4rq5tvzou04cgxeookraexq5opo0k                  Ghazi Rizvi   \n",
       "340    z12exzcrvpeew1yxg04cd5tbwnmfubnh4kk0k                   Anthony1SV   \n",
       "\n",
       "                     DATE                                            CONTENT  \\\n",
       "index                                                                          \n",
       "330   2014-11-13 00:58:20  imagine if this guy put adsense on with all th...   \n",
       "331   2014-11-13 02:33:53  Hey come check us out were new on youtube let ...   \n",
       "332   2014-11-13 06:33:21  The girl in the train who was dancing, her out...   \n",
       "333   2014-11-13 07:59:33  Look at the pictures, if not difficult http://...   \n",
       "334   2014-11-13 15:20:31  Don't mind me, I'm just checking what the view...   \n",
       "335   2014-11-13 15:47:27  Hey guys can you check my YouTube channel I kn...   \n",
       "336   2014-11-13 17:42:06  To everyone joking about how he hacked to get ...   \n",
       "337   2014-11-13 21:48:26  https://www.facebook.com/tofikmiedzynB/photos/...   \n",
       "338   2014-11-13 22:33:31  https://www.facebook.com/eeccon/posts/73394924...   \n",
       "339   2014-11-13 23:02:09  http://www.bing.com/explore/rewards?PUBL=REFER...   \n",
       "340   2014-11-14 00:01:37  Please do buy these new Christmas shirts! You ...   \n",
       "\n",
       "       CLASS TIME     LABEL  PREDICTIONS PREDICTIONS_LABEL  \n",
       "index                                                       \n",
       "330        0   AM  not spam            0          not spam  \n",
       "331        1   AM      spam            1              spam  \n",
       "332        0   AM  not spam            0          not spam  \n",
       "333        1   AM      spam            1              spam  \n",
       "334        0   PM  not spam            0          not spam  \n",
       "335        1   PM      spam            1              spam  \n",
       "336        0   PM  not spam            0          not spam  \n",
       "337        1   PM      spam            1              spam  \n",
       "338        1   PM      spam            1              spam  \n",
       "339        1   PM      spam            1              spam  \n",
       "340        1   AM      spam            1              spam  "
      ]
     },
     "execution_count": 128,
     "metadata": {},
     "output_type": "execute_result"
    }
   ],
   "source": [
    "testpred_result"
   ]
  },
  {
   "cell_type": "markdown",
   "metadata": {},
   "source": [
    "**As the conclusion, the data normalization, vectorization, and TF-IDF method used on this notebook work well to get a good model to be used later to predict new comment classification.**"
   ]
  },
  {
   "cell_type": "markdown",
   "metadata": {},
   "source": [
    "(end of notebook)."
   ]
  }
 ],
 "metadata": {
  "kernelspec": {
   "display_name": "Python 3",
   "language": "python",
   "name": "python3"
  },
  "language_info": {
   "codemirror_mode": {
    "name": "ipython",
    "version": 3
   },
   "file_extension": ".py",
   "mimetype": "text/x-python",
   "name": "python",
   "nbconvert_exporter": "python",
   "pygments_lexer": "ipython3",
   "version": "3.7.4"
  }
 },
 "nbformat": 4,
 "nbformat_minor": 2
}
